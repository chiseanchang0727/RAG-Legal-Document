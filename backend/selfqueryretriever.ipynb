{
 "cells": [
  {
   "cell_type": "code",
   "execution_count": 36,
   "metadata": {},
   "outputs": [],
   "source": [
    "import os\n",
    "import re\n",
    "import json\n",
    "import pandas as pd\n",
    "from src.utils import read_config\n",
    "from prompts import gemini_prompts\n",
    "import google.generativeai as genai\n",
    "import google.ai.generativelanguage as glm\n",
    "\n",
    "from langchain_huggingface import HuggingFaceEmbeddings\n",
    "from langchain.document_loaders import DataFrameLoader\n",
    "from langchain.text_splitter import RecursiveCharacterTextSplitter\n",
    "from langchain_community.vectorstores.faiss import FAISS, DistanceStrategy\n",
    "from langchain.chains import RetrievalQA\n",
    "from langchain.chains import ConversationalRetrievalChain\n",
    "from langchain.prompts import PromptTemplate\n",
    "from langchain_google_genai import (\n",
    "    ChatGoogleGenerativeAI,\n",
    "    HarmBlockThreshold,\n",
    "    HarmCategory,\n",
    ")\n",
    "\n",
    "from langchain.chains.query_constructor.base import AttributeInfo\n",
    "from langchain.retrievers.self_query.base import SelfQueryRetriever\n",
    "\n",
    "import warnings\n",
    "warnings.filterwarnings(\"ignore\", category=DeprecationWarning)"
   ]
  },
  {
   "cell_type": "markdown",
   "metadata": {},
   "source": [
    "## 0609 notes\n",
    "1. Add KG(knowledge graph) as part of metadata\n",
    "2. Use SelfQueryRetriver to get the top_k answer\n",
    "3. Override the `_get_docs_with_query` to use the `similarity_search_with_score` method(or with `similarity_search_with_score_by_vector`)"
   ]
  },
  {
   "cell_type": "code",
   "execution_count": 2,
   "metadata": {},
   "outputs": [
    {
     "data": {
      "text/plain": [
       "(76, 5)"
      ]
     },
     "execution_count": 2,
     "metadata": {},
     "output_type": "execute_result"
    }
   ],
   "source": [
    "organized_result = pd.read_csv('temp_result/organized_result_1.csv')\n",
    "organized_result.shape"
   ]
  },
  {
   "cell_type": "code",
   "execution_count": 32,
   "metadata": {},
   "outputs": [
    {
     "data": {
      "text/plain": [
       "Index(['document', 'target', 'reason', 'fact', 'metadata'], dtype='object')"
      ]
     },
     "execution_count": 32,
     "metadata": {},
     "output_type": "execute_result"
    }
   ],
   "source": [
    "organized_result.columns"
   ]
  },
  {
   "cell_type": "code",
   "execution_count": 3,
   "metadata": {},
   "outputs": [],
   "source": [
    "configs = read_config('.env/configs.json')\n",
    "api_key =configs['g_key']\n",
    "os.environ[\"GOOGLE_API_KEY\"] = api_key\n",
    "genai.configure(api_key=api_key)"
   ]
  },
  {
   "cell_type": "code",
   "execution_count": 4,
   "metadata": {},
   "outputs": [],
   "source": [
    "text_splitter = RecursiveCharacterTextSplitter(\n",
    "    chunk_size = 1000,\n",
    "    chunk_overlap = 500,\n",
    "    length_function= len\n",
    ")"
   ]
  },
  {
   "cell_type": "code",
   "execution_count": 5,
   "metadata": {},
   "outputs": [
    {
     "name": "stdout",
     "output_type": "stream",
     "text": [
      "已為所有文件進行 chunk  76 筆\n"
     ]
    }
   ],
   "source": [
    "reason_loader = DataFrameLoader(organized_result, page_content_column='reason')\n",
    "reason_data = reason_loader.load()\n",
    "\n",
    "target_loader = DataFrameLoader(organized_result, page_content_column='target')\n",
    "target_data = target_loader.load()\n",
    "\n",
    "reason_documents = text_splitter.transform_documents(reason_data)\n",
    "print(\"已為所有文件進行 chunk \",len(reason_documents),\"筆\")"
   ]
  },
  {
   "cell_type": "code",
   "execution_count": 35,
   "metadata": {},
   "outputs": [
    {
     "data": {
      "text/plain": [
       "{'document': '34829.pdf',\n",
       " 'target': '行政院原住民族委員會及花蓮縣政府',\n",
       " 'fact': '據立法委員函轉民眾陳訴行政院原住民族委員會(下稱原民會)補助花蓮區漁會給二予漁民架設衛星導航系統疑有弊端，惟該會遲未盡查處之責，涉有違失等情經本院調查結果，行政院原住民族委員會及花蓮縣政府辦理補助花蓮區漁會採購「三機一體彩色漁探衛星導航電子海圖儀及船用ＤＳＢ無線電對講機」乙案，確有下列違失一、花蓮區漁會辦理「三機一體彩色漁探衛星導航電子海圖儀及船用ＤＳＢ無線電對講機採購案」，未能確實依政府採購法之規定辦理，採購作業錯誤叢生，補助機關行政院原住民族委員會及花蓮縣政府原住民行政局顯然疏於監督，核有未當，應予檢討改進(一)查行政院原住民族委員會民國(下同)九十二年度補助花蓮縣政府支付花蓮區漁會辦理部落產業發展計畫｜東海岸原住民漁業輔導計畫經費新台幣(下同)一七七萬元，並納入該府預算執行，其中花蓮區漁會辦理「三機一體彩色漁探衛星導航電子海圖儀及船用ＤＳＢ無線電對講機採購案」，於九十二年十月十四日開標，由友漁企業公司以一二五萬元得標，惟經查該漁會辦理該採購案違反政府採購法諸多規定，核有下列缺失１、該漁會收受三家廠商投標文件，未於標封袋登記廠商送達方式與時間，亦無簽收紀錄可稽；審查廠商投標作業，僅於證件封袋上予以勾選，無審查之人員簽名負責；又未能提供廠商繳納押標金之紀錄憑核，對於其繳交之額度、支票號碼及領回日期等資料，均無從查核２、該採購案並非特殊或鉅額採購，卻限定投標資格為資本額新台幣五百萬元以上之廠商，上開廠商須具有相當財力之規定，核與政府採購法第三十六條第二項暨「投三標廠商資格與特殊或巨額採購認定標準」第五條第一項第三款規定不符核有非屬特殊或鉅額採購，卻限定財力之特定資格，不當限制廠商競爭之情事，顯已違反採購法第三十七條「機關訂定投標廠商之資格，不得不當限制競爭，並以確認廠商具備履行契約所必須之能力者為限」之規定３、該採購案招標公告刊登標的名稱為「漁船衛星定位儀及通訊系統工程採購」及標的分類為「漁業工程」，惟查採購合約名稱為「三機一體彩色漁探衛星導航電子海圖儀及船用ＤＳＢ無線電對講機」，且實際辦理內容則為設備類之財物採購，核有採購屬性刊登錯誤４、該採購案未得標廠商陸青科技股份有限公司，其營利事業登記證、經濟部公司執照及交通部電信管制器材經營許可執照，營業項目及範圍並無航海儀器乙項，應為不合格標，惟該會審查為合格標該會顯未按招標公告廠商資格規定審標，違反政府採購法第五十一條，機關應依招標文件規定之條件，審查廠商投標文件之規定５、該採購案招標規格中所列液晶顯示幕規格為八吋以上，是否含螢幕及外包框架尺寸計，招標文件所列規格未能明確詳盡，可能導致投標廠商誤解，影響招標之公平性６、該採購案於九十二年十月十六日決標，迄九十三年七月十二日止，該漁會仍未辦理決標公告，核與政府採購法第六十一條暨同法施行細則第八十四條，機關辦理四公告金額以上採購之招標，應自決標日起三十日內，將決標結果之公告刊登於政府採購公報之規定未符７、該採購案承包廠商友漁企業有限公司開立九十二年十二月十日統一發票(發票編號ＷＷ４３４６７８０３)金額一○五萬元，向花蓮區漁會請款，其請款日期較驗收日期(九十二年十二月十七日)為早，而按合約規定該漁會應予以退回卻未退回又查廠商向十位受補助戶收取配合款二萬元，其開立之發票日期亦為同年月十日，顯然友漁企業有限公司在未經驗收完成之情況下，即提早向受補助戶收取配合款項，亦核與合約規定不符，顯有影響受補助原住民漁民權益之情事８、該漁會未能提供初驗紀錄及驗收紀綠文件憑核，核與政府採購法第七十二條，機關辦理驗收時應製作紀錄，由參加人員會同簽認，及合約第七條，甲方應於收受乙方申請初驗通知及送審之相關資料之日起二十日內辦理初驗並作成初驗紀錄，初驗合格後，應於二十日內辦理正式驗收，並作成驗收紀錄之規定不符９、該採購案承包廠商友漁企業有限公司未按合約規定提供保固切結書，核與合約第十一條規定，在甲方驗收合格之次日起一年內，由乙方保固切結之規定未符１０、合約簽訂未將採購標的之設備技術規格納入合約規範，影響受補助原住民漁民權益(二)依政府採購法第四條規定「法人或團體接受機關補助辦理採購，其補助金額占採購金額半數以上，且補助金額在公告金額以上者，適用本法之規定，並應受該機關之五監督」同法施行細則第二條規定「機關補助法人或團體辦理採購，其補助金額達本法第四條規定者，受補助者於辦理開標、比價、議價、決標及驗收時，應受該機關監督前項採購關於本法及本細則規定上級機關行使之事項，由本法第四條所定監督機關為之」及第三條規定「本法第四條所定補助金額，於二以上機關補助法人或團體辦理同一採購者，以其補助總金額計算之補助總金額達本法第四條規定者，受補助者應通知各補助機關，並由各補助機關共同或指定代表機關辦理監督本法第四條所稱接受機關補助辦理採購，包括法人或團體接受機關獎助、捐助或以其他類似方式動支機關經費辦理之採購本法第四條之採購，其受理申訴之採購申訴審議委員會，為受理補助機關自行辦理採購之申訴之採購申訴審議委員會；其有第一項之情形者，依指定代表機關或所占補助金額比率最高者認定之」又行政院公共工程委員會於民國八十八年七月八日以(八八)工程企字第八八○九六三九號函釋略以「政府採購法第四條規定之『補助金額』，係以個別採購案認定故只要個別採購案動支政府補助款之金額未達公告金額，即不適用政府採購法」查花蓮區漁會辦理「三機一體彩色漁探衛星導航電子海圖儀及船用ＤＳＢ無線電對講機採購案」，係由原民會核撥花蓮縣政府後，納入預算全數補助，金額為一○五萬元，在政府採購法公告金額(一○○萬元)以上，而補助機關原民會及花蓮縣政府並未事先協調指定代表機關辦理監督，致依法應由原民會及花蓮縣政府共同辦理之監督，卻疏未監督，致上開採購作業錯誤叢生，顯難辭疏於監督之責六二、花蓮區漁會辦理「三機一體彩色漁探衛星導航電子海圖儀及船用ＤＳＢ無線電對講機採購案」，未依規定辦理驗收作業，核銷時亦未檢附初驗紀錄及驗收紀錄，惟花蓮縣政府卻仍予付款，核有核銷作業之疏失依據行政院主計處訂定之「內部審核處理準則」第十七條第一項規定「各機關會計人員審核原始憑證發現有下列情形之一者，應使之更正或拒絕簽署一、未註明用途或案據者二、依照法律或習慣應有之主要書據缺少或形式不具備者三、未依政府採購或財物處分相關法令規定程序辦理者四、應經機關長官或事項之主管或主辦人員之簽名或蓋章，而未經其簽名或蓋章者五、應經經手人、品質驗收人、數量驗收人及保管人簽名或蓋章而未經其簽名或蓋章者；或應附送品質或數量驗收之證明文件而未附送者六、關係財物增減、保管、移轉之事項時，應經主辦經理事務人員簽名或蓋章，而未經其簽名或蓋章者七、書據之數字或文字有塗改痕跡，而塗改處未經負責人員簽名或蓋章證明者八、書據上表示金額或數量之文字、號碼不符者九、其他與法令不符者」惟查花蓮區漁會辦理「三機一體彩色漁探衛星導航電子海圖儀及船用ＤＳＢ無線電對講機採購案」並未依規定辦理驗收作業，核銷時未檢附初驗紀錄及驗收紀錄，惟花蓮縣政府卻仍予付款，業務單位原住民行政局顯未盡監督該漁會遵循採購合法程序之責；又內部審核單位僅於九十二年十月三十日預付費用撥款時核章，該漁會同年十二月檢具相關原始憑證核銷時，內部審核單位未核章，卻仍予沖轉列帳據上，花蓮縣政府辦理該補助案件權責單位相關人員，顯未覈實辦理核七銷及善盡審核監督之責，核有核銷作業疏失三、花蓮縣政府對於補助案件未訂定明確作業規範，以供受補助單位辦理採購案件時應行遵循事項、採購案件之監辦、經費核銷、及追蹤考核之依據，核有未當經查花蓮縣政府辦理補助花蓮區漁會辦理「三機一體彩色漁探衛星導航電子海圖儀及船用ＤＳＢ無線電對講機採購案」，僅依據中央對臺灣省各縣(市)政府計畫及預算考核要點第四點(六)５〃規定略以「前４規定之民間團體，如單位受補(捐)助超過新台幣十萬元或同一年度累計受補(捐)助金額超過新台幣三十萬元時，應將實際支用經費明細表及其成果報告，送各該補(捐)助之縣(市)政府備查」之規定函請花蓮區漁會將實際支用經費明細表及其成果報告送府，並依行政院原住民族委員會核定九十二年度部落社區產業發展計畫第拾壹點實施辦法及東海岸原住民漁業輔導計畫規定，請花蓮區漁會按月填報執行進度表送府管控執行進度，並配合行政院原住民族委員會辦理書面考核業務惟該府對於受補助單位辦理採購案件應行遵循事項、採購案件之監辦、經費核銷、追蹤考核等情形之作業規範及審核程序付諸闕如，致花蓮區漁會對於應通知該府辦理監辦函件有無確實送達，毫無控管，無從掌握，辦理該採購案件發生前揭諸多違反政府採購法之情形，該府仍予核銷付款，顯有未當四、行政院原住民族委員會對於「原住民新部落運動計畫｜部落社區發展計畫｜東海岸原住民漁業輔導計畫」補助款納入花蓮縣政府預算執行，惟未要求該府訂立補助款作業規範，亦未確實監督其執行情形，而查證工作流於形式，應予檢討改進八經查原民會辦理九十二年度有關「原住民新部落運動計畫｜部落社區發展計畫｜東海岸原住民漁業輔導計畫」係由花蓮縣政府先行辦理初審，並核轉該會複審本計畫經函知花蓮縣政府核定結果，並撥付補助款項後，即由該府納入年度預算，惟對於補助款辦理採購案件監辦之權責劃分未事先協調，且對於該府實際辦理情形有無相關作業規範及確實與否，恝置不理，雖該會依據年度施政計畫管制及查證作業注意事項辦理九十二年度施政計畫管制｜期中查證計畫，然查證以業務訪問為主，對補助款流向無法確實掌握，致該會及花蓮縣政府對於花蓮區漁會辦理「三機一體彩色漁探衛星導航電子海圖儀及船用ＤＳＢ無線電對講機採購案」之機器廠牌、規格型號及發票等重要資料，毫無所悉該採購案實際補助機關應為原民會，該會卻疏於管控花蓮縣政府實際執行情形並訂立周延作業規範，顯然難辭監督不周之責五、行政院原住民族委員會遲延查復立法委員及本院函詢有關花蓮區漁會辦理衛星定位儀(三合一漁探機)ＧＰＳ採購案，行政效率不彰，應併予檢討改進(一)據立法委員陳訴，九十二年十一月向原民會索取該會補助花蓮縣政府辦理補助花蓮區漁會辦理「三機一體彩色漁探衛星導航電子海圖儀及船用ＤＳＢ無線電對講機採購案」相關資料，惟該會非但對補助款流向不清楚，且未曾督促花蓮縣政府轉促該漁會儘速提出九十二年底預算執行之結案報告，案經楊委員二度於立法院內政及民族委員會內質詢，並囑付原民會經建處相關人員後，承辦科直到四月為止僅提供花蓮區漁會執行情形報告一份但報告中未見機器廠牌、規格型號及發票等重要資料，九經楊委員辦公室再洽原民會，相關承辦人方表示未詳讀該資料且對此疏失渾然不知嗣再經該辦公室數次電話聯絡，承辦人員及直屬長官仍無法就該採購案詳加了解並追究迨楊委員續於立法院第五屆第五會期以書面資詢該採購案，該會始以九十三年六月二十五日原民經字第○九三○○一五八六九號函覆，然已時隔七個月之久，顯見該會因循敷衍，殊有不當(二)復依事務管理規則第三章文書流程管理第二十九、三十、三十一條分別規定「各機關應全面實施文書流程管理，並依文書性質、流程及相關法令規定處理時限，確實督促各級人員依限辦結，以有效提升行政效能」、「文書流程管理，除應由各級人員自我管理外，另包括文書稽催、時效統計分析及流程簡化等工作，並應分層逐級實施管制，以明權責前項文書稽催、時效統計分析及流程簡化等工作，各機關應指定單位或指派專人負責辦理」、「各機關對文書處理流程、時效及品質，應訂定稽核項目及基準，隨時抽查或定期檢查，並適時檢討改進，作為宣導、考核、獎懲之依據」及第二章檢核要點第四○○條規定「文書處理之檢核要項如左一、各項文書處理手續，是否迅速確實……六、公文時效管制制度，是否徹底實施七、文書稽催，是否徹底執行……」原民會依法應實施文書流程管理，隨時管控文書處理時效，並適時檢討改進，以為考核、獎懲之依據(三)惟查本院為調查本案需要，於九十三年六月二十三日以本院監察調查處(九三)處台調參字第○九三○八○四○四五號函請原民會於文到二十日內提供相關資料，經本一○院數度電洽及審計部於同年七月二十一日及八月二十七日分別以台審部壹字第○九三○○○三二六六號及○九三○○○四二九○號函一再催辦，原民會仍未積極稽催辦理，非但未曾主動聯繫，亦未正式函文要求展延，行事敷衍推拖，遲至同年七月二十七日始派員赴花蓮查勘受補助漁船衞星定位儀(三機一體漁探機)ＧＰＳ之装設實况，取得該採購案購置之型號、廠牌規格等資料，並列舉查復事項交由花蓮縣政府辦理，該府嗣於同年九月十五日以府原經字第○九三○一三○二一一○號函覆該會然該會復遲於同年十月廿二日方以原民經字第○九三○○二八八四○號函，始將相關資料送達本院，延誤本案調查時效，行政效率顯然不彰，且疏於管控文書處理流程及時效，核有違失，應併予檢討改進綜上所述，花蓮區漁會辦理「三機一體彩色漁探衛星導航電子海圖儀及船用ＤＳＢ無線電對講機採購案」，未能確實依政府採購法之規定辦理，採購作業錯誤叢生，補助機關行政院原住民族委員會及花蓮縣政府原住民行政局顯然疏於監督；又花蓮區漁會辦理該採購案，未依規定辦理驗收作業，核銷時亦未檢附初驗紀錄及驗收紀錄，惟花蓮縣政府卻仍予付款，顯未覈實辦理核銷及善盡審核監督之責；花蓮縣政府對於補助案件未訂定明確作業規範，以供受補助單位辦理採購案件時應行遵循事項、採購案件之監辦、經費核銷、及追蹤考核之依據；行政院原住民族委員會對於「原住民新部落運動計畫｜部落社區發展計畫｜東海岸原住民漁業輔導計畫」補助款納入花蓮縣政府預算執行，惟未要求該府訂立補助款作業規範，亦未確實監督其執行情形，而查證工作流於形式；行一一政院原住民族委員會遲延查復立法委員及本院函詢有關花蓮區漁會辦理衛星定位儀(三合一漁探機)ＧＰＳ採購案，行政效率不彰等情，均有重大違失，爰依監察法第二十四條提案糾正，送請行政院轉飭所屬原住民族委員會及花蓮縣政府確實檢討改進見復提案委員中華民國九十三年月日',\n",
       " 'metadata': '{\\'kw\\': \"[\\'政府\\', \\'行政院\\', \\'案件\\', \\'原住民\\', \\'計畫\\', \\'漁探機\\', \\'本院\\', \\'行政效率\\', \\'部落\\', \\'未能\\']\", \\'ks\\': \"[\\'據立法委員函轉民眾陳訴行政院原住民族委員會(下稱原民會)補助花蓮區漁會給二予漁民架設衛星導航系統疑有弊端，惟該會遲未盡查處之責，涉有違失等情經本院調查結果，行政院原住民族委員會及花蓮縣政府辦理補助花蓮區漁會採購「三機一體彩色漁探衛星導航電子海圖儀及船用ＤＳＢ無線電對講機」乙案，確有下列違失一、花蓮區漁會辦理「三機一體彩色漁探衛星導航電子海圖儀及船用ＤＳＢ無線電對講機採購案」，未能確實依政府採購法之規定辦理，採購作業錯誤叢生，補助機關行政院原住民族委員會及花蓮縣政府原住民行政局顯然疏於監督，核有未當，應予檢討改進(一)查行政院原住民族委員會民國(下同)九十二年度補助花蓮縣政府支付花蓮區漁會辦理部落產業發展計畫｜東海岸原住民漁業輔導計畫經費新台幣(下同)一七七萬元，並納入該府預算執行，其中花蓮區漁會辦理「三機一體彩色漁探衛星導航電子海圖儀及船用ＤＳＢ無線電對講機採購案」，於九十二年十月十四日開標，由友漁企業公司以一二五萬元得標，惟經查該漁會辦理該採購案違反政府採購法諸多規定，核有下列缺失１、該漁會收受三家廠商投標文件，未於標封袋登記廠商送達方式與時間，亦無簽收紀錄可稽；審查廠商投標作業，僅於證件封袋上予以勾選，無審查之人員簽名負責；又未能提供廠商繳納押標金之紀錄憑核，對於其繳交之額度、支票號碼及領回日期等資料，均無從查核２、該採購案並非特殊或鉅額採購，卻限定投標資格為資本額新台幣五百萬元以上之廠商，上開廠商須具有相當財力之規定，核與政府採購法第三十六條第二項暨「投三標廠商資格與特殊或巨額採購認定標準」第五條第一項第三款規定不符核有非屬特殊或鉅額採購，卻限定財力之特定資格，不當限制廠商競爭之情事，顯已違反採購法第三十七條「機關訂定投標廠商之資格，不得不當限制競爭，並以確認廠商具備履行契約所必須之能力者為限」之規定３、該採購案招標公告刊登標的名稱為「漁船衛星定位儀及通訊系統工程採購」及標的分類為「漁業工程」，惟查採購合約名稱為「三機一體彩色漁探衛星導航電子海圖儀及船用ＤＳＢ無線電對講機」，且實際辦理內容則為設備類之財物採購，核有採購屬性刊登錯誤４、該採購案未得標廠商陸青科技股份有限公司，其營利事業登記證、經濟部公司執照及交通部電信管制器材經營許可執照，營業項目及範圍並無航海儀器乙項，應為不合格標，惟該會審查為合格標該會顯未按招標公告廠商資格規定審標，違反政府採購法第五十一條，機關應依招標文件規定之條件，審查廠商投標文件之規定５、該採購案招標規格中所列液晶顯示幕規格為八吋以上，是否含螢幕及外包框架尺寸計，招標文件所列規格未能明確詳盡，可能導致投標廠商誤解，影響招標之公平性６、該採購案於九十二年十月十六日決標，迄九十三年七月十二日止，該漁會仍未辦理決標公告，核與政府採購法第六十一條暨同法施行細則第八十四條，機關辦理四公告金額以上採購之招標，應自決標日起三十日內，將決標結果之公告刊登於政府採購公報之規定未符７、該採購案承包廠商友漁企業有限公司開立九十二年十二月十日統一發票(發票編號ＷＷ４３４６７８０３)金額一○五萬元，向花蓮區漁會請款，其請款日期較驗收日期(九十二年十二月十七日)為早，而按合約規定該漁會應予以退回卻未退回又查廠商向十位受補助戶收取配合款二萬元，其開立之發票日期亦為同年月十日，顯然友漁企業有限公司在未經驗收完成之情況下，即提早向受補助戶收取配合款項，亦核與合約規定不符，顯有影響受補助原住民漁民權益之情事８、該漁會未能提供初驗紀錄及驗收紀綠文件憑核，核與政府採購法第七十二條，機關辦理驗收時應製作紀錄，由參加人員會同簽認，及合約第七條，甲方應於收受乙方申請初驗通知及送審之相關資料之日起二十日內辦理初驗並作成初驗紀錄，初驗合格後，應於二十日內辦理正式驗收，並作成驗收紀錄之規定不符９、該採購案承包廠商友漁企業有限公司未按合約規定提供保固切結書，核與合約第十一條規定，在甲方驗收合格之次日起一年內，由乙方保固切結之規定未符１０、合約簽訂未將採購標的之設備技術規格納入合約規範，影響受補助原住民漁民權益(二)依政府採購法第四條規定「法人或團體接受機關補助辦理採購，其補助金額占採購金額半數以上，且補助金額在公告金額以上者，適用本法之規定，並應受該機關之五監督」同法施行細則第二條規定「機關補助法人或團體辦理採購，其補助金額達本法第四條規定者，受補助者於辦理開標、比價、議價、決標及驗收時，應受該機關監督前項採購關於本法及本細則規定上級機關行使之事項，由本法第四條所定監督機關為之」及第三條規定「本法第四條所定補助金額，於二以上機關補助法人或團體辦理同一採購者，以其補助總金額計算之補助總金額達本法第四條規定者，受補助者應通知各補助機關，並由各補助機關共同或指定代表機關辦理監督本法第四條所稱接受機關補助辦理採購，包括法人或團體接受機關獎助、捐助或以其他類似方式動支機關經費辦理之採購本法第四條之採購，其受理申訴之採購申訴審議委員會，為受理補助機關自行辦理採購之申訴之採購申訴審議委員會；其有第一項之情形者，依指定代表機關或所占補助金額比率最高者認定之」又行政院公共工程委員會於民國八十八年七月八日以(八八)工程企字第八八○九六三九號函釋略以「政府採購法第四條規定之『補助金額』，係以個別採購案認定故只要個別採購案動支政府補助款之金額未達公告金額，即不適用政府採購法」查花蓮區漁會辦理「三機一體彩色漁探衛星導航電子海圖儀及船用ＤＳＢ無線電對講機採購案」，係由原民會核撥花蓮縣政府後，納入預算全數補助，金額為一○五萬元，在政府採購法公告金額(一○○萬元)以上，而補助機關原民會及花蓮縣政府並未事先協調指定代表機關辦理監督，致依法應由原民會及花蓮縣政府共同辦理之監督，卻疏未監督，致上開採購作業錯誤叢生，顯難辭疏於監督之責六二、花蓮區漁會辦理「三機一體彩色漁探衛星導航電子海圖儀及船用ＤＳＢ無線電對講機採購案」，未依規定辦理驗收作業，核銷時亦未檢附初驗紀錄及驗收紀錄，惟花蓮縣政府卻仍予付款，核有核銷作業之疏失依據行政院主計處訂定之「內部審核處理準則」第十七條第一項規定「各機關會計人員審核原始憑證發現有下列情形之一者，應使之更正或拒絕簽署一、未註明用途或案據者二、依照法律或習慣應有之主要書據缺少或形式不具備者三、未依政府採購或財物處分相關法令規定程序辦理者四、應經機關長官或事項之主管或主辦人員之簽名或蓋章，而未經其簽名或蓋章者五、應經經手人、品質驗收人、數量驗收人及保管人簽名或蓋章而未經其簽名或蓋章者；或應附送品質或數量驗收之證明文件而未附送者六、關係財物增減、保管、移轉之事項時，應經主辦經理事務人員簽名或蓋章，而未經其簽名或蓋章者七、書據之數字或文字有塗改痕跡，而塗改處未經負責人員簽名或蓋章證明者八、書據上表示金額或數量之文字、號碼不符者九、其他與法令不符者」惟查花蓮區漁會辦理「三機一體彩色漁探衛星導航電子海圖儀及船用ＤＳＢ無線電對講機採購案」並未依規定辦理驗收作業，核銷時未檢附初驗紀錄及驗收紀錄，惟花蓮縣政府卻仍予付款，業務單位原住民行政局顯未盡監督該漁會遵循採購合法程序之責；又內部審核單位僅於九十二年十月三十日預付費用撥款時核章，該漁會同年十二月檢具相關原始憑證核銷時，內部審核單位未核章，卻仍予沖轉列帳據上，花蓮縣政府辦理該補助案件權責單位相關人員，顯未覈實辦理核七銷及善盡審核監督之責，核有核銷作業疏失三、花蓮縣政府對於補助案件未訂定明確作業規範，以供受補助單位辦理採購案件時應行遵循事項、採購案件之監辦、經費核銷、及追蹤考核之依據，核有未當經查花蓮縣政府辦理補助花蓮區漁會辦理「三機一體彩色漁探衛星導航電子海圖儀及船用ＤＳＢ無線電對講機採購案」，僅依據中央對臺灣省各縣(市)政府計畫及預算考核要點第四點(六)５〃規定略以「前４規定之民間團體，如單位受補(捐)助超過新台幣十萬元或同一年度累計受補(捐)助金額超過新台幣三十萬元時，應將實際支用經費明細表及其成果報告，送各該補(捐)助之縣(市)政府備查」之規定函請花蓮區漁會將實際支用經費明細表及其成果報告送府，並依行政院原住民族委員會核定九十二年度部落社區產業發展計畫第拾壹點實施辦法及東海岸原住民漁業輔導計畫規定，請花蓮區漁會按月填報執行進度表送府管控執行進度，並配合行政院原住民族委員會辦理書面考核業務惟該府對於受補助單位辦理採購案件應行遵循事項、採購案件之監辦、經費核銷、追蹤考核等情形之作業規範及審核程序付諸闕如，致花蓮區漁會對於應通知該府辦理監辦函件有無確實送達，毫無控管，無從掌握，辦理該採購案件發生前揭諸多違反政府採購法之情形，該府仍予核銷付款，顯有未當四、行政院原住民族委員會對於「原住民新部落運動計畫｜部落社區發展計畫｜東海岸原住民漁業輔導計畫」補助款納入花蓮縣政府預算執行，惟未要求該府訂立補助款作業規範，亦未確實監督其執行情形，而查證工作流於形式，應予檢討改進八經查原民會辦理九十二年度有關「原住民新部落運動計畫｜部落社區發展計畫｜東海岸原住民漁業輔導計畫」係由花蓮縣政府先行辦理初審，並核轉該會複審本計畫經函知花蓮縣政府核定結果，並撥付補助款項後，即由該府納入年度預算，惟對於補助款辦理採購案件監辦之權責劃分未事先協調，且對於該府實際辦理情形有無相關作業規範及確實與否，恝置不理，雖該會依據年度施政計畫管制及查證作業注意事項辦理九十二年度施政計畫管制｜期中查證計畫，然查證以業務訪問為主，對補助款流向無法確實掌握，致該會及花蓮縣政府對於花蓮區漁會辦理「三機一體彩色漁探衛星導航電子海圖儀及船用ＤＳＢ無線電對講機採購案」之機器廠牌、規格型號及發票等重要資料，毫無所悉該採購案實際補助機關應為原民會，該會卻疏於管控花蓮縣政府實際執行情形並訂立周延作業規範，顯然難辭監督不周之責五、行政院原住民族委員會遲延查復立法委員及本院函詢有關花蓮區漁會辦理衛星定位儀(三合一漁探機)ＧＰＳ採購案，行政效率不彰，應併予檢討改進(一)據立法委員陳訴，九十二年十一月向原民會索取該會補助花蓮縣政府辦理補助花蓮區漁會辦理「三機一體彩色漁探衛星導航電子海圖儀及船用ＤＳＢ無線電對講機採購案」相關資料，惟該會非但對補助款流向不清楚，且未曾督促花蓮縣政府轉促該漁會儘速提出九十二年底預算執行之結案報告，案經楊委員二度於立法院內政及民族委員會內質詢，並囑付原民會經建處相關人員後，承辦科直到四月為止僅提供花蓮區漁會執行情形報告一份但報告中未見機器廠牌、規格型號及發票等重要資料，九經楊委員辦公室再洽原民會，相關承辦人方表示未詳讀該資料且對此疏失渾然不知嗣再經該辦公室數次電話聯絡，承辦人員及直屬長官仍無法就該採購案詳加了解並追究迨楊委員續於立法院第五屆第五會期以書面資詢該採購案，該會始以九十三年六月二十五日原民經字第○九三○○一五八六九號函覆，然已時隔七個月之久，顯見該會因循敷衍，殊有不當(二)復依事務管理規則第三章文書流程管理第二十九、三十、三十一條分別規定「各機關應全面實施文書流程管理，並依文書性質、流程及相關法令規定處理時限，確實督促各級人員依限辦結，以有效提升行政效能」、「文書流程管理，除應由各級人員自我管理外，另包括文書稽催、時效統計分析及流程簡化等工作，並應分層逐級實施管制，以明權責前項文書稽催、時效統計分析及流程簡化等工作，各機關應指定單位或指派專人負責辦理」、「各機關對文書處理流程、時效及品質，應訂定稽核項目及基準，隨時抽查或定期檢查，並適時檢討改進，作為宣導、考核、獎懲之依據」及第二章檢核要點第四○○條規定「文書處理之檢核要項如左一、各項文書處理手續，是否迅速確實…\\']\"}'}"
      ]
     },
     "execution_count": 35,
     "metadata": {},
     "output_type": "execute_result"
    }
   ],
   "source": [
    "reason_data[0].metadata"
   ]
  },
  {
   "cell_type": "code",
   "execution_count": 6,
   "metadata": {},
   "outputs": [
    {
     "name": "stderr",
     "output_type": "stream",
     "text": [
      "e:\\miniconda3\\envs\\project_envelop\\lib\\site-packages\\huggingface_hub\\file_download.py:1132: FutureWarning: `resume_download` is deprecated and will be removed in version 1.0.0. Downloads always resume when possible. If you want to force a new download, use `force_download=True`.\n",
      "  warnings.warn(\n"
     ]
    }
   ],
   "source": [
    "model_name = \"sentence-transformers/distiluse-base-multilingual-cased-v1\"\n",
    "embeddings = HuggingFaceEmbeddings(model_name=model_name)"
   ]
  },
  {
   "cell_type": "markdown",
   "metadata": {},
   "source": [
    "### Function for getting triple"
   ]
  },
  {
   "cell_type": "code",
   "execution_count": 7,
   "metadata": {},
   "outputs": [],
   "source": [
    "llm = ChatGoogleGenerativeAI(\n",
    "    model=\"gemini-pro\",\n",
    "    convert_system_message_to_human=True,\n",
    "    safety_settings={\n",
    "        HarmCategory.HARM_CATEGORY_HATE_SPEECH: HarmBlockThreshold.BLOCK_NONE,\n",
    "        HarmCategory.HARM_CATEGORY_HARASSMENT: HarmBlockThreshold.BLOCK_NONE,\n",
    "        HarmCategory.HARM_CATEGORY_DANGEROUS_CONTENT: HarmBlockThreshold.BLOCK_NONE,\n",
    "    },\n",
    ")"
   ]
  },
  {
   "cell_type": "code",
   "execution_count": 8,
   "metadata": {},
   "outputs": [],
   "source": [
    "test_data = reason_documents[:3]"
   ]
  },
  {
   "cell_type": "code",
   "execution_count": 18,
   "metadata": {},
   "outputs": [
    {
     "name": "stderr",
     "output_type": "stream",
     "text": [
      "e:\\miniconda3\\envs\\project_envelop\\lib\\site-packages\\langchain_google_genai\\chat_models.py:344: UserWarning: Convert_system_message_to_human will be deprecated!\n",
      "  warnings.warn(\"Convert_system_message_to_human will be deprecated!\")\n",
      "e:\\miniconda3\\envs\\project_envelop\\lib\\site-packages\\langchain_google_genai\\chat_models.py:344: UserWarning: Convert_system_message_to_human will be deprecated!\n",
      "  warnings.warn(\"Convert_system_message_to_human will be deprecated!\")\n",
      "e:\\miniconda3\\envs\\project_envelop\\lib\\site-packages\\langchain_google_genai\\chat_models.py:344: UserWarning: Convert_system_message_to_human will be deprecated!\n",
      "  warnings.warn(\"Convert_system_message_to_human will be deprecated!\")\n",
      "e:\\miniconda3\\envs\\project_envelop\\lib\\site-packages\\langchain_google_genai\\chat_models.py:344: UserWarning: Convert_system_message_to_human will be deprecated!\n",
      "  warnings.warn(\"Convert_system_message_to_human will be deprecated!\")\n",
      "e:\\miniconda3\\envs\\project_envelop\\lib\\site-packages\\langchain_google_genai\\chat_models.py:344: UserWarning: Convert_system_message_to_human will be deprecated!\n",
      "  warnings.warn(\"Convert_system_message_to_human will be deprecated!\")\n",
      "e:\\miniconda3\\envs\\project_envelop\\lib\\site-packages\\langchain_google_genai\\chat_models.py:344: UserWarning: Convert_system_message_to_human will be deprecated!\n",
      "  warnings.warn(\"Convert_system_message_to_human will be deprecated!\")\n"
     ]
    }
   ],
   "source": [
    "test_dict = {}\n",
    "for i, page in enumerate(reason_documents):\n",
    "    \n",
    "\n",
    "    triple_prompt = PromptTemplate.from_template(gemini_prompts.TRIPLE_PROMPT)\n",
    "    chain = triple_prompt | llm\n",
    "    triple_data = {\n",
    "        \"reference\": page.page_content\n",
    "    }\n",
    "\n",
    "    triple_response = chain.invoke(triple_data)\n",
    "\n",
    "    triple_response_result = re.sub(r'[```json\\n]', '', triple_response.content).replace(\"實體\", \"entity\").replace(\"關係\", \"relationship\").split(\"、\")[0]\n",
    "\n",
    "    to_json_prompt = PromptTemplate.from_template(gemini_prompts.TO_JSON_PROMPT)\n",
    "    chain = to_json_prompt | llm\n",
    "    data = {\n",
    "        \"reference\": triple_response_result\n",
    "    }\n",
    "\n",
    "    to_json_response = chain.invoke(data)\n",
    "    \n",
    "    triple_json_result = re.sub(r'[\\n]','',to_json_response.content)\n",
    "    triple_json_result = json.loads(f'[{triple_json_result}]')\n",
    "    \n",
    "    test_dict[i] = triple_json_result"
   ]
  },
  {
   "cell_type": "code",
   "execution_count": 19,
   "metadata": {},
   "outputs": [
    {
     "data": {
      "text/plain": [
       "{0: [{'entity1': '花蓮區漁會',\n",
       "   'relationship': '辦理',\n",
       "   'entity2': '「三機一體彩色漁探衛星導航電子海圖儀及船用ＤＳＢ無線電對講機採購案」'},\n",
       "  {'entity1': '花蓮縣政府', 'relationship': '疏於監督', 'entity2': '花蓮區漁會'},\n",
       "  {'entity1': '行政院原住民族委員會', 'relationship': '遲延查復', 'entity2': '立法委員'}],\n",
       " 1: [{'entity1': '行政院衛生署', 'relationship': '辦理', 'entity2': '九十至九十三年度補'}],\n",
       " 2: [{'entity1': '台北市政府', 'relationship': '未善盡土地使用管制'}]}"
      ]
     },
     "execution_count": 19,
     "metadata": {},
     "output_type": "execute_result"
    }
   ],
   "source": [
    "test_dict"
   ]
  },
  {
   "cell_type": "code",
   "execution_count": 8,
   "metadata": {},
   "outputs": [],
   "source": [
    "vector_db_path = \"./vector_db/\"\n",
    "\n",
    "if not os.path.exists(vector_db_path):\n",
    "    os.makedirs(vector_db_path)\n",
    "    print(f\"Created folder: {vector_db_path}\")\n",
    "    \n",
    "vector_store = FAISS.from_documents(reason_documents, embeddings, normalize_L2=True, distance_strategy=DistanceStrategy.MAX_INNER_PRODUCT)\n",
    "vector_store.save_local(folder_path=vector_db_path)\n",
    "\n",
    "# load FAISS\n",
    "vectorstore = FAISS.load_local(folder_path=vector_db_path, allow_dangerous_deserialization=True, embeddings=embeddings)"
   ]
  },
  {
   "cell_type": "code",
   "execution_count": 9,
   "metadata": {},
   "outputs": [
    {
     "data": {
      "text/plain": [
       "[(Document(page_content='行政院客家委員會、行政院原住民族委員會及僑務委員會將客家電視、原住民電視及臺灣宏觀電視等頻道節目之製播，依政府採購法委由財團法人公共電視文化事業基金會辦理，雖非無據，惟造成公視基金會與客委會、原民會及僑委會針對上開頻道節目之製播各有立場、互生歧見，致紛爭不斷，詎行政院新聞局坐視上開爭端，非但未積極研修法令，亦未尋求妥適解決辦法，核有怠失，爰依法提案糾正', metadata={'document': '52587.pdf', 'target': '行政院新聞局', 'fact': '行政院客家委員會、行政院原住民族委員會及僑務委員會(下稱客委會、原民會及僑委會)將客家電視、原住民電視及臺灣宏觀電視(下稱客視、原視及宏觀電視)等頻道節目之製播，依政府採購法委由財團法人公共電視文化事業基金會(下稱公視基金會)辦理，雖非無據，惟造成公視基金會與客委會、原民會及僑委會針對上開頻道節目之製播各有立場、互生歧見，致紛爭不斷，詎行政院新聞局(下稱新聞局)坐視上開爭端，非但未積極研修法令，亦未尋求妥適解決辦法，核有怠失，茲提出事實與理由於后一、據陳訴人指陳略以，95年無線公股處理條例於立法院三讀通過，目的在使黨、政、軍退出媒體，95年7月17日行政院召開「研商『無電視事業公股處理條例』規範原民台、客家台及宏觀頻道交由公共電視台製播2相關機關間溝通協調機制之建立問題」會議，會中決議「其製播所需經費之移撥(無政府採購法之適用問題)…」詎客委會、原民會及僑委會未依該決議辦理，仍依政府採購法，以標案形式由公視基金會辦理，實非合理又公視基金會辦理「原、客、宏觀頻道之計畫與製播」，並無獨立之經費得以辦理，而係由政府部門辦理審查、驗收，始得請領款項之情況，違反無線公股處理條例黨政軍退出媒體之精神，造成公共電視新聞自主性、專業性之箝制，詎該公股處理條例對「經費」疏漏等問題，迄未立法補正，亦造成公共電視台(下稱公視)財務經營之困境目前公視代為製播「原、客、宏觀頻道」，亦遭客委會、原民會及僑委會等延宕付款，更造成公視財務經營困難等語云云二、依據「無線電視事業公股處理條例」第14條第3項所定「政府編列預算招標採購或設置之客家電視、原住民電視、台灣宏觀電視等頻道節目之製播，應於本條例公布施行後之次年度起，『交由』公視基金會辦理」目前公視基金會係依照政府採購法之規定，定期向客委會、原民會及僑委會提出營運計畫書、工作報告、驗收作業等相關作業惟公視基金會之經營係遵循公共電視法，強調公共價值並尊重媒體獨立自主，雙方如因立場不同，對於節目內容則容易產生落差、甚至互有扞格，如客委會、原民會及僑委會往往冀望自己出資之媒體能宣傳政令並且友善配合，公視基金會基於維護經營獨立自主之立場認以公眾利益為先，並批評、監督政府施政惟現行雙方係屬委辦關係，故而目前公視在製播上開頻道係以符合標案合約為首要目標，並且每季需接受驗收審核，通過後始能領取製播費用，將因此影響節目之方向與品質三、復查客委會96年度第2、3、4、5期，97年度第2、33、4期及99年度第2期均因公視基金會所送驗收資料不齊全，於通知補正、資料送達後始辦理驗收，致公視基金會函文客委會請款後一、二個月後，該會始撥付款項；又客委會與公視基金會有關98年度客視委辦契約文件歷經召開6次協調會議始達成共識，迨於98年5月26日簽定契約書，致98年度第1期公視基金會於同年6月16日方能函請客委會撥款，而客委會始於同年7月1日付款另查原民會因公視基金會97年度第2期在製播新聞未符合該會驗收要求，對於公視基金會於97年5月14日發函請款後，延至同年9月17日始撥付款項再查僑委會於96年第1期亦因公視基金會製播宏觀電視於同年1月10日節目訊號傳輸中斷8小時及同年1月29日未派員採訪該會活動，分別扣款新台幣(下同)61萬772元及5萬元之情事，且98、99年度第1期皆於公視函文請款後相隔2個月左右始撥付款項顯示客委會、原民會及僑委會確有因節目內容不符要求，致延宕付款之情事，惟在維持客視、原視及宏觀電視節目持續播映下，公視基金會需預先墊款經營製播，加上資金難以調度，造成公視基金會財務經營之困難四、據上，頻道委託製播遠較個別節目委託製造所涉契約關係更廣泛，而契約當事人間互動更密切，甚至可能直接涉及製播之節目內容，進而影響公視基金會之整體經營運作查客委會、原民會及僑委會將客視、原視及宏觀電視等頻道節目之製播，依政府採購法委由公視基金會辦理，雖非無據，惟造成公視基金會與客委會、原民會及僑委會針對上開電視頻道節目之製播各有立場、互生歧見，致紛爭不斷詎行政院新聞局雖為「無線電視事業公股處理條例」之主管機關，卻一再以，客委會、原民會及僑委會等機關自96年14月1日起依公股處理條例規定，將其編列預算招標採購之客視、原視、宏觀電視等頻道節目之製播交由公視辦理，即已符合前開法令之規定及意旨，至於各頻道節目製播交由公視辦理之方式，則屬各頻道主管機關權責，該局均予尊重等語云云，而坐視上開爭端，非但未能儘速與各相關主管機關及公視基金會協商，尋求妥適解決辦法，亦未積極修法，以徹底解決此問題，顯有怠失綜上，行政院客家委員會、行政院原住民族委員會及僑務委員會將客家電視、原住民電視及臺灣宏觀電視等頻道節目之製播，依政府採購法委由財團法人公共電視文化事業基金會辦理，雖非無據，惟造成公視基金會與客委會、原民會及僑委會針對上開頻道節目之製播各有立場、互生歧見，致紛爭不斷，詎行政院新聞局坐視上開爭端，非但未積極研修法令，亦未尋求妥適解決辦法，核有怠失，爰依監察法第24條提案糾正，移送行政院轉飭所屬行政院新聞局確實檢討改善見復5', 'metadata': {'kw': \"['行政院', '上開', '客家', '法令', '核有', '法委', '研修', '造成', '怠失', '政府']\", 'ks': \"['」詎客委會、原民會及僑委會未依該決議辦理，仍依政府採購法，以標案形式由公視基金會辦理，實非合理又公視基金會辦理「原、客、宏觀頻道之計畫與製播」，並無獨立之經費得以辦理，而係由政府部門辦理審查、驗收，始得請領款項之情況，違反無線公股處理條例黨政軍退出媒體之精神，造成公共電視新聞自主性、專業性之箝制，詎該公股處理條例對「經費」疏漏等問題，迄未立法補正，亦造成公共電視台(下稱公視)財務經營之困境目前公視代為製播「原、客、宏觀頻道」，亦遭客委會、原民會及僑委會等延宕付款，更造成公視財務經營困難等語云云二、依據「無線電視事業公股處理條例」第14條第3項所定「政府編列預算招標採購或設置之客家電視、原住民電視、台灣宏觀電視等頻道節目之製播，應於本條例公布施行後之次年度起，『交由』公視基金會辦理」目前公視基金會係依照政府採購法之規定，定期向客委會、原民會及僑委會提出營運計畫書、工作報告、驗收作業等相關作業惟公視基金會之經營係遵循公共電視法，強調公共價值並尊重媒體獨立自主，雙方如因立場不同，對於節目內容則容易產生落差、甚至互有扞格，如客委會、原民會及僑委會往往冀望自己出資之媒體能宣傳政令並且友善配合，公視基金會基於維護經營獨立自主之立場認以公眾利益為先，並批評、監督政府施政惟現行雙方係屬委辦關係，故而目前公視在製播上開頻道係以符合標案合約為首要目標，並且每季需接受驗收審核，通過後始能領取製播費用，將因此影響節目之方向與品質三、復查客委會96年度第2、3、4、5期，97年度第2、33、4期及99年度第2期均因公視基金會所送驗收資料不齊全，於通知補正、資料送達後始辦理驗收，致公視基金會函文客委會請款後一、二個月後，該會始撥付款項；又客委會與公視基金會有關98年度客視委辦契約文件歷經召開6次協調會議始達成共識，迨於98年5月26日簽定契約書，致98年度第1期公視基金會於同年6月16日方能函請客委會撥款，而客委會始於同年7月1日付款另查原民會因公視基金會97年度第2期在製播新聞未符合該會驗收要求，對於公視基金會於97年5月14日發函請款後，延至同年9月17日始撥付款項再查僑委會於96年第1期亦因公視基金會製播宏觀電視於同年1月10日節目訊號傳輸中斷8小時及同年1月29日未派員採訪該會活動，分別扣款新台幣(下同)61萬772元及5萬元之情事，且98、99年度第1期皆於公視函文請款後相隔2個月左右始撥付款項顯示客委會、原民會及僑委會確有因節目內容不符要求，致延宕付款之情事，惟在維持客視、原視及宏觀電視節目持續播映下，公視基金會需預先墊款經營製播，加上資金難以調度，造成公視基金會財務經營之困難四、據上，頻道委託製播遠較個別節目委託製造所涉契約關係更廣泛，而契約當事人間互動更密切，甚至可能直接涉及製播之節目內容，進而影響公視基金會之整體經營運作查客委會、原民會及僑委會將客視、原視及宏觀電視等頻道節目之製播，依政府採購法委由公視基金會辦理，雖非無據，惟造成公視基金會與客委會、原民會及僑委會針對上開電視頻道節目之製播各有立場、互生歧見，致紛爭不斷詎行政院新聞局雖為「無線電視事業公股處理條例」之主管機關，卻一再以，客委會、原民會及僑委會等機關自96年14月1日起依公股處理條例規定，將其編列預算招標採購之客視、原視、宏觀電視等頻道節目之製播交由公視辦理，即已符合前開法令之規定及意旨，至於各頻道節目製播交由公視辦理之方式，則屬各頻道主管機關權責，該局均予尊重等語云云，而坐視上開爭端，非但未能儘速與各相關主管機關及公視基金會協商，尋求妥適解決辦法，亦未積極修法，以徹底解決此問題，顯有怠失綜上，行政院客家委員會、行政院原住民族委員會及僑務委員會將客家電視、原住民電視及臺灣宏觀電視等頻道節目之製播，依政府採購法委由財團法人公共電視文化事業基金會辦理，雖非無據，惟造成公視基金會與客委會、原民會及僑委會針對上開頻道節目之製播各有立場、互生歧見，致紛爭不斷，詎行政院新聞局坐視上開爭端，非但未積極研修法令，亦未尋求妥適解決辦法，核有怠失，爰依監察法第24條提案糾正，移送行政院轉飭所屬行政院新聞局確實檢討改善見復5']\"}}),\n",
       "  0.4295517)]"
      ]
     },
     "execution_count": 9,
     "metadata": {},
     "output_type": "execute_result"
    }
   ],
   "source": [
    "query = \"行政院原住民委員會的相關資訊\"\n",
    "\n",
    "embedding_vector = embeddings.embed_query(query)\n",
    "docs = vectorstore.similarity_search_with_score_by_vector(embedding_vector, k=1)\n",
    "docs"
   ]
  },
  {
   "cell_type": "code",
   "execution_count": 11,
   "metadata": {},
   "outputs": [
    {
     "name": "stderr",
     "output_type": "stream",
     "text": [
      "e:\\miniconda3\\envs\\project_envelop\\lib\\site-packages\\langchain_google_genai\\chat_models.py:344: UserWarning: Convert_system_message_to_human will be deprecated!\n",
      "  warnings.warn(\"Convert_system_message_to_human will be deprecated!\")\n"
     ]
    },
    {
     "ename": "AttributeError",
     "evalue": "module 'prompts.gemini_prompts' has no attribute 'triple_PROMPT'",
     "output_type": "error",
     "traceback": [
      "\u001b[1;31m---------------------------------------------------------------------------\u001b[0m",
      "\u001b[1;31mAttributeError\u001b[0m                            Traceback (most recent call last)",
      "Cell \u001b[1;32mIn[11], line 21\u001b[0m\n\u001b[0;32m     18\u001b[0m \u001b[38;5;28;01mif\u001b[39;00m re\u001b[38;5;241m.\u001b[39msearch(pattern, summary_response\u001b[38;5;241m.\u001b[39mcontent):\n\u001b[0;32m     19\u001b[0m     re\u001b[38;5;241m.\u001b[39msub(pattern, \u001b[38;5;124m'\u001b[39m\u001b[38;5;124m'\u001b[39m, summary_response\u001b[38;5;241m.\u001b[39mcontent)\n\u001b[1;32m---> 21\u001b[0m triple_prompt \u001b[38;5;241m=\u001b[39m PromptTemplate\u001b[38;5;241m.\u001b[39mfrom_template(\u001b[43mgemini_prompts\u001b[49m\u001b[38;5;241;43m.\u001b[39;49m\u001b[43mtriple_PROMPT\u001b[49m)\n\u001b[0;32m     22\u001b[0m chain \u001b[38;5;241m=\u001b[39m triple_prompt \u001b[38;5;241m|\u001b[39m llm\n\u001b[0;32m     23\u001b[0m triple_data \u001b[38;5;241m=\u001b[39m {\n\u001b[0;32m     24\u001b[0m     \u001b[38;5;124m\"\u001b[39m\u001b[38;5;124mreference\u001b[39m\u001b[38;5;124m\"\u001b[39m: page[\u001b[38;5;241m0\u001b[39m]\u001b[38;5;241m.\u001b[39mpage_content\n\u001b[0;32m     25\u001b[0m }\n",
      "\u001b[1;31mAttributeError\u001b[0m: module 'prompts.gemini_prompts' has no attribute 'triple_PROMPT'"
     ]
    }
   ],
   "source": [
    "response_data = {}\n",
    "for i, page in enumerate(docs):\n",
    "    # match_content_list.append(page.page_content)\n",
    "    # reference[i] = {\n",
    "    #     \"reason\": page.page_content,\n",
    "    #     \"metadata\": page.metadata\n",
    "    # }\n",
    "\n",
    "    summary_prompt = PromptTemplate.from_template(gemini_prompts.SUMMARY_PROMPT)\n",
    "    chain = summary_prompt | llm\n",
    "    summary_data = {\n",
    "        \"reference\": page[0].page_content\n",
    "    }\n",
    "\n",
    "    summary_response = chain.invoke(summary_data)\n",
    "    \n",
    "    pattern = r'\\*\\*摘要：\\*\\*'\n",
    "    if re.search(pattern, summary_response.content):\n",
    "        re.sub(pattern, '', summary_response.content)\n",
    "        \n",
    "    # triple_prompt = PromptTemplate.from_template(gemini_prompts.triple_PROMPT)\n",
    "    # chain = triple_prompt | llm\n",
    "    # triple_data = {\n",
    "    #     \"reference\": page[0].page_content\n",
    "    # }\n",
    "\n",
    "    # triple_response = chain.invoke(triple_data)\n",
    "\n",
    "    # triple_response_result = re.sub(r'[```json\\n]', '', triple_response.content).replace(\"實體\", \"entity\").replace(\"關係\", \"relationship\").split(\"、\")[0]\n",
    "\n",
    "    # to_json_prompt = PromptTemplate.from_template(gemini_prompts.TO_JSON_PROMPT)\n",
    "    # chain = to_json_prompt | llm\n",
    "    # data = {\n",
    "    #     \"reference\": triple_response_result\n",
    "    # }\n",
    "\n",
    "    # to_json_response = chain.invoke(data)\n",
    "    \n",
    "    # triple_json_result = re.sub(r'[\\n]','',to_json_response.content)\n",
    "    # triple_json_result = json.loads(f'[{triple_json_result}]')\n",
    "\n",
    "    response_data[i] = {\n",
    "        \"summary\": summary_response.content,\n",
    "        \"source\": page[0].metadata['document'],\n",
    "        \"score\": f\"{page[1]:.2f}\",\n",
    "        \"target\": page[0].metadata['target'],\n",
    "        \"triple\": triple_json_result\n",
    "    }\n",
    "    \n",
    "# print(\"\\n資料來源:\", response_data[0]['metadata']['document'])"
   ]
  },
  {
   "cell_type": "code",
   "execution_count": 21,
   "metadata": {},
   "outputs": [
    {
     "data": {
      "text/plain": [
       "{0: {'summary': '監察院糾正行政院新聞局，原因如下：\\n\\n1. 客家、原住民和宏觀電視頻道的節目製作由公視基金會承辦，但公視基金會與客委會、原民會和僑委會對節目製播立場不同，導致糾紛不斷。\\n\\n2. 行政院新聞局未積極修法或尋求解決方案，任由爭端持續。',\n",
       "  'source': '52587.pdf',\n",
       "  'score': '0.43',\n",
       "  'target': '行政院新聞局',\n",
       "  'tuple': [{'entity1': '行政院客家委員會',\n",
       "    'relationship': '委託',\n",
       "    'entity2': '財團法人公共電視文化事業基金會'},\n",
       "   {'entity1': '行政院原住民族委員會',\n",
       "    'relationship': '委託',\n",
       "    'entity2': '財團法人公共電視文化事業基金會'},\n",
       "   {'entity1': '僑務委員會', 'relationship': '委託', 'entity2': '財團法人公共電視文化事業基金會'}]}}"
      ]
     },
     "execution_count": 21,
     "metadata": {},
     "output_type": "execute_result"
    }
   ],
   "source": [
    "response_data"
   ]
  },
  {
   "cell_type": "code",
   "execution_count": null,
   "metadata": {},
   "outputs": [],
   "source": [
    "kginfo = [\n",
    "    AttributeInfo(\n",
    "        name=\"triple_result\",\n",
    "        description=\"triple of the document in json format. It describe the relation between entities\",\n",
    "        type=\"string\"\n",
    "    )\n",
    "]"
   ]
  }
 ],
 "metadata": {
  "kernelspec": {
   "display_name": "project_envelop",
   "language": "python",
   "name": "python3"
  },
  "language_info": {
   "codemirror_mode": {
    "name": "ipython",
    "version": 3
   },
   "file_extension": ".py",
   "mimetype": "text/x-python",
   "name": "python",
   "nbconvert_exporter": "python",
   "pygments_lexer": "ipython3",
   "version": "3.10.14"
  }
 },
 "nbformat": 4,
 "nbformat_minor": 2
}
