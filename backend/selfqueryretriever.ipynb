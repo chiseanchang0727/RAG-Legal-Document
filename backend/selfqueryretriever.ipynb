{
 "cells": [
  {
   "cell_type": "code",
   "execution_count": 9,
   "metadata": {},
   "outputs": [],
   "source": [
    "import os\n",
    "import re\n",
    "import json\n",
    "import pandas as pd\n",
    "from src.utils import read_config\n",
    "from prompts import gemini_prompts\n",
    "import google.generativeai as genai\n",
    "import google.ai.generativelanguage as glm\n",
    "from typing import Any, Dict\n",
    "\n",
    "from langchain_huggingface import HuggingFaceEmbeddings\n",
    "from langchain.document_loaders import DataFrameLoader\n",
    "from langchain.text_splitter import RecursiveCharacterTextSplitter\n",
    "from langchain_community.vectorstores.faiss import FAISS, DistanceStrategy\n",
    "from langchain_community.vectorstores import Chroma\n",
    "from langchain.chains import RetrievalQA\n",
    "from langchain.chains import ConversationalRetrievalChain\n",
    "from langchain.prompts import PromptTemplate\n",
    "from langchain_google_genai import (\n",
    "    ChatGoogleGenerativeAI,\n",
    "    HarmBlockThreshold,\n",
    "    HarmCategory,\n",
    ")\n",
    "\n",
    "from langchain.chains.query_constructor.base import AttributeInfo\n",
    "from langchain.retrievers.self_query.base import SelfQueryRetriever\n",
    "\n",
    "\n",
    "import warnings\n",
    "warnings.filterwarnings(\"ignore\", category=DeprecationWarning)"
   ]
  },
  {
   "cell_type": "markdown",
   "metadata": {},
   "source": [
    "## 0609 notes\n",
    "1. Add KG(knowledge graph) as part of metadata\n",
    "2. Use SelfQueryRetriver to get the top_k answer\n",
    "3. Override the `_get_docs_with_query` to use the `similarity_search_with_score` method(or with `similarity_search_with_score_by_vector`)"
   ]
  },
  {
   "cell_type": "code",
   "execution_count": 10,
   "metadata": {},
   "outputs": [],
   "source": [
    "configs = read_config('.env/configs.json')\n",
    "api_key =configs['g_key']\n",
    "os.environ[\"GOOGLE_API_KEY\"] = api_key\n",
    "genai.configure(api_key=api_key)"
   ]
  },
  {
   "cell_type": "code",
   "execution_count": 11,
   "metadata": {},
   "outputs": [
    {
     "name": "stderr",
     "output_type": "stream",
     "text": [
      "c:\\Users\\sean.chang\\AppData\\Local\\anaconda3\\envs\\project_envelope\\lib\\site-packages\\huggingface_hub\\file_download.py:1132: FutureWarning: `resume_download` is deprecated and will be removed in version 1.0.0. Downloads always resume when possible. If you want to force a new download, use `force_download=True`.\n",
      "  warnings.warn(\n"
     ]
    }
   ],
   "source": [
    "model_name = \"sentence-transformers/distiluse-base-multilingual-cased-v1\"\n",
    "embeddings = HuggingFaceEmbeddings(model_name=model_name)"
   ]
  },
  {
   "cell_type": "code",
   "execution_count": 12,
   "metadata": {},
   "outputs": [],
   "source": [
    "# vector_db_path = \"./vector_db_2/\"\n",
    "\n",
    "# # load FAISS\n",
    "# vectorstore = FAISS.load_local(folder_path=vector_db_path, allow_dangerous_deserialization=True, embeddings=embeddings)"
   ]
  },
  {
   "cell_type": "code",
   "execution_count": 13,
   "metadata": {},
   "outputs": [],
   "source": [
    "# chromadb\n",
    "vector_db_path = \"./chroma_db/\"\n",
    "chroma_collection_name = \"correction_cosine_v1\"\n",
    "vectorstore = Chroma(persist_directory=vector_db_path, collection_name=chroma_collection_name, embedding_function=embeddings)"
   ]
  },
  {
   "cell_type": "code",
   "execution_count": 14,
   "metadata": {},
   "outputs": [
    {
     "data": {
      "text/plain": [
       "242"
      ]
     },
     "execution_count": 14,
     "metadata": {},
     "output_type": "execute_result"
    }
   ],
   "source": [
    "vectorstore._collection.count()"
   ]
  },
  {
   "cell_type": "markdown",
   "metadata": {},
   "source": [
    "### Function for getting triple"
   ]
  },
  {
   "cell_type": "code",
   "execution_count": 15,
   "metadata": {},
   "outputs": [],
   "source": [
    "llm = ChatGoogleGenerativeAI(\n",
    "    model=\"gemini-pro\",\n",
    "    convert_system_message_to_human=True,\n",
    "    safety_settings={\n",
    "        HarmCategory.HARM_CATEGORY_HATE_SPEECH: HarmBlockThreshold.BLOCK_NONE,\n",
    "        HarmCategory.HARM_CATEGORY_HARASSMENT: HarmBlockThreshold.BLOCK_NONE,\n",
    "        HarmCategory.HARM_CATEGORY_DANGEROUS_CONTENT: HarmBlockThreshold.BLOCK_NONE,\n",
    "    },\n",
    ")"
   ]
  },
  {
   "cell_type": "code",
   "execution_count": 16,
   "metadata": {},
   "outputs": [],
   "source": [
    "# top_k = 3\n",
    "# retriever = SelfQueryRetriever.from_llm(\n",
    "#     llm,\n",
    "#     vectorstore,\n",
    "#     document_contents=\"test\",\n",
    "#     metadata_field_info=metadata_field_info,\n",
    "#     k=top_k,\n",
    "#     search_type='similarity',\n",
    "#     search_kwagrs={\"k\":top_k},\n",
    "#     enable_limit=True\n",
    "# )\n",
    "\n",
    "# additional query\n",
    "# mixed_search_string = additional_query + \"與\" + query"
   ]
  },
  {
   "cell_type": "code",
   "execution_count": 17,
   "metadata": {},
   "outputs": [],
   "source": [
    "CONCLUSION_PROMPT=\"\"\"\n",
    "### INSTRUCTION: 說明查詢的內容 QUERY 與 REF 中的之間的關係。若找不到合理的關係則說沒有明確的相關性，不要亂說\n",
    "### QUERY: {query}\n",
    "### REF: {reference}\n",
    "### ASSISTANT: \n",
    "\"\"\""
   ]
  },
  {
   "cell_type": "code",
   "execution_count": 18,
   "metadata": {},
   "outputs": [],
   "source": [
    "# response_data = {}\n",
    "# for i, page in enumerate(result):\n",
    "#     print(page.metadata['source'])\n",
    "#     # summary_prompt = PromptTemplate.from_template(gemini_prompts.SUMMARY_PROMPT)\n",
    "#     # chain = summary_prompt | llm\n",
    "#     # summary_data = {\n",
    "#     #     \"reference\": page.page_content\n",
    "#     # }\n",
    "\n",
    "#     # summary_response = chain.invoke(summary_data)\n",
    "    \n",
    "#     # pattern = r'\\*\\*摘要：\\*\\*'\n",
    "#     # if re.search(pattern, summary_response.content):\n",
    "#     #     re.sub(pattern, '', summary_response.content)\n",
    "        \n",
    "#     suffix = \"### ASSISTANT: \"\n",
    "#     input_variables = [\"query\", \"reference\"]\n",
    "\n",
    "#     conclusion_prompt = PromptTemplate.from_examples(CONCLUSION_PROMPT, suffix, input_variables)\n",
    "#     chain = conclusion_prompt | llm\n",
    "#     conclusion_data = {\n",
    "#         \"query\": query,\n",
    "#         \"reference\": page.page_content\n",
    "#     }\n",
    "#     conclusion_response = chain.invoke(conclusion_data)\n",
    "\n",
    "#     # response_data[i] = {\n",
    "#     #     \"summary\": summary_response.content,\n",
    "#     #     \"source\": page.metadata['source'],\n",
    "#     #     \"score\": f\"{page.metadata['score']:.2f}\",\n",
    "#     #     \"target\": page.metadata['target'],\n",
    "#     #     # \"conclusion\": conclusion_response.content\n",
    "#     # }\n",
    "    \n",
    "\n"
   ]
  },
  {
   "cell_type": "code",
   "execution_count": 19,
   "metadata": {},
   "outputs": [],
   "source": [
    "metadata_field_info = [\n",
    "    AttributeInfo(\n",
    "        name='target',\n",
    "        description='對象、受文對象、受文者',\n",
    "        type='string',\n",
    "    ),\n",
    "    AttributeInfo(\n",
    "        name='reason',\n",
    "        description='被糾正原因、案由',\n",
    "        type='string',\n",
    "    ),\n",
    "    AttributeInfo(\n",
    "        name='fact',\n",
    "        description='被糾正的證據、事實、事實與理由',\n",
    "        type='string',\n",
    "    ),\n",
    "    AttributeInfo(\n",
    "        name='keywords',\n",
    "        description='被糾正原因中的關鍵字',\n",
    "        type='string'\n",
    "    ),\n",
    "    AttributeInfo(\n",
    "        name='relationship_between_entities',\n",
    "        description='被糾正原因中呈現三元組關係的entities(實體)',\n",
    "        type='string'\n",
    "    )\n",
    "]"
   ]
  },
  {
   "cell_type": "code",
   "execution_count": 20,
   "metadata": {},
   "outputs": [],
   "source": [
    "query = '台灣糖業公司'"
   ]
  },
  {
   "cell_type": "code",
   "execution_count": 21,
   "metadata": {},
   "outputs": [
    {
     "name": "stderr",
     "output_type": "stream",
     "text": [
      "c:\\Users\\sean.chang\\AppData\\Local\\anaconda3\\envs\\project_envelope\\lib\\site-packages\\langchain_google_genai\\chat_models.py:344: UserWarning: Convert_system_message_to_human will be deprecated!\n",
      "  warnings.warn(\"Convert_system_message_to_human will be deprecated!\")\n"
     ]
    }
   ],
   "source": [
    "class CustomSelfQueryRetriever(SelfQueryRetriever):\n",
    "        def _get_docs_with_query(\n",
    "            self, query: str, search_kwargs: Dict[str, Any]\n",
    "        ):\n",
    "            \"\"\"Get docs, adding score information.\"\"\"\n",
    "            docs, scores = zip(\n",
    "                *vectorstore.similarity_search_with_relevance_scores(query, **search_kwargs)\n",
    "            )\n",
    "            for doc, score in zip(docs, scores):\n",
    "                doc.metadata[\"score\"] = score\n",
    "                # if score < 1:\n",
    "                #     doc.metadata[\"score\"] = 1-score\n",
    "                # elif score > 1:\n",
    "                #     doc.metadata[\"score\"] = 0.001\n",
    "\n",
    "            return docs\n",
    "        \n",
    "document_content_description = 'agent'\n",
    "retriever = CustomSelfQueryRetriever.from_llm(\n",
    "        llm,\n",
    "        vectorstore,\n",
    "        document_content_description,\n",
    "        metadata_field_info,\n",
    "        verbose=True\n",
    ")\n",
    "\n",
    "docs = retriever.get_relevant_documents(query)\n"
   ]
  },
  {
   "cell_type": "code",
   "execution_count": 22,
   "metadata": {},
   "outputs": [
    {
     "name": "stdout",
     "output_type": "stream",
     "text": [
      "台灣糖業股份有限公司\n",
      "衛生福利部食品藥物管理署\n",
      "台灣電力股份有限公司\n",
      "勞動部\n"
     ]
    }
   ],
   "source": [
    "for d in docs:\n",
    "    print(d.metadata['target'])"
   ]
  },
  {
   "cell_type": "code",
   "execution_count": 23,
   "metadata": {},
   "outputs": [
    {
     "name": "stdout",
     "output_type": "stream",
     "text": [
      "台灣糖業股份有限公司\n",
      "衛生福利部食品藥物管理署\n",
      "台灣電力股份有限公司\n",
      "勞動部\n"
     ]
    }
   ],
   "source": [
    "for d in docs:\n",
    "    print(d.metadata['target'])"
   ]
  },
  {
   "cell_type": "code",
   "execution_count": 26,
   "metadata": {},
   "outputs": [
    {
     "name": "stdout",
     "output_type": "stream",
     "text": [
      "對象包括台灣糖業公司\n"
     ]
    },
    {
     "name": "stderr",
     "output_type": "stream",
     "text": [
      "c:\\Users\\sean.chang\\AppData\\Local\\anaconda3\\envs\\project_envelope\\lib\\site-packages\\langchain_google_genai\\chat_models.py:344: UserWarning: Convert_system_message_to_human will be deprecated!\n",
      "  warnings.warn(\"Convert_system_message_to_human will be deprecated!\")\n"
     ]
    },
    {
     "name": "stdout",
     "output_type": "stream",
     "text": [
      "1120607-台糖七股農場造林地改置光電場案糾正案文(決議版)_20231211131825677.pdf\n"
     ]
    },
    {
     "name": "stderr",
     "output_type": "stream",
     "text": [
      "c:\\Users\\sean.chang\\AppData\\Local\\anaconda3\\envs\\project_envelope\\lib\\site-packages\\langchain_google_genai\\chat_models.py:344: UserWarning: Convert_system_message_to_human will be deprecated!\n",
      "  warnings.warn(\"Convert_system_message_to_human will be deprecated!\")\n"
     ]
    },
    {
     "name": "stdout",
     "output_type": "stream",
     "text": [
      "糾正案文_ (62).pdf\n"
     ]
    },
    {
     "name": "stderr",
     "output_type": "stream",
     "text": [
      "c:\\Users\\sean.chang\\AppData\\Local\\anaconda3\\envs\\project_envelope\\lib\\site-packages\\langchain_google_genai\\chat_models.py:344: UserWarning: Convert_system_message_to_human will be deprecated!\n",
      "  warnings.warn(\"Convert_system_message_to_human will be deprecated!\")\n"
     ]
    },
    {
     "name": "stdout",
     "output_type": "stream",
     "text": [
      "台電虛報加班費案-糾正案文-公布版_20230615082314856.pdf\n"
     ]
    },
    {
     "name": "stderr",
     "output_type": "stream",
     "text": [
      "c:\\Users\\sean.chang\\AppData\\Local\\anaconda3\\envs\\project_envelope\\lib\\site-packages\\langchain_google_genai\\chat_models.py:344: UserWarning: Convert_system_message_to_human will be deprecated!\n",
      "  warnings.warn(\"Convert_system_message_to_human will be deprecated!\")\n"
     ]
    },
    {
     "name": "stdout",
     "output_type": "stream",
     "text": [
      "糾正案文_ (49).pdf\n"
     ]
    },
    {
     "name": "stderr",
     "output_type": "stream",
     "text": [
      "c:\\Users\\sean.chang\\AppData\\Local\\anaconda3\\envs\\project_envelope\\lib\\site-packages\\langchain_google_genai\\chat_models.py:344: UserWarning: Convert_system_message_to_human will be deprecated!\n",
      "  warnings.warn(\"Convert_system_message_to_human will be deprecated!\")\n"
     ]
    }
   ],
   "source": [
    "class CustomSelfQueryRetriever(SelfQueryRetriever):\n",
    "        def _get_docs_with_query(\n",
    "            self, query: str, search_kwargs: Dict[str, Any]\n",
    "        ):\n",
    "            \"\"\"Get docs, adding score information.\"\"\"\n",
    "            docs, scores = zip(\n",
    "                *vectorstore.similarity_search_with_relevance_scores(query, **search_kwargs)\n",
    "            )\n",
    "            for doc, score in zip(docs, scores):\n",
    "                doc.metadata[\"score\"] = score\n",
    "                # if score < 1:\n",
    "                #     doc.metadata[\"score\"] = 1-score\n",
    "                # elif score > 1:\n",
    "                #     doc.metadata[\"score\"] = 0.001\n",
    "\n",
    "            return docs\n",
    "        \n",
    "document_content_description = 'agent'\n",
    "retriever = CustomSelfQueryRetriever.from_llm(\n",
    "        llm,\n",
    "        vectorstore,\n",
    "        document_content_description,\n",
    "        metadata_field_info,\n",
    "        verbose=True\n",
    ")\n",
    "query2 = \"對象包括\" + query\n",
    "print(query2)\n",
    "docs = retriever.get_relevant_documents(query2)\n",
    "\n",
    "response_data = {}\n",
    "for i, page in enumerate(docs):\n",
    "    print(page.metadata['source'])\n",
    "    summary_prompt = PromptTemplate.from_template(gemini_prompts.SUMMARY_PROMPT)\n",
    "    chain = summary_prompt | llm\n",
    "    summary_data = {\n",
    "        \"reference\": page.page_content\n",
    "    }\n",
    "\n",
    "    summary_response = chain.invoke(summary_data)\n",
    "    \n",
    "    pattern = r'\\*\\*摘要：\\*\\*'\n",
    "    if re.search(pattern, summary_response.content):\n",
    "        re.sub(pattern, '', summary_response.content)\n",
    "        \n",
    "        \n",
    "    # conclusion_prompt = PromptTemplate.from_examples(gemini_prompts.CONCLUSION_PROMPT)\n",
    "    # chain = conclusion_prompt | llm\n",
    "    # conclusion_data = {\n",
    "    #     \"query\" : query,\n",
    "    #     \"reference\": page.page_content\n",
    "    # }\n",
    "    # conclusion_response = chain.invoke(conclusion_data)\n",
    "\n",
    "\n",
    "\n",
    "    response_data[i] = {\n",
    "        \"summary\": summary_response.content,\n",
    "        \"source\": page.metadata['source'],\n",
    "        \"score\": f\"{page.metadata['score']:.2f}\",\n",
    "        \"target\": page.metadata['target'],\n",
    "        # \"conclusion\": conclusion_response.content\n",
    "    }"
   ]
  },
  {
   "cell_type": "code",
   "execution_count": 31,
   "metadata": {},
   "outputs": [
    {
     "data": {
      "text/plain": [
       "'由勞動部勞動基金運用局（下稱勞金局）於民國（下同）109年間爆發該局國內投資組前組長游廼文與寶○集團人員、受委託經營投信業者共同炒作遠○○○股份有限公司股票之違失，該局既知游員多次遭檢舉，並於105年將之列入廉政風險人員名單之中，詎仍讓其擔任國內投資組組長重要職務長達5年餘之久，未將其調整或調離職務，以發揮防杜功能，亦無更嚴密之監控機制，致游員主導該特定業務領域多年，得以培植並濫用其對投信業者之影響力，進而合謀不正利益，聯合炒作遠○公司股票，造成基金損失高達新臺幣（下同）2,769萬餘元，雖已獲償付，然已引發勞動基金信心危機，斲傷政府形象；又該局未嚴予督促所屬確實依規落實執行交易室管理注意事項，致該注意事項形同具文，且漠視交易室安全管理，交易室淪作儲藏室、休息室使用；復就勞動基金監理委員會委員提出該注意事項未能落實及未臻健全等問題，亦延宕處理，未能積極因應改善，遲至本案爆發，外界訾議批評聲浪不斷後，方為強化內控機制，檢討提出強化措施，修訂注意事項，以作更嚴格之控管，核其所為，實均難卸怠失之責，爰依法提案糾正2'"
      ]
     },
     "execution_count": 31,
     "metadata": {},
     "output_type": "execute_result"
    }
   ],
   "source": [
    "page.page_content"
   ]
  },
  {
   "cell_type": "code",
   "execution_count": 27,
   "metadata": {},
   "outputs": [
    {
     "data": {
      "text/plain": [
       "{0: {'summary': '台灣糖業公司配合政府推動太陽能光電計畫，將造林地改為光電用地，但此舉與政府原先推動造林政策相矛盾，引發民眾疑慮和爭議。\\n\\n此外，該公司在估算林木材積和伐採作業方面，程序不夠嚴謹，缺乏佐證資料，導致無法驗證履約管理。審計部認定公司有重大違失，已提案糾正。',\n",
       "  'source': '1120607-台糖七股農場造林地改置光電場案糾正案文(決議版)_20231211131825677.pdf',\n",
       "  'score': '0.27',\n",
       "  'target': '台灣糖業股份有限公司'},\n",
       " 1: {'summary': '衛生福利部食品藥物管理署制定了蜂蜜標示規定，要求蜂蜜含量達 60% 的產品標示為「蜂蜜」。由於缺乏蜂蜜含量檢驗方法，該署從未抽驗市售蜂蜜產品，無法確保產品標示準確。因此，該規定形同虛設，顯示該署制定規定時草率疏失，特此提案糾正。',\n",
       "  'source': '糾正案文_ (62).pdf',\n",
       "  'score': '0.22',\n",
       "  'target': '衛生福利部食品藥物管理署'},\n",
       " 2: {'summary': '台灣電力公司電力修護處辦理電廠大修或檢修工作時，委託協力廠商人員加班和門禁資料異常達13,863筆。儘管疑似虛報金額已從3,298萬元降至255萬元，但台電未依合約懲處虛報價金廠商。\\n\\n此外，電力修護處員工支援電廠大修時，因公務繁忙未刷卡，卻未補登，且將此歸咎於人工作業疏失，導致加班費和補休發放浮濫。\\n\\n更甚者，電廠身為國家關鍵基礎設施，電力修護處員工卻有代他人刷卡、協力廠商人員未遵守門禁管制等違規行為。',\n",
       "  'source': '台電虛報加班費案-糾正案文-公布版_20230615082314856.pdf',\n",
       "  'score': '0.18',\n",
       "  'target': '台灣電力股份有限公司'},\n",
       " 3: {'summary': '勞動部勞金局爆發炒股違失，前組長游廼文與寶○集團及投信業者合謀炒作遠○公司股票，造成基金損失超過 2,700 萬元。儘管資金已獲償，但已損及勞動基金信心和政府形象。\\n\\n勞金局明知游廼文有違規紀錄，卻仍讓他擔任重要職務 5 年，未採取防範措施。交易室管理注意事項未落實，淪為儲藏室和休息室。\\n\\n勞動基金監理委員會委員提出的問題，勞金局遲未改善，直到案件爆發後才強化內控機制。監察院認為勞金局怠失職守，提案糾正。',\n",
       "  'source': '糾正案文_ (49).pdf',\n",
       "  'score': '0.18',\n",
       "  'target': '勞動部'}}"
      ]
     },
     "execution_count": 27,
     "metadata": {},
     "output_type": "execute_result"
    }
   ],
   "source": [
    "response_data"
   ]
  },
  {
   "cell_type": "code",
   "execution_count": 49,
   "metadata": {},
   "outputs": [
    {
     "data": {
      "text/plain": [
       "{'fact': '民國(下同)103年6月27日，國防部陸軍司令部後勤指揮部(下稱陸勤部)湳湖營區，疑未依程序銷毀逾期彈藥，致發生爆炸意外，3名承包商作業人員未著防護裝備，遭嚴重灼傷，其中1人傷重不治，爰經本院國防及情報委員會決議推派調查案經本院向國防部、陸勤部、行政院公共工程委員會（下稱行政院工程會）、勞動部、新竹縣政府暨所屬消防局等機關調閱有關卷證資料、法令詳於審閱；並針對本案調卷及案情相關疑點，請相關單位主管及承辦人員說明，並提供本案廢彈處理合約暨履約相關內容等全卷及職災相關檢查報告供參；復於104年2月4日詢問國防部後勤參謀次長室次長尚○○中將、助理次長崔○○少將、陸軍司令部參謀長郝○○中將、彈藥處處長簡○○少將、軍備局獲得管理處處長歐陽○○少將及相關承辦人等到院說明，該部嗣又先後於同年2月13日、3月18日及5月11日檢陳詢問補充說明及本案相關起訴與後續查證說明等資料到院，業調查竣事，茲臚列調查2發現之違失如次一、陸勤部本案未依政府採購法履約管理採購契約相關法令規定切實辦理，核有違失；且衡其對本案廢彈委商處理履約督管機制未臻健全及完善，致衍生本案爆炸傷亡重大職業災害悲劇憾事，自屬難辭其咎，亦核有明顯缺失，以上均核有違失，應切實檢討改進(一)經查，有關本案委商處理履約督管乙節，按行政院工程會所訂頒政府採購法第四章「履約管理」第63條規定「各類採購契約以採用主管機關訂定之範本為原則，其要項及內容由主管機關參考國際及國內慣例定之」同法第70條規定「機關辦理工程採購，應明訂廠商執行品質管理、環境保護、施工安全衛生之責任，並對重點項目訂定檢查程序及檢驗標準（第1項）機關於廠商履約過程，得辦理分段查驗，其結果並得供驗收之用（第2項）…財物或勞務採購需經一定履約過程，而非以現成財物或勞務供應者，準用第1項及第2項之規定（第5項）」另依該會所訂頒「公共工程施工品質管理作業要點」第15點規定「機關應隨時督導工程施工情形，並留存紀錄備查另得視工程需要設置工程督導小組，隨時進行施工品質督導工作機關發現工程缺失時，應即以書面通知監造單位或廠商限期改善」以上規定甚明(二)另依本案「勞動部重大職業災害檢查報告書」涉此內容摘錄該報告第十二項、「本災害構成其他法律罰則事項」-(三)關係事業單位（國家中山科學研究院系統製造中心）「該事業單位承攬國防部『國軍逾期傳統批號彈藥委商處理(契約編號GO02576)』及『國軍廢彈等2項委商處理(契約編號GO02583L)』3兩案之相關檢驗簽證及履約督導，負責本案指揮監督之工作場所負責人李○○（國家中山科學研究院系統製造中心組長）為從事該業務之人，對於周○○(即○○汽車材料行)勞工從事彈藥銷毀作業之爆炸危害，應依合約附加條款第11條履約督導之11.1規定，對於承攬商彈藥銷毀實施檢驗、查核、量測標的物、場所或技術；並執行處理進度、處理結果之查證，並將查驗結果記載於履約督導記錄表中，並依上述附加條款第11.2規定，承攬商作業中，發現或顯可預見作業瑕疵、錯誤或有其他違反契約之情事者，有權隨時要求停工，且依當時情況能注意卻疏於注意，未實施檢驗、查核、督導周○○(即○○汽車材料行)，為防止爆炸或高熱物飛出，除應有適當防護裝置及置備適當之防護具外，並使勞工確實使用，致周○○(即○○汽車材料行)勞工張○○於未穿戴防火衣從事干擾絲銷毀作業，因化學彈銷毀爐內火星噴出，不慎引燃發射藥(深水炸彈送藥筒推進藥)產生爆燃，造成張○○死亡，其有違反法令特定之注意義務情事，是以疏於注意之行為與致勞工張○○死亡有相當因果關係，涉嫌觸犯刑法第276條第2項『從事業務之人，因業務上之過失犯前項之罪者（因過失致人於死者），處五年以下有期徒刑或拘役，得併科三千元以下罰金』之規定」(三)次查，本案查據勞動部復稱1關係事業單位國家中山科學研究院（下稱中科院）系統製造中心，於本案無違反勞工安全衛生法相關規定，本案災害係因彈藥銷毀作業未使勞工確實穿戴防護具，而中科院1103年10月27日，勞職授字第1030010093號函4系統製造中心依據與陸勤部所簽立之「委、承製協議書」之規定，訂定執行「國軍預期傳統批號彈藥銷毀簽證」案作業規劃書，其中附表4履約督導記錄表項次4及5，應履約督查○○汽車材料行於作業時，作業人員是否有依其送陸勤部備查之安全衛生作業標準程序(編號GO-102-6火炸藥銷毀爐作業標準程序)使用適當安全防護裝備實施銷毀作業及人員是否配戴安全防護具，惟國家中山科學研究院系統製造中心設施供應組組長李○○，僅派員監督○○汽車材料行彈藥銷毀之品項及數量，卻未依作業規劃書附表4履約督導記錄表項次4及5指派適當人員執行履約督導，涉嫌觸犯刑法第276條第2項規定部分，函送新竹地檢署參辦(四)上情依國防部查復說明，經查證合約關係及肇案實況須由承商雇主、管理幹部負全部刑責；惟為虛心檢討現地履約督管疏失，中科院刻依據軍品生產規定第34條「軍品生產單位產品品質不良，……應檢討議處失職人員」及本案委製協議書附註9等規定，依人事作業程序檢討管理、執行階層疏失責任，俟相關懲處文令奉核後，另案檢送本院憑辦等語(五)又查，按國防部針對本案「缺失檢討及策進作為」復稱2「一、檢討狀況肇案後陸勤部全力配合勞動部及地檢署接受調查，並於7月1日召集承商及中山科學研究院研討履約督管策進方式，會議決議如下……(三）為避免類況再生，規劃複式安全檢查方式，協助承商消弭工作危安二、策進作為為再強化全案履約督管機制，陸勤部已會同中山科學研究院建立「勾稽式檢查表」，計提列17項合約2103年10月9日，國勤軍整字第1030002460號函5規定承商每日必須執行之安全維管事項；由中山科學研究院現地履督人員每日按表檢查與記錄後，電傳陸勤部稽核確認，凡具危安徵候立即要求承商停工改善，俾達複式督管目的」(六)復查，據本案104年2月4日約詢國防部書面說明資料「專家事故鑑定報告」所揭本案合約依勞工安全衛生法規範，律訂承商「發生意外傷亡事故時，須會同專業學者完成調查報告」；承商於103年7月2日委請國防大學理工學院胡○○博士執行肇因調查，並於同年7月14日出具調查報告，說明意外肇因係承商「發射藥筒擺放位置不當」、「投爐頻次過快」等疏失，可藉由策進工法及防護設備方式改善(七)另查，本案國防部後勤參謀次長尚○○中將於詢問時坦承「案發當時審視相關招商作業規定及標準作業程序，未盡周妥，確值得檢討，尤以本案履約督管不夠周延，合約方面都有寫，但他們沒按照規定去作，怎麼督管我們第1次作沒有經驗，本案發生後副參謀總長曾到現場要求如何督管，使其周延，履約督導這4個字沒有定義很清楚，我們請中科院協助審查，我們要求在合約裏寫清楚」等語，足證國防部及所屬於本案履約督管確有瑕疵，未盡妥善，顯有檢討改進空間對此該部於本案補充查復說明陳稱承商肇生0627意外案後，陸勤部為強化督管機制，另以行政命命律定「同營區彈藥分庫」、「庫部」、「地支部」等層級須依規定週期驗證中科院現地履督實況，俾達複式督管目的(八)末查，針對有關本案前揭工法核定過程是否允當乙節，依國防部查復說明，囿於承商作業工法超出軍方審查能量，合約方採「規定應執行程序」及「應6評估事項」方式，促使承商審慎編定標準作業程序；為改善無法實質審查承商工法適切性之窒礙，如後續仍須辦理委商處理彈藥購案，規劃於合約中要求承商SOP須經第三公證專業單位審認（如火藥學會或相關學術、實驗室等機購），俾確保所規範之作業程序內容正確(九)據上，陸勤部本案未依政府採購法履約管理採購契約相關法令規定切實辦理，核有違失；且衡其對本案廢彈委商處理履約督管機制，已如前述，未臻健全及完善，致生本案爆炸傷亡重大職業災害悲劇憾事，自屬難辭其咎，亦核有明顯缺失，以上均核有違失基此，國防部亟應本於權責落實督導所屬強化各項施工品質之複式審查，建立複式督管機制，俾求相關(購)案件能確實按照有關規範標準施工，機先協助承商消弭工作危安因子，確保施工安全維護之完善，以策來茲二、陸勤部第三地區支援指揮部湳湖彈藥分庫於事發前未依「經常戰備時期安全維護支援協定書」向新竹縣政府消防局申請相關防災應變演練需求，事發時復拒絕該局火災調查人員之協助，安全維護作為消極，洵有未當，要難辭違失之咎(一)各機關安全之維護為各級首長及全體人員之職責；各機關辦理安全維護事宜，應注意與有關單位人員密切聯絡協調，查行政院安全管理手冊第3及第4點載有明文(二)卷查據新竹縣政府消防局查復本院資料3載明「……，軍方並婉拒本局火災調查調查人員之協助，……」；「本局與湳湖彈藥分庫」雖於102年123103年9月26日，竹縣消指字第1035004431號函7月6日共同簽署『經常戰備時期安全維護支援協定書4』，然過去該營區並無向本局申請相關防災應變演練之支援需求，……」(三)經核，陸勤部第三地區支援指揮部湳湖彈藥分庫於事發前未依「經常戰備時期安全維護支援協定書」向新竹縣政府消防局申請相關防災應變演練需求，事發時復拒絕該局火災調查人員之協助，安全維護作為消極，洵有未當，要難辭違失之咎，亟待檢討改進，以維護營區安全三、本案國防部廢彈委商處理過程之相關規範、安全防護措施等，均未盡周延，核有疏失(一)本案國防部、國防部參謀本部後勤參謀次長室、陸軍司令部職掌、陸勤部彈藥處任務及其職掌表列業務１、按「國防部長綜理部務，並指揮、監督所屬機關及人員」、「國防部參謀本部後勤參謀次長室掌理彈藥政策之擬訂、後勤法令之研擬與後勤訓練之規劃、管制、督導、執行及國軍彈藥等預算之編列、督導與管制等事項」、「陸軍司令部掌理後勤事務協調、管制、督導事項」國防部處務規程第2條、國防部參謀本部處務規程第7條及國防部陸軍司令部組織規程第2條分別定有明文２、次衡陸勤部督導所屬彈藥處有關單位，負一切成敗之責，查據該處任務及其職掌表列業務略以4102年12月6日，新竹縣政府消防局與陸勤部第三地區支援指揮部湳湖彈藥分庫於共同簽署「經常戰備時期安全維護支援協定書」，相關內容摘錄如下1.協定事項為維護湳湖營區整體安全，在遭受突發狀況、災變時，支援單位在不影響戰備任務下，依協定之兵力支援防護2.共同遵守事項(1)支援事項營區遭受攻擊破壞或突發狀況危及安全時之應變支援雙方如有發現危害或災變時，應迅速相互回報(2)指揮權責警力到達目的地後即向受支援單位指揮官報到，並協同作戰(3)支援人力隊員8名、消防車2輛(視需要增派)(4)申請程序由受支援單位循戰情系統向支援單位提出(5)支援時限自狀況發布，受支援單位提出申請後，支援警力請即時到達8(１)任務為批號及序號彈藥管理兵監，負責其未爆（廢）彈處理勤務作業(２)職掌表列業務彈藥處理科「…8.彈藥保修及廢（未爆）彈作業機工具管理9.廢彈處理計畫頒布及執行管制10.廢（未爆）彈委商處理規劃及作業管制11.廢彈自行處理作業管制12.廢彈處理中心委託民營履約督導及成果管制…」(二)本案相關論述１、參見國防自主、商維釋商及委外等5論述２、為撙節國防預算支出，國軍裝備委商修護係以國防自主、支援戰備整備為前提現役武器裝備不具機敏性、戰備時效低或非核心之維持能量，釋放民間承接，達到結合民間力量，發展國防科技工業宗旨，並落實技術轉移，達成獨立自主之國防建設在保有自主核心能量及依法執行之前提下，視執行成效與商維能量，逐步擴大釋商範疇6(三)本案廢彈處理相關安全規定7１、燒毀各式高爆彈時，均可能引起爆炸，因此燒毀5「『國防工業自主化』一向是國防部『國防武器採購政策』中，與『平衡外交外購案』並重之策略90年代以後，國防部配合政府『組織再造』工程，推動『軍機商維』、『國有民營』（GOCO,GovernmentOwned,ContractorOperated）」等國防工業機構變革方案（與OT案類似）該等方案目的即在鼓勵民間企業經由特許程序，參與投資及營運國防工業其中一部份或全部，特許經營期限屆滿時，民間機構應將當時所有全部營運資產，依原許可條件有償或無償概括移轉返還主管機關」、「國防部的策略……透過『軍機商維』和『國有民營』（GOCO,GovernmentOwned,ContractorOperated）」等策略（與OT案類似），解決國防財政負擔等各項問題，並可引進民間企業經營加速國防工業機構的技術更新與發展」、「委外（Outsourcing）作業已廣泛運用在政府公部門之業務上，其主要涵義為將其非公權力策略重點的工作，交由較具專業能力的私人企業負責，以提高邊際效益、減少不必要的人事支出及作業成本」黃容護、楊曉熹，「國防工業組織變革里程碑---第302廠委託經營個案研究」，世新大學行政管理學系，http://eppm.shu.edu.tw/file/0428(3).pdf6國防部海軍司令部網站，「建立策略核心組織之研究-以海軍後支部為例」，http://navy.mnd.gov.tw/Print.aspx?cnid=3651&p=62148&Level=27摘自陸軍司令部102年9月18日國陸授教字第1020003502號令頒「廢（棄）彈藥管理手冊（第二版）」壹書所載相關警告安全規定9過程中，應採行必要防護措施２、彈藥銷毀必須徹底清除所含火炸藥，銷毀完後之廢品應該完全破壞，始得辦理標售作業(四)查據國防部復稱１、陸勤部廢彈處理人力編配狀況陸勤部係由各地支部彈藥庫下轄之7個整修所廢彈處理排執行廢彈處理勤務，總計編設人力計73員；負責執行輕兵器彈藥銷毀及報廢發射藥燒毀作業，現有人力可滿足勤務需求人力編設狀況統計如下表單位廢彈處理排人力編設狀況排部輕兵器銷毀班燒爆毀作業班一支部澎湖整修所178二支部花東整修所256三支部湳湖第一整修所15三支部湳湖第二整修所16四支部旗山整修所16四支部東山整修所156五支部番社整修所156小計82738合計73２、廢彈委商處理緣由(１)早年三軍廢彈均由前聯合勤務司令部（下稱聯勤）採燒、爆毀方式處理，近年因應環保意識高漲銷毀場地逐年受限，故該部於88年成立廢彈處理中心，惟該中心設備並無法處理所有類別廢彈(２)為加速廢彈處理，前聯勤依國防部95年「多管道」處理廢彈指導，與中山科學研究院簽訂「95-100年逾期彈藥處理委製案」，並於96年將廢彈中心於釋商經營(３)復因組織調整等因素，前聯勤依該部指導自100年起承辦廢彈委商處理業務；100年規劃10由承商自備場地承攬，囿於民間無政府核可之廢彈處理場地，致當年購案廢標；101年援引中山科學研究院歷往辦理模式，於採購計畫中指定撥交湳湖營區完整場地，由承商自備人力、設備履約；惟因3家參標商投標文件經審均不合格，導致廢標(４)案迄103年3月10日以新臺幣（下同）1億1,689萬元決標承商需於簽約後2年內，自備人力、技術與設備代國軍處理2千噸廢彈(５)考量廠商處理品項、技術均超出彈庫專業，為強化履督機制，陸軍前於102年以3,000萬元與中山科學研究院簽訂協議，由該院派遣技術人員駐現地全程監督廠商作業３、另查承商原工法係由承商副理陳○○先生審定，該員於80-102年間均任職彈藥部隊，並於三支部彈藥庫技術課課長職務退役，具備「彈藥補給」、「彈藥技術」相關專長４、囿於承商作業工法超出軍方審查能量，合約方採「規定應執行程序」及「應評估事項」方式，促使承商審慎編定標準作業程序；為改善無法實質審查承商工法適切性之窒礙，如後續仍須辦理委商處理彈藥購案，規劃於合約中要求承商SOP須經第三公證專業單位審認（如火藥學會或相關學術、實驗室等機購），俾確保所規範之作業程序內容正確(五)查據勞動部復稱１、本案因國防部僅編預算發包予○○汽車材料行執行，且交由中科院系統製造中心監督，致未能實施承攬商作業安全衛生與災害預防措施，故建請國防部應設置專責勤務單位執行廢棄及過期彈藥11處理之相關工作２、本案國軍彈藥之銷毀涉及國防專業、國家機密及國家安全，國防部應檢討國防法相關規定，除應訂定彈藥銷毀相關規範，並對於擬銷毀之彈藥，須先依彈藥種類分析其爆炸性及危險性，就彈藥之特性，評估設置相關可行、安全之設備及措施並實施作業安全管理，而非僅考量承攬商能否如期銷毀(彈藥銷毀作業經常發生於趕工時，為達成進度未依規定將彈藥分批銷毀，亦或未依標準作業程序作業，致職業災害之發生)３、本案國防部對於○○汽車材料行所使用之設備、場地規劃及工法，皆無提供任何意見，對於人員作業安全僅要求○○汽車材料行自行負責，宜全面檢討改進４、建議國防部爾後宜於採購契約內，詳細規範應採取之必要安全衛生設施及管理等事項，據以要求承攬商落實執行５、「勞動部重大職業災害檢查報告書」第十項、「改善建議事項」有關-業主(國防部)之內容摘錄「勞動部重大職業災害檢查報告書」第十項、改善建議事項一覽表項次改善建議事項1機關辦理工程採購時，應專項編列安全衛生經費，並列入招標文件及契約，據以執行前項經費應依工程規模及性質，審酌工程之潛在危險，配合災害防止對策，擬訂計量、計價規定，並依據工程需求覈實編列第一項安全衛生經費之編列項目，應參照行政院公共工程委員會訂定之「公共工程安全衛生項目編列參考附表」辦理，並按工程需求，量化編列；無法量化項目得採一式編列；其內容包括預防災害必要之安全衛生設施、安全衛生人員人事費、個人防護具、緊急應變演練及安全衛生教育訓練宣導等費用，並依專款專用原則辦理查驗計價（加強公共工程勞工安全衛生管理作業要點第4點）2機關辦理工程採購金額在5千萬元以上，且決標採用異質採購最有利標或異質採購最低標者，得於招標文件之綜合評選或評分審查項目，納入廠商投標標的之安全衛生管理能力前項安全衛生管理能力之評選，得以政府採購資訊公告系統之重大職業災害廠商名單、國家工安獎及推動勞工安全衛生優良公共工程獎之廠商名單列為評比依據（加強公共工程勞工安全衛生管理作業要點第5點）3機關辦理工程採購時，應於招標文件載明依決標金額總價調整各項單價時，廠商報價之安全衛生經費項目編列金額低於機關所訂底價之同項金額12者，該安全衛生經費項目不隨之調低（加強公共工程勞工安全衛生管理作業要點第8點）4機關辦理工程採購時，應依工程規模及性質，於招標文件及契約明定廠商應辦事項如下(一)計畫施工計畫書應納入勞工安全衛生相關法規規定事項，並落實執行〃〃〃(二)設施針對公共工程職業災害發生頻率較高之類型，其安全衛生設施依約定之具體項目執行(三)管理1、全程依勞工安全衛生相關法規規定辦理，並督導分包商依規定施作2、進駐工地人員，應依其作業性質分別施以從事工作及預防災變所必要之安全衛生教育訓練〃〃〃(四)自動檢查重點1、擬訂自動檢查計畫，落實執行2、相關執行表單、紀錄，妥為保存，以備查核(五)其他提升勞工安全衛生相關事項（加強公共工程勞工安全衛生管理作業要點第9點）5機關辦理工程招標時，應於招標文件及契約明定下列安全衛生監督查核事項(一)〃〃〃(二)訂定工程監督查核計畫及實施方式(三)監督查核計畫列明安全衛生監督查核之查驗點、查核項目、內容、判定基準、查核頻率、查核人員及查核後之處理方式與改善追蹤(四)〃〃〃(五)於各作業施工前，就施工程序設定安全衛生查核點，據以執行(六)於施工中、驗收或使用前，分別實施必要之查核，以確認其符合性；相關執行紀錄自查核日起保存3年(七)〃〃〃(八)〃〃〃（加強公共工程勞工安全衛生管理作業要點第12點第1項第2款、3款、5款、6款）6機關於工程規劃、設計時，應要求規劃、設計單位依勞工安全衛生法規，規劃安全衛生注意事項、圖說、施工安全衛生規範及安全衛生經費明細表等作為招標文件，納入契約執行（加強公共工程勞工安全衛生管理作業要點第13點）7業主國防部將「國軍逾期傳統批號彈藥委商處理(契約編號GO02576L)」交予周○○(即○○汽車材料行)承攬，為防止作業彈藥發生爆炸或燃燒造成勞工燒灼傷之災害，於工程採購契約文件「工作計畫書」內文五、作業現場於作業期間，應實施管制，嚴禁無關人員進入，作業人員應配戴識別證、防護用具、安全帽等始能進入工作場所未料，周○○(即○○汽車材料行)對於勞工張○○、林○○及羅○○等3人103年6月27日9時許從事干擾絲銷毀作業，竟未依前開契約文件規定作業人員戴防護用具，致勞工張○○、林○○及羅○○未使用防火衣之情形下，因化學彈銷毀爐內火星噴出，不慎引燃發射藥(深水炸彈送藥筒推進藥)產生爆燃，分別造成張○○死亡、林○○臉、頸、前胸、後背、四肢、右臂，2-3度燒傷，體表面積40%及羅○○臉、頸、四肢燒傷2-3度，體表面積16%本案災害本署已於103年6月27日依勞動檢查法第27條規定通知停工是以，本案災害發生之原因，與契約文件規定廠商應設置之安全衛生設施欠缺或不良具有相當因果關係，已構成工程採購契約規定之「因廠商施工場所依契約文件規定應有之安全衛生設施或不良，致發生重大職業災害，經本署依法通知停工並認定可規責於廠商者，為政府採購法第101條第1項第8款之情形之一」情形監察院製(六)按國防部函復本院說明資料載明「陸勤部係由各地支部彈藥庫下轄之7個整修所廢彈處理排執行廢彈處理勤務，總計編設人力計73員；負責執行輕兵器彈藥銷毀及報廢發射藥燒毀作業，現有人力可滿足勤務需求」；次按國軍長時間處理廢彈，蓄積深厚專業技術及豐富經驗；再按廠商處理品項、技術均超出彈庫專業；末按囿於承商作業工法超出13軍方審查能量致衍生無法實質審查承商工法適切性之窒礙，爰本案衍生更根本問題係「逾期彈藥委外銷毀之必要性」、「逾期彈藥委外銷毀之品項」、「逐步擴大釋商範疇與國防自主之平衡性」等議題，殊值國防部審慎研議(七)綜上，本案揆諸首揭相關法令規定、論述及廢彈處理安全規定與中央職災主管機關勞動部對本案之查復說明，經核本案國防部廢彈委商處理過程之相關規範、安全防護措施等，均未盡周延，核有疏失等情，至臻明確；且衡人命關天，要難卸責，洵有深入通盤檢討、研議及改善之必要，斷不宜因循寬假，便宜行事準此，國防部允應積極督飭所屬妥予研議廢彈委商處理之必要性、妥適性及相關配套措施，以確保營區及作業人員安全，俾免工安事件發生；並衡酌廢彈處理人力編配狀況，避免人力資源浪費或設施閒置情形，落實國防自主政策四、本案承商廢彈拆解訓練不足，國軍未建立相關測考及合格簽證制度，容有違失(一)經查，本案傷、亡之3名承商員工軍事專長訓練、簽證狀況１、本案傷、亡之3名承商員工，退役前分別任職於湳湖彈藥分庫（張員）、東山彈藥整修所（羅員）及左營彈藥整修所（林員），在役期間均由後勤學校等完成相關彈藥專業訓練並取得合格證照詢據國防部查復摘要表列如次級職姓名退役時間曾任職務在役專長簽證、授予單位上尉張○○前北彈庫94.11.29未爆彈處理官彈藥補給官彈藥技術官彈補、彈技、未爆彈前兵工學校前二彈庫士官長羅○○前南彈庫101.02.01彈藥保修士彈藥拆解士彈藥檢驗士彈技、未爆彈處理前兵工學校中士林○○前南彈庫95.05.12未爆彈處理士彈藥保修士彈補、彈修、未爆彈前後勤學校前二彈庫14２、據國防部說明，依國軍部隊訓練要綱規範，3名員工軍職服役於彈庫服務期間，尚須定期執行合格簽證（單位主官簽證）並參加基地測驗（後測中心施測），測驗合格後方可遂行勤務，惟衡國軍弟兄退伍後於民營廠商服務，於本案肇事廢彈拆解，尚無相關合格簽證制度，容有闕漏(二)次查，本案作業前廠商訓練狀況，詢據國防部查復說明，承商於本合約開工前，自行排定「彈藥處理設備安全規定」等27項科目，約102小時職前訓練作業；課程主要內容為「設備操作及養護」、「拆解銷毀設備安全規定」、「人員安全防護」及「意外搶救及指揮程序」、「機具、危險品位置及消防逃生程序」、「彈藥處理流程實作」等6課目惟查，上開課程授課後，尚未建立相關測考機制，易流於形式，亦有未洽又衡諸本案約詢國防部陳報本院專家事故鑑定報告，說明意外肇因係承商「發射藥筒擺放位置不當」、「投爐頻次過快」等疏失，可藉由策進工法及防護設備方式改善，顯見本案教育訓練不足，容有檢討改進空間(三)上情依國防部補充查復檢討說明，國軍援引本案經驗教訓，未來規劃委由受國防部監督之中科院承接國軍廢彈處理業務，以杜絕民間廠商「無法透過民間訓練機構協助廢彈處理職業訓練」及「無法週延規劃職前訓練」等缺失；如仍必須採委商方式辦理購案，強化合約對承商「員工職前訓練」、「職業安全衛生管理制度」、「標準作業程序訂定」、「人員安全防護裝具使用」、「災害防處機制」及「肇生工安事件核賠程序」等管控拘束力，俾降低履約危安風險(四)經核，本案承商廢彈拆解作業前雖已實施相關訓練15作為，惟因國軍對承商未建立相關課目測考及合格簽證制度，致作業人員教育訓練不足及有欠落實，自而衍生本案爆炸傷亡事故，容有違失綜上所述，國防部陸軍司令部後勤指揮部辦理廢彈委商處理未依政府採購法履約管理所揭相關法令規定切實辦理，履約督管機制亦未臻健全及完善，致生爆炸傷亡重大職業災害事故，核有違失；國防部、該部陸軍司令部廢彈委商處理過程之相關規範、安全防護措施等，均未盡周延，亦有疏失，爰依監察法第24條提案糾正，移送國防部轉飭所屬確實檢討改善見復提案委員尹祚芊、李月德、江綺雈',\n",
       " 'keywords': \"['委商', '廢彈', '司令部', '措施', '周延', '安全', '完善', '督管', '法令', '疏失']\",\n",
       " 'relationship_between_entities': '{  \"entity1\": \"國防部陸軍司令部後勤指揮部\",  \"relationship\": \"辦理\",  \"entity2\": \"廢彈委商處理\"},{  \"entity1\": \"國防部陸軍司令部後勤指揮部\",  \"relationship\": \"未依\",  \"entity2\": \"政府採購法履約管理採購契約相關法令規定\"},{  \"entity1\": \"國防部\",  \"relationship\": \"有疏失\",  \"entity2\": \"廢彈委商處理過程之相關規範\"}',\n",
       " 'source': '48540.pdf',\n",
       " 'target': '國防部、國防部陸軍司令部及所屬後勤指揮部',\n",
       " 'score': 0.0880448053524765}"
      ]
     },
     "execution_count": 49,
     "metadata": {},
     "output_type": "execute_result"
    }
   ],
   "source": [
    "page.metadata"
   ]
  },
  {
   "cell_type": "code",
   "execution_count": 84,
   "metadata": {},
   "outputs": [
    {
     "data": {
      "text/plain": [
       "'三元組中包含郵政法規定之郵件補償範疇'"
      ]
     },
     "execution_count": 84,
     "metadata": {},
     "output_type": "execute_result"
    }
   ],
   "source": [
    "query"
   ]
  }
 ],
 "metadata": {
  "kernelspec": {
   "display_name": "project_envelop",
   "language": "python",
   "name": "python3"
  },
  "language_info": {
   "codemirror_mode": {
    "name": "ipython",
    "version": 3
   },
   "file_extension": ".py",
   "mimetype": "text/x-python",
   "name": "python",
   "nbconvert_exporter": "python",
   "pygments_lexer": "ipython3",
   "version": "3.10.14"
  }
 },
 "nbformat": 4,
 "nbformat_minor": 2
}
