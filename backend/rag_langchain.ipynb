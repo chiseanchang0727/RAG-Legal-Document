{
 "cells": [
  {
   "cell_type": "code",
   "execution_count": 23,
   "metadata": {},
   "outputs": [],
   "source": [
    "import pandas as pd\n",
    "import torch\n",
    "from langchain_text_splitters import RecursiveCharacterTextSplitter\n",
    "from langchain.document_loaders import DataFrameLoader\n",
    "from langchain.embeddings import CacheBackedEmbeddings, HuggingFaceBgeEmbeddings\n",
    "from langchain.vectorstores import FAISS\n",
    "from langchain.storage import LocalFileStore\n",
    "from langchain.prompts import PromptTemplate\n",
    "from langchain.llms import HuggingFacePipeline\n",
    "from langchain.callbacks import StreamingStdOutCallbackHandler\n",
    "from langchain.chains import RetrievalQA\n",
    "\n",
    "from transformers import BitsAndBytesConfig, AutoModelForCausalLM, AutoTokenizer, pipeline\n",
    "\n",
    "import warnings\n",
    "\n",
    "warnings.simplefilter(action='ignore', category=DeprecationWarning)\n"
   ]
  },
  {
   "cell_type": "code",
   "execution_count": 2,
   "metadata": {},
   "outputs": [
    {
     "data": {
      "text/plain": [
       "True"
      ]
     },
     "execution_count": 2,
     "metadata": {},
     "output_type": "execute_result"
    }
   ],
   "source": [
    "torch.cuda.is_available()"
   ]
  },
  {
   "cell_type": "code",
   "execution_count": 3,
   "metadata": {},
   "outputs": [
    {
     "data": {
      "text/html": [
       "<div>\n",
       "<style scoped>\n",
       "    .dataframe tbody tr th:only-of-type {\n",
       "        vertical-align: middle;\n",
       "    }\n",
       "\n",
       "    .dataframe tbody tr th {\n",
       "        vertical-align: top;\n",
       "    }\n",
       "\n",
       "    .dataframe thead th {\n",
       "        text-align: right;\n",
       "    }\n",
       "</style>\n",
       "<table border=\"1\" class=\"dataframe\">\n",
       "  <thead>\n",
       "    <tr style=\"text-align: right;\">\n",
       "      <th></th>\n",
       "      <th>document</th>\n",
       "      <th>target</th>\n",
       "      <th>reason</th>\n",
       "      <th>fact</th>\n",
       "      <th>metadata</th>\n",
       "    </tr>\n",
       "  </thead>\n",
       "  <tbody>\n",
       "    <tr>\n",
       "      <th>0</th>\n",
       "      <td>34829.pdf</td>\n",
       "      <td>行政院原住民族委員會及花蓮縣政府</td>\n",
       "      <td>花蓮區漁會辦理「三機一體彩色漁探衛星導航電子海圖儀及船用ＤＳＢ無線電對講機採購案」，未能確實...</td>\n",
       "      <td>據立法委員函轉民眾陳訴行政院原住民族委員會(下稱原民會)補助花蓮區漁會給二予漁民架設衛星導航...</td>\n",
       "      <td>{'kw': \"['政府', '行政院', '案件', '原住民', '計畫', '漁探機'...</td>\n",
       "    </tr>\n",
       "    <tr>\n",
       "      <th>1</th>\n",
       "      <td>34838.pdf</td>\n",
       "      <td>行政院衛生署</td>\n",
       "      <td>為行政院衛生署辦理九十至九十三年度補、捐助計畫，經該署檢討至少計一二五項計畫應以委辦而竟以補...</td>\n",
       "      <td>本案係立法院鄭委員三元向本院陳訴略以「行政院衛生署將應以委辦執行之經費，改由補助費方式辦理，...</td>\n",
       "      <td>{'kw': \"['計畫', '捐助', '年度', '行政院', '案件', '意旨', ...</td>\n",
       "    </tr>\n",
       "    <tr>\n",
       "      <th>2</th>\n",
       "      <td>36946.pdf</td>\n",
       "      <td>台北縣萬里鄉公所、台北市政府、基隆市政府、台北縣政府</td>\n",
       "      <td>台北市政府、基隆市政府及台北縣政府未善盡土地使用管制、環境污染稽查及申報資料勾稽、查核之責，...</td>\n",
       "      <td>本案緣陳訴人檢附採證照片陳訴台北市政府核准設立之新生代環境清潔公司（下二稱新生代公司）、統徠...</td>\n",
       "      <td>{'kw': \"['政府', '公司', '清除', '垃圾', '顯有', '核准', '...</td>\n",
       "    </tr>\n",
       "    <tr>\n",
       "      <th>3</th>\n",
       "      <td>36997.pdf</td>\n",
       "      <td>行政院國軍退除役官兵輔導委員會台北榮民總醫院</td>\n",
       "      <td>行政院國軍退除役官兵輔導委員會台北榮民總醫院辦理「醫學科技大樓法定停車場工程」興建發包作業，...</td>\n",
       "      <td>本案前經審計部函報行政院國軍退除役官兵輔導委員會（以下簡稱退輔會）台北榮民總醫院（以下簡稱台...</td>\n",
       "      <td>{'kw': \"['工程', '提升', '於九', '法定', '完成', '台北', '...</td>\n",
       "    </tr>\n",
       "    <tr>\n",
       "      <th>4</th>\n",
       "      <td>37008.pdf</td>\n",
       "      <td>行政院國軍退除役官兵輔導委員會</td>\n",
       "      <td>為行政院國軍退除役官兵輔導委員會為改善所屬十一所榮民醫院及十八所安養機構之污水處理廠及衛生下...</td>\n",
       "      <td>行政院國軍退除役官兵輔導委員會﹙以下簡稱退輔會﹚為改善所屬十一所榮民醫院及十八所安養機構之廢...</td>\n",
       "      <td>{'kw': \"['工程', '政府', '下水道', '方式', '核有', '污水', ...</td>\n",
       "    </tr>\n",
       "    <tr>\n",
       "      <th>...</th>\n",
       "      <td>...</td>\n",
       "      <td>...</td>\n",
       "      <td>...</td>\n",
       "      <td>...</td>\n",
       "      <td>...</td>\n",
       "    </tr>\n",
       "    <tr>\n",
       "      <th>71</th>\n",
       "      <td>62812.pdf</td>\n",
       "      <td>雲林縣褒忠鄉公所</td>\n",
       "      <td>雲林縣褒忠鄉公所辦理111年度「褒忠鄉大手牽小手為愛一起走」活動，由東衛傳播有限公司（下稱東...</td>\n",
       "      <td>本案緣於雲林縣褒忠鄉鄉長陳建名等人，疑利用職務上機會詐取財物及從事不當行為，涉犯貪污治罪條例...</td>\n",
       "      <td>{'kw': \"['依法', '年度', '褒忠', '利益', '公司', '東衛', '...</td>\n",
       "    </tr>\n",
       "    <tr>\n",
       "      <th>72</th>\n",
       "      <td>62931.pdf</td>\n",
       "      <td>空軍司令部、海軍司令部</td>\n",
       "      <td>空軍司令部辦理「PIT輪盤等25項採購」及「一級輪盤等8項」等採購案，得標廠商繳交生產日期及...</td>\n",
       "      <td>審計部派員調查空軍司令部及海軍司令部辦理「噴嘴等118項」等18件軍機或軍艦引擎料件採購案，...</td>\n",
       "      <td>{'kw': \"['司令部', '禁止', '顯有', '提升', '安全', '引擎', ...</td>\n",
       "    </tr>\n",
       "    <tr>\n",
       "      <th>73</th>\n",
       "      <td>63324.pdf</td>\n",
       "      <td>新竹縣新豐鄉公所</td>\n",
       "      <td>新竹縣新豐鄉公所對於清潔隊人員出缺之甄補作業未能審慎辦理，致予機關首長有藉由該項人事決定權收...</td>\n",
       "      <td>地方鄉、鎮公所首長濫用清潔隊員人事進用及核定之權限，要求、期約、收受賄賂之案例層出不窮，屏東...</td>\n",
       "      <td>{'kw': \"['公所', '政府', '決標', '方式', '藉由', '致予', '...</td>\n",
       "    </tr>\n",
       "    <tr>\n",
       "      <th>74</th>\n",
       "      <td>63770.pdf</td>\n",
       "      <td>台灣電力股份有限公司(下稱台電公司)</td>\n",
       "      <td>台電公司審議立式車床採購規格，以年代久遠無相關採購資料為由，僅制定最大加工工件尺寸及載重為規...</td>\n",
       "      <td>台電公司電力修護處洪姓課長(下稱洪員)，涉以「限制廠商資格」、「制定特殊產品規格」等方式，於...</td>\n",
       "      <td>{'kw': \"['政府', '訪價', '未能', '下稱', '損及', '有失', '...</td>\n",
       "    </tr>\n",
       "    <tr>\n",
       "      <th>75</th>\n",
       "      <td>63792.pdf</td>\n",
       "      <td>文化部、臺北市政府</td>\n",
       "      <td>文化部洽請臺北市政府代辦北部流行音樂興建中心工程，受委託辦理規劃設計、監造與專案管理之建築師...</td>\n",
       "      <td>文化部辦理「北部流行音樂中心計畫」，自行政院民國（下同）93年2月18日核定原始計畫「流行音...</td>\n",
       "      <td>{'kw': \"['支付', '市政府', '計畫', '成立', '具有', '衍生', ...</td>\n",
       "    </tr>\n",
       "  </tbody>\n",
       "</table>\n",
       "<p>76 rows × 5 columns</p>\n",
       "</div>"
      ],
      "text/plain": [
       "     document                      target  \\\n",
       "0   34829.pdf            行政院原住民族委員會及花蓮縣政府   \n",
       "1   34838.pdf                      行政院衛生署   \n",
       "2   36946.pdf  台北縣萬里鄉公所、台北市政府、基隆市政府、台北縣政府   \n",
       "3   36997.pdf      行政院國軍退除役官兵輔導委員會台北榮民總醫院   \n",
       "4   37008.pdf             行政院國軍退除役官兵輔導委員會   \n",
       "..        ...                         ...   \n",
       "71  62812.pdf                    雲林縣褒忠鄉公所   \n",
       "72  62931.pdf                 空軍司令部、海軍司令部   \n",
       "73  63324.pdf                    新竹縣新豐鄉公所   \n",
       "74  63770.pdf          台灣電力股份有限公司(下稱台電公司)   \n",
       "75  63792.pdf                   文化部、臺北市政府   \n",
       "\n",
       "                                               reason  \\\n",
       "0   花蓮區漁會辦理「三機一體彩色漁探衛星導航電子海圖儀及船用ＤＳＢ無線電對講機採購案」，未能確實...   \n",
       "1   為行政院衛生署辦理九十至九十三年度補、捐助計畫，經該署檢討至少計一二五項計畫應以委辦而竟以補...   \n",
       "2   台北市政府、基隆市政府及台北縣政府未善盡土地使用管制、環境污染稽查及申報資料勾稽、查核之責，...   \n",
       "3   行政院國軍退除役官兵輔導委員會台北榮民總醫院辦理「醫學科技大樓法定停車場工程」興建發包作業，...   \n",
       "4   為行政院國軍退除役官兵輔導委員會為改善所屬十一所榮民醫院及十八所安養機構之污水處理廠及衛生下...   \n",
       "..                                                ...   \n",
       "71  雲林縣褒忠鄉公所辦理111年度「褒忠鄉大手牽小手為愛一起走」活動，由東衛傳播有限公司（下稱東...   \n",
       "72  空軍司令部辦理「PIT輪盤等25項採購」及「一級輪盤等8項」等採購案，得標廠商繳交生產日期及...   \n",
       "73  新竹縣新豐鄉公所對於清潔隊人員出缺之甄補作業未能審慎辦理，致予機關首長有藉由該項人事決定權收...   \n",
       "74  台電公司審議立式車床採購規格，以年代久遠無相關採購資料為由，僅制定最大加工工件尺寸及載重為規...   \n",
       "75  文化部洽請臺北市政府代辦北部流行音樂興建中心工程，受委託辦理規劃設計、監造與專案管理之建築師...   \n",
       "\n",
       "                                                 fact  \\\n",
       "0   據立法委員函轉民眾陳訴行政院原住民族委員會(下稱原民會)補助花蓮區漁會給二予漁民架設衛星導航...   \n",
       "1   本案係立法院鄭委員三元向本院陳訴略以「行政院衛生署將應以委辦執行之經費，改由補助費方式辦理，...   \n",
       "2   本案緣陳訴人檢附採證照片陳訴台北市政府核准設立之新生代環境清潔公司（下二稱新生代公司）、統徠...   \n",
       "3   本案前經審計部函報行政院國軍退除役官兵輔導委員會（以下簡稱退輔會）台北榮民總醫院（以下簡稱台...   \n",
       "4   行政院國軍退除役官兵輔導委員會﹙以下簡稱退輔會﹚為改善所屬十一所榮民醫院及十八所安養機構之廢...   \n",
       "..                                                ...   \n",
       "71  本案緣於雲林縣褒忠鄉鄉長陳建名等人，疑利用職務上機會詐取財物及從事不當行為，涉犯貪污治罪條例...   \n",
       "72  審計部派員調查空軍司令部及海軍司令部辦理「噴嘴等118項」等18件軍機或軍艦引擎料件採購案，...   \n",
       "73  地方鄉、鎮公所首長濫用清潔隊員人事進用及核定之權限，要求、期約、收受賄賂之案例層出不窮，屏東...   \n",
       "74  台電公司電力修護處洪姓課長(下稱洪員)，涉以「限制廠商資格」、「制定特殊產品規格」等方式，於...   \n",
       "75  文化部辦理「北部流行音樂中心計畫」，自行政院民國（下同）93年2月18日核定原始計畫「流行音...   \n",
       "\n",
       "                                             metadata  \n",
       "0   {'kw': \"['政府', '行政院', '案件', '原住民', '計畫', '漁探機'...  \n",
       "1   {'kw': \"['計畫', '捐助', '年度', '行政院', '案件', '意旨', ...  \n",
       "2   {'kw': \"['政府', '公司', '清除', '垃圾', '顯有', '核准', '...  \n",
       "3   {'kw': \"['工程', '提升', '於九', '法定', '完成', '台北', '...  \n",
       "4   {'kw': \"['工程', '政府', '下水道', '方式', '核有', '污水', ...  \n",
       "..                                                ...  \n",
       "71  {'kw': \"['依法', '年度', '褒忠', '利益', '公司', '東衛', '...  \n",
       "72  {'kw': \"['司令部', '禁止', '顯有', '提升', '安全', '引擎', ...  \n",
       "73  {'kw': \"['公所', '政府', '決標', '方式', '藉由', '致予', '...  \n",
       "74  {'kw': \"['政府', '訪價', '未能', '下稱', '損及', '有失', '...  \n",
       "75  {'kw': \"['支付', '市政府', '計畫', '成立', '具有', '衍生', ...  \n",
       "\n",
       "[76 rows x 5 columns]"
      ]
     },
     "execution_count": 3,
     "metadata": {},
     "output_type": "execute_result"
    }
   ],
   "source": [
    "organized_result = pd.read_csv('temp_result/organized_result_1.csv')\n",
    "organized_result"
   ]
  },
  {
   "cell_type": "code",
   "execution_count": 4,
   "metadata": {},
   "outputs": [],
   "source": [
    "text_splitter = RecursiveCharacterTextSplitter(\n",
    "    chunk_size = 1000,\n",
    "    chunk_overlap = 500,\n",
    "    length_function= len\n",
    ")"
   ]
  },
  {
   "cell_type": "code",
   "execution_count": 5,
   "metadata": {},
   "outputs": [],
   "source": [
    "document_reason_loader = DataFrameLoader(organized_result, page_content_column='reason')\n",
    "document_reason = document_reason_loader.load()\n",
    "\n",
    "document_target_loader = DataFrameLoader(organized_result, page_content_column='target')\n",
    "document_target = document_target_loader.load()"
   ]
  },
  {
   "cell_type": "code",
   "execution_count": 26,
   "metadata": {},
   "outputs": [
    {
     "name": "stderr",
     "output_type": "stream",
     "text": [
      "e:\\miniconda3\\envs\\project_envelop\\lib\\site-packages\\huggingface_hub\\file_download.py:1132: FutureWarning: `resume_download` is deprecated and will be removed in version 1.0.0. Downloads always resume when possible. If you want to force a new download, use `force_download=True`.\n",
      "  warnings.warn(\n"
     ]
    }
   ],
   "source": [
    "# embed_model_id = 'sentence-transformers/paraphrase-multilingual-MiniLM-L12-v2'\n",
    "embed_model_id = \"sentence-transformers/distiluse-base-multilingual-cased-v1\"\n",
    "\n",
    "core_embedding_model = HuggingFaceBgeEmbeddings(model_name=embed_model_id)\n",
    "\n",
    "store = LocalFileStore(\"./cache/\")\n",
    "embedder = CacheBackedEmbeddings.from_bytes_store(\n",
    "    core_embedding_model, store, namespace=embed_model_id\n",
    ")\n",
    "\n",
    "vector_store = FAISS.from_documents(document_reason, embedder)\n",
    "# vector_store = FAISS.from_documents(document_target, embedder)"
   ]
  },
  {
   "cell_type": "code",
   "execution_count": 7,
   "metadata": {},
   "outputs": [
    {
     "name": "stdout",
     "output_type": "stream",
     "text": [
      "行政院國家科學委員會\n",
      "行政院原子能委員會\n",
      "行政院農業委員會\n",
      "行政院衛生署\n",
      "行政院原住民族委員會及花蓮縣政府\n"
     ]
    }
   ],
   "source": [
    "query = \"\"\"行政院\"\"\"\n",
    "embedding_vector = core_embedding_model.embed_query(query)\n",
    "docs = vector_store.similarity_search_by_vector(embedding_vector, k=5)\n",
    "\n",
    "for page in docs:\n",
    "    print(page.page_content)"
   ]
  },
  {
   "cell_type": "code",
   "execution_count": 8,
   "metadata": {},
   "outputs": [
    {
     "name": "stderr",
     "output_type": "stream",
     "text": [
      "e:\\miniconda3\\envs\\project_envelop\\lib\\site-packages\\transformers\\models\\auto\\auto_factory.py:468: FutureWarning: The `use_auth_token` argument is deprecated and will be removed in v5 of Transformers. Please use `token` instead.\n",
      "  warnings.warn(\n",
      "Loading checkpoint shards: 100%|██████████| 3/3 [00:08<00:00,  2.91s/it]\n"
     ]
    },
    {
     "data": {
      "text/plain": [
       "LlamaForCausalLM(\n",
       "  (model): LlamaModel(\n",
       "    (embed_tokens): Embedding(32000, 4096)\n",
       "    (layers): ModuleList(\n",
       "      (0-31): 32 x LlamaDecoderLayer(\n",
       "        (self_attn): LlamaSdpaAttention(\n",
       "          (q_proj): Linear4bit(in_features=4096, out_features=4096, bias=False)\n",
       "          (k_proj): Linear4bit(in_features=4096, out_features=4096, bias=False)\n",
       "          (v_proj): Linear4bit(in_features=4096, out_features=4096, bias=False)\n",
       "          (o_proj): Linear4bit(in_features=4096, out_features=4096, bias=False)\n",
       "          (rotary_emb): LlamaRotaryEmbedding()\n",
       "        )\n",
       "        (mlp): LlamaMLP(\n",
       "          (gate_proj): Linear4bit(in_features=4096, out_features=11008, bias=False)\n",
       "          (up_proj): Linear4bit(in_features=4096, out_features=11008, bias=False)\n",
       "          (down_proj): Linear4bit(in_features=11008, out_features=4096, bias=False)\n",
       "          (act_fn): SiLU()\n",
       "        )\n",
       "        (input_layernorm): LlamaRMSNorm()\n",
       "        (post_attention_layernorm): LlamaRMSNorm()\n",
       "      )\n",
       "    )\n",
       "    (norm): LlamaRMSNorm()\n",
       "  )\n",
       "  (lm_head): Linear(in_features=4096, out_features=32000, bias=False)\n",
       ")"
      ]
     },
     "execution_count": 8,
     "metadata": {},
     "output_type": "execute_result"
    }
   ],
   "source": [
    "model_id = \"DavidLanz/Llama2-tw-7B-v2.0.1-chat\"\n",
    "device_map = {\"\": 0}\n",
    "\n",
    "bnb_config = BitsAndBytesConfig(\n",
    "    load_in_4bit=True,\n",
    "    bnb_4bit_quant_type='nf4', # normalized float 4\n",
    "    bnb_4bit_compute_dtype='float16', # compute in float point 16\n",
    "    bnb_4bit_use_double_quant=True # double quant to compress the model\n",
    ")\n",
    "\n",
    "model = AutoModelForCausalLM.from_pretrained(\n",
    "    model_id,\n",
    "    device_map=device_map,\n",
    "    quantization_config=bnb_config,\n",
    "    trust_remote_code=True,\n",
    "    use_auth_token=True\n",
    ")\n",
    "\n",
    "model.eval()"
   ]
  },
  {
   "cell_type": "code",
   "execution_count": 11,
   "metadata": {},
   "outputs": [],
   "source": [
    "tokenizer = AutoTokenizer.from_pretrained(\n",
    "    model_id,\n",
    "    token = '',\n",
    ")"
   ]
  },
  {
   "cell_type": "code",
   "execution_count": 18,
   "metadata": {},
   "outputs": [],
   "source": [
    "generate_text = pipeline(\n",
    "    model=model,\n",
    "    tokenizer=tokenizer,\n",
    "    task=\"text-generation\",\n",
    "    return_full_text=True,\n",
    "    temperature=1.0,\n",
    "    max_length=2048,\n",
    "    max_new_tokens=256\n",
    ")"
   ]
  },
  {
   "cell_type": "code",
   "execution_count": 19,
   "metadata": {},
   "outputs": [],
   "source": [
    "llm = HuggingFacePipeline(pipeline=generate_text)"
   ]
  },
  {
   "cell_type": "code",
   "execution_count": 20,
   "metadata": {},
   "outputs": [
    {
     "name": "stderr",
     "output_type": "stream",
     "text": [
      "Both `max_new_tokens` (=256) and `max_length`(=2048) seem to have been set. `max_new_tokens` will take precedence. Please refer to the documentation for more information. (https://huggingface.co/docs/transformers/main/en/main_classes/text_generation)\n",
      "e:\\miniconda3\\envs\\project_envelop\\lib\\site-packages\\transformers\\models\\llama\\modeling_llama.py:649: UserWarning: 1Torch was not compiled with flash attention. (Triggered internally at ..\\aten\\src\\ATen\\native\\transformers\\cuda\\sdp_utils.cpp:455.)\n",
      "  attn_output = torch.nn.functional.scaled_dot_product_attention(\n"
     ]
    },
    {
     "data": {
      "text/plain": [
       "'### USER: 請告訴我2024年1月台積電的股價狀況? \\n### ASSISTANT: 我無法預測未來的股票價格，也無法提供未來的市場分析和趨勢預測。股價的波動和變化因素有很多，沒有任何可靠的方法可以確定特定時間的股票價格。 此外，市場波動是常見的，我們也不能保證股票價格將保持穩定。'"
      ]
     },
     "execution_count": 20,
     "metadata": {},
     "output_type": "execute_result"
    }
   ],
   "source": [
    "cb = StreamingStdOutCallbackHandler()\n",
    "llm(\"### USER: 請告訴我2024年1月台積電的股價狀況? \\n### ASSISTANT: \", callbacks=[cb])"
   ]
  },
  {
   "cell_type": "code",
   "execution_count": 31,
   "metadata": {},
   "outputs": [],
   "source": [
    "template = \"\"\"你是監察院資料查詢服務機器人。\n",
    "\n",
    "{context}\n",
    "\n",
    "只使用提供的來源資料回答客戶的問題。如果您不確定，請說：\"我不知道，請致電給我們的客戶支援\"。使用禮貌專業的語言。\n",
    "保持回答簡潔摘要，並列出資料來源出處。\n",
    "\n",
    "問題：\n",
    "\n",
    "答案：\"\"\""
   ]
  },
  {
   "cell_type": "code",
   "execution_count": null,
   "metadata": {},
   "outputs": [],
   "source": [
    "prompt = PromptTemplate(template=template, input_variables=[\"context\"])\n",
    "print(\n",
    "    prompt.format(\n",
    "        context = \"一位客戶希望透過資料查詢AI服務機器人提供與他問題相關的資料。\"\n",
    "    )\n",
    ")"
   ]
  },
  {
   "cell_type": "code",
   "execution_count": 27,
   "metadata": {},
   "outputs": [
    {
     "name": "stderr",
     "output_type": "stream",
     "text": [
      "Both `max_new_tokens` (=256) and `max_length`(=2048) seem to have been set. `max_new_tokens` will take precedence. Please refer to the documentation for more information. (https://huggingface.co/docs/transformers/main/en/main_classes/text_generation)\n"
     ]
    }
   ],
   "source": [
    "# top_k = 3\n",
    "# query = \"國防部的採購案有哪些\"\n",
    "# embedding_vector = core_embedding_model.embed_query(query)\n",
    "# docs = vector_store.similarity_search_by_vector(embedding_vector, k=top_k)\n",
    "\n",
    "# reference = []\n",
    "# for page in docs:\n",
    "#     reference.append(page.page_content)\n",
    "#     # print(page.page_content)\n",
    "\n",
    "# from langchain.prompts import PromptTemplate\n",
    "\n",
    "# template = \"\"\"\n",
    "# ### INSTRUCTION: 請根據 REF 回答 USER 的問題\n",
    "# ### REF: {reference}\n",
    "# ### USER: {query}\n",
    "# ### ASSISTANT: \"\"\"\n",
    "# prompt = PromptTemplate.from_template(template)\n",
    "\n",
    "# chain = prompt | llm\n",
    "\n",
    "# data = {\n",
    "#     \"reference\": \" \".join(reference),\n",
    "#     \"query\": query,\n",
    "# }\n",
    "# # print(data)\n",
    "# result = chain.invoke(data)\n"
   ]
  },
  {
   "cell_type": "code",
   "execution_count": 30,
   "metadata": {},
   "outputs": [
    {
     "data": {
      "text/plain": [
       "['國防部所屬海軍司令部、空軍司令部、空軍官校、航技學校及生製中心等採購單位辦理「103年度教準部鎮海、嘉華營區營舍整修工程」等19件採購案，不同投標廠商之投標文件有重大異常關聯等情，嚴重影響採購公帄性，惟機關審標人員均未能發現及時處理，致政府採購法規定及工程會相關解釋令（函）形同具文經審計部密送國防部（總督察長室）查明，國防部卻僅依廠商回函說明，未督促所屬釐清是否涉及不法，並檢討相關人員責任；且國防部總督察長室職掌該部軍風紀，本應藉其客觀超然之督察地位，統整發揮機關內控功能，秘密對涉嫌不法之採購案，進行財務稽核及軍紀監察；卻逕將審計部密函轉交國防採購室辦理；國防採購室又層層下轉海軍司令部、空軍司令部、軍備局及其下屬採購單位，完全失去審計部密送總督察長之原意，均有違失，爰依法提案糾正',\n",
       " '國防部辦理空軍第二後勤指揮部軍工廠委託民間經營採購案，對於陳情廠商106年9月26日陳情函，未落實依採購稽核小組組織準則規定妥處；另辦理本案過程與政府採購法第51條及採購評選委員會審議規則等相關規定容屬有間；又未於事前掌握評選委員出席人數，並及時因應更改評選委員會議時間，以獲得更多委員出席參與評選；且本案經辦過程洵有未盡周延之處，造成廠商多次質疑及申訴，影響政府施政效能，難辭監督不周疏失責任，國防部及所屬空軍司令部均有違失，爰依法提案糾正',\n",
       " '國防部軍備局辦理「海軍測校磁站裝備整修」勞務採購案，招標文件規定全案12項工程均為主要部分，依政府採購法規定應由得標廠商自行履行，不得由其他廠商代為履行，否則即違反不得轉包之規定查得標廠商○○工程股份有限公司提出之整修企劃書內容說明其協力合作廠商，且提出之「台電蘭嶼核廢料與放射性廢料桶檢整重建計畫處理中心作業系統之建立與運轉案」實績證明，並未含括全案12項工程主要部分，明顯違反規定，國防部軍備局不察仍審查合格，顯有違失，爰依法提案糾正']"
      ]
     },
     "execution_count": 30,
     "metadata": {},
     "output_type": "execute_result"
    }
   ],
   "source": [
    "reference"
   ]
  },
  {
   "cell_type": "code",
   "execution_count": 29,
   "metadata": {},
   "outputs": [
    {
     "name": "stdout",
     "output_type": "stream",
     "text": [
      "\n",
      "### INSTRUCTION: 請根據 REF 回答 USER 的問題\n",
      "### REF: 國防部所屬海軍司令部、空軍司令部、空軍官校、航技學校及生製中心等採購單位辦理「103年度教準部鎮海、嘉華營區營舍整修工程」等19件採購案，不同投標廠商之投標文件有重大異常關聯等情，嚴重影響採購公帄性，惟機關審標人員均未能發現及時處理，致政府採購法規定及工程會相關解釋令（函）形同具文經審計部密送國防部（總督察長室）查明，國防部卻僅依廠商回函說明，未督促所屬釐清是否涉及不法，並檢討相關人員責任；且國防部總督察長室職掌該部軍風紀，本應藉其客觀超然之督察地位，統整發揮機關內控功能，秘密對涉嫌不法之採購案，進行財務稽核及軍紀監察；卻逕將審計部密函轉交國防採購室辦理；國防採購室又層層下轉海軍司令部、空軍司令部、軍備局及其下屬採購單位，完全失去審計部密送總督察長之原意，均有違失，爰依法提案糾正 國防部辦理空軍第二後勤指揮部軍工廠委託民間經營採購案，對於陳情廠商106年9月26日陳情函，未落實依採購稽核小組組織準則規定妥處；另辦理本案過程與政府採購法第51條及採購評選委員會審議規則等相關規定容屬有間；又未於事前掌握評選委員出席人數，並及時因應更改評選委員會議時間，以獲得更多委員出席參與評選；且本案經辦過程洵有未盡周延之處，造成廠商多次質疑及申訴，影響政府施政效能，難辭監督不周疏失責任，國防部及所屬空軍司令部均有違失，爰依法提案糾正 國防部軍備局辦理「海軍測校磁站裝備整修」勞務採購案，招標文件規定全案12項工程均為主要部分，依政府採購法規定應由得標廠商自行履行，不得由其他廠商代為履行，否則即違反不得轉包之規定查得標廠商○○工程股份有限公司提出之整修企劃書內容說明其協力合作廠商，且提出之「台電蘭嶼核廢料與放射性廢料桶檢整重建計畫處理中心作業系統之建立與運轉案」實績證明，並未含括全案12項工程主要部分，明顯違反規定，國防部軍備局不察仍審查合格，顯有違失，爰依法提案糾正\n",
      "### USER: 國防部的採購案有哪些\n",
      "### ASSISTANT: 國防部的採購案有哪些？\n",
      "國防部所屬海軍司令部、空軍司令部、空軍官校、航技學校及生製中心等採購單位辦理「103年度教準部鎮海、嘉華營區營舍整修工程」等19件採購案，不同投標廠商之投標文件有重大異常關聯等情，嚴重影響採購公帄性，但機關審標人員均未能發現及時處理，致政府採購法規定及工程會相關解釋令（函）形同具文經審計\n"
     ]
    }
   ],
   "source": [
    "print(result)"
   ]
  },
  {
   "cell_type": "code",
   "execution_count": 25,
   "metadata": {},
   "outputs": [],
   "source": [
    "# template = \"\"\"\n",
    "# ### INSTRUCTION: 請根據 REF 回答 USER 的問題\n",
    "# ### REF: {reference}\n",
    "# ### USER: {query}\n",
    "# ### ASSISTANT: \"\"\"\n",
    "# prompt = PromptTemplate.from_template(template)\n",
    "\n",
    "# chain_type_kwargs = {\"prompt\": prompt}\n",
    "\n",
    "# chain = RetrievalQA.from_chain_type(\n",
    "#     llm=llm,\n",
    "#     chain_type=\"stuff\",\n",
    "#     retriever=vector_store.as_retriever(search_type=\"similarity\", search_kwargs={\"k\": 1}, max_tokens_limit=250, return_source_documents=False),\n",
    "#     # retriever=vector_store.as_retriever(search_type=\"similarity_score_threshold\", search_kwargs={\"score_threshold\": 0.3, \"k\": 1}, max_tokens_limit=250, return_source_documents=False),\n",
    "#     chain_type_kwargs=chain_type_kwargs,\n",
    "# )"
   ]
  }
 ],
 "metadata": {
  "kernelspec": {
   "display_name": "project_envelop",
   "language": "python",
   "name": "python3"
  },
  "language_info": {
   "codemirror_mode": {
    "name": "ipython",
    "version": 3
   },
   "file_extension": ".py",
   "mimetype": "text/x-python",
   "name": "python",
   "nbconvert_exporter": "python",
   "pygments_lexer": "ipython3",
   "version": "3.10.14"
  }
 },
 "nbformat": 4,
 "nbformat_minor": 2
}
