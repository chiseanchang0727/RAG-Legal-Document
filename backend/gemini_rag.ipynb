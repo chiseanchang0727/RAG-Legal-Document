{
 "cells": [
  {
   "cell_type": "code",
   "execution_count": 2,
   "metadata": {},
   "outputs": [],
   "source": [
    "import os\n",
    "import re\n",
    "import json\n",
    "import pandas as pd\n",
    "from src.utils import read_config\n",
    "from prompts import gemini_prompts\n",
    "import google.generativeai as genai\n",
    "import google.ai.generativelanguage as glm\n",
    "\n",
    "from langchain_huggingface import HuggingFaceEmbeddings\n",
    "from langchain.document_loaders import DataFrameLoader\n",
    "from langchain.text_splitter import RecursiveCharacterTextSplitter\n",
    "from langchain_community.vectorstores.faiss import FAISS, DistanceStrategy\n",
    "from langchain.chains import RetrievalQA\n",
    "from langchain.chains import ConversationalRetrievalChain\n",
    "from langchain.prompts import PromptTemplate\n",
    "\n",
    "from langchain.chains.query_constructor.base import AttributeInfo\n",
    "from langchain.retrievers.self_query.base import SelfQueryRetriever\n",
    "\n",
    "import warnings\n",
    "warnings.filterwarnings(\"ignore\", category=DeprecationWarning)"
   ]
  },
  {
   "cell_type": "markdown",
   "metadata": {},
   "source": [
    "## 0609 notes\n",
    "1. Add KG(knowledge graph) as part of metadata\n",
    "2. Use SelfQueryRetriver to get the top_k answer\n",
    "3. Override the `_get_docs_with_query` to use the `similarity_search_with_score` method(or with `similarity_search_with_score_by_vector`)"
   ]
  },
  {
   "cell_type": "code",
   "execution_count": 3,
   "metadata": {},
   "outputs": [
    {
     "data": {
      "text/plain": [
       "(76, 5)"
      ]
     },
     "execution_count": 3,
     "metadata": {},
     "output_type": "execute_result"
    }
   ],
   "source": [
    "organized_result = pd.read_csv('temp_result/organized_result_1.csv')\n",
    "organized_result.shape"
   ]
  },
  {
   "cell_type": "code",
   "execution_count": 4,
   "metadata": {},
   "outputs": [],
   "source": [
    "configs = read_config('.env/configs.json')\n",
    "api_key =configs['g_key']\n",
    "os.environ[\"GOOGLE_API_KEY\"] = api_key\n",
    "genai.configure(api_key=api_key)"
   ]
  },
  {
   "cell_type": "code",
   "execution_count": 5,
   "metadata": {},
   "outputs": [],
   "source": [
    "text_splitter = RecursiveCharacterTextSplitter(\n",
    "    chunk_size = 1000,\n",
    "    chunk_overlap = 500,\n",
    "    length_function= len\n",
    ")"
   ]
  },
  {
   "cell_type": "code",
   "execution_count": 6,
   "metadata": {},
   "outputs": [
    {
     "name": "stdout",
     "output_type": "stream",
     "text": [
      "已為所有文件進行 chunk  76 筆\n"
     ]
    }
   ],
   "source": [
    "reason_loader = DataFrameLoader(organized_result, page_content_column='reason')\n",
    "reason_data = reason_loader.load()\n",
    "\n",
    "target_loader = DataFrameLoader(organized_result, page_content_column='target')\n",
    "target_data = target_loader.load()\n",
    "\n",
    "reason_documents = text_splitter.transform_documents(reason_data)\n",
    "print(\"已為所有文件進行 chunk \",len(reason_documents),\"筆\")"
   ]
  },
  {
   "cell_type": "code",
   "execution_count": 7,
   "metadata": {},
   "outputs": [
    {
     "name": "stderr",
     "output_type": "stream",
     "text": [
      "e:\\miniconda3\\envs\\project_envelop\\lib\\site-packages\\huggingface_hub\\file_download.py:1132: FutureWarning: `resume_download` is deprecated and will be removed in version 1.0.0. Downloads always resume when possible. If you want to force a new download, use `force_download=True`.\n",
      "  warnings.warn(\n"
     ]
    }
   ],
   "source": [
    "model_name = \"sentence-transformers/distiluse-base-multilingual-cased-v1\"\n",
    "embeddings = HuggingFaceEmbeddings(model_name=model_name)"
   ]
  },
  {
   "cell_type": "code",
   "execution_count": 8,
   "metadata": {},
   "outputs": [],
   "source": [
    "vector_db_path = \"./vector_db/\"\n",
    "# chroma_collection_name = \"langchain\"\n",
    "# if not os.path.exists(vector_db_path):\n",
    "#     os.makedirs(vector_db_path)\n",
    "#     print(f\"Created folder: {vector_db_path}\")\n",
    "    \n",
    "# vector_store = FAISS.from_documents(reason_documents, embeddings, normalize_L2=True, distance_strategy=DistanceStrategy.MAX_INNER_PRODUCT)\n",
    "# vector_store.save_local(folder_path=vector_db_path)\n",
    "\n",
    "# load FAISS\n",
    "vectorstore = FAISS.load_local(folder_path=vector_db_path, allow_dangerous_deserialization=True, embeddings=embeddings)"
   ]
  },
  {
   "cell_type": "code",
   "execution_count": 9,
   "metadata": {},
   "outputs": [
    {
     "data": {
      "text/plain": [
       "[(Document(page_content='行政院客家委員會、行政院原住民族委員會及僑務委員會將客家電視、原住民電視及臺灣宏觀電視等頻道節目之製播，依政府採購法委由財團法人公共電視文化事業基金會辦理，雖非無據，惟造成公視基金會與客委會、原民會及僑委會針對上開頻道節目之製播各有立場、互生歧見，致紛爭不斷，詎行政院新聞局坐視上開爭端，非但未積極研修法令，亦未尋求妥適解決辦法，核有怠失，爰依法提案糾正', metadata={'document': '52587.pdf', 'target': '行政院新聞局', 'fact': '行政院客家委員會、行政院原住民族委員會及僑務委員會(下稱客委會、原民會及僑委會)將客家電視、原住民電視及臺灣宏觀電視(下稱客視、原視及宏觀電視)等頻道節目之製播，依政府採購法委由財團法人公共電視文化事業基金會(下稱公視基金會)辦理，雖非無據，惟造成公視基金會與客委會、原民會及僑委會針對上開頻道節目之製播各有立場、互生歧見，致紛爭不斷，詎行政院新聞局(下稱新聞局)坐視上開爭端，非但未積極研修法令，亦未尋求妥適解決辦法，核有怠失，茲提出事實與理由於后一、據陳訴人指陳略以，95年無線公股處理條例於立法院三讀通過，目的在使黨、政、軍退出媒體，95年7月17日行政院召開「研商『無電視事業公股處理條例』規範原民台、客家台及宏觀頻道交由公共電視台製播2相關機關間溝通協調機制之建立問題」會議，會中決議「其製播所需經費之移撥(無政府採購法之適用問題)…」詎客委會、原民會及僑委會未依該決議辦理，仍依政府採購法，以標案形式由公視基金會辦理，實非合理又公視基金會辦理「原、客、宏觀頻道之計畫與製播」，並無獨立之經費得以辦理，而係由政府部門辦理審查、驗收，始得請領款項之情況，違反無線公股處理條例黨政軍退出媒體之精神，造成公共電視新聞自主性、專業性之箝制，詎該公股處理條例對「經費」疏漏等問題，迄未立法補正，亦造成公共電視台(下稱公視)財務經營之困境目前公視代為製播「原、客、宏觀頻道」，亦遭客委會、原民會及僑委會等延宕付款，更造成公視財務經營困難等語云云二、依據「無線電視事業公股處理條例」第14條第3項所定「政府編列預算招標採購或設置之客家電視、原住民電視、台灣宏觀電視等頻道節目之製播，應於本條例公布施行後之次年度起，『交由』公視基金會辦理」目前公視基金會係依照政府採購法之規定，定期向客委會、原民會及僑委會提出營運計畫書、工作報告、驗收作業等相關作業惟公視基金會之經營係遵循公共電視法，強調公共價值並尊重媒體獨立自主，雙方如因立場不同，對於節目內容則容易產生落差、甚至互有扞格，如客委會、原民會及僑委會往往冀望自己出資之媒體能宣傳政令並且友善配合，公視基金會基於維護經營獨立自主之立場認以公眾利益為先，並批評、監督政府施政惟現行雙方係屬委辦關係，故而目前公視在製播上開頻道係以符合標案合約為首要目標，並且每季需接受驗收審核，通過後始能領取製播費用，將因此影響節目之方向與品質三、復查客委會96年度第2、3、4、5期，97年度第2、33、4期及99年度第2期均因公視基金會所送驗收資料不齊全，於通知補正、資料送達後始辦理驗收，致公視基金會函文客委會請款後一、二個月後，該會始撥付款項；又客委會與公視基金會有關98年度客視委辦契約文件歷經召開6次協調會議始達成共識，迨於98年5月26日簽定契約書，致98年度第1期公視基金會於同年6月16日方能函請客委會撥款，而客委會始於同年7月1日付款另查原民會因公視基金會97年度第2期在製播新聞未符合該會驗收要求，對於公視基金會於97年5月14日發函請款後，延至同年9月17日始撥付款項再查僑委會於96年第1期亦因公視基金會製播宏觀電視於同年1月10日節目訊號傳輸中斷8小時及同年1月29日未派員採訪該會活動，分別扣款新台幣(下同)61萬772元及5萬元之情事，且98、99年度第1期皆於公視函文請款後相隔2個月左右始撥付款項顯示客委會、原民會及僑委會確有因節目內容不符要求，致延宕付款之情事，惟在維持客視、原視及宏觀電視節目持續播映下，公視基金會需預先墊款經營製播，加上資金難以調度，造成公視基金會財務經營之困難四、據上，頻道委託製播遠較個別節目委託製造所涉契約關係更廣泛，而契約當事人間互動更密切，甚至可能直接涉及製播之節目內容，進而影響公視基金會之整體經營運作查客委會、原民會及僑委會將客視、原視及宏觀電視等頻道節目之製播，依政府採購法委由公視基金會辦理，雖非無據，惟造成公視基金會與客委會、原民會及僑委會針對上開電視頻道節目之製播各有立場、互生歧見，致紛爭不斷詎行政院新聞局雖為「無線電視事業公股處理條例」之主管機關，卻一再以，客委會、原民會及僑委會等機關自96年14月1日起依公股處理條例規定，將其編列預算招標採購之客視、原視、宏觀電視等頻道節目之製播交由公視辦理，即已符合前開法令之規定及意旨，至於各頻道節目製播交由公視辦理之方式，則屬各頻道主管機關權責，該局均予尊重等語云云，而坐視上開爭端，非但未能儘速與各相關主管機關及公視基金會協商，尋求妥適解決辦法，亦未積極修法，以徹底解決此問題，顯有怠失綜上，行政院客家委員會、行政院原住民族委員會及僑務委員會將客家電視、原住民電視及臺灣宏觀電視等頻道節目之製播，依政府採購法委由財團法人公共電視文化事業基金會辦理，雖非無據，惟造成公視基金會與客委會、原民會及僑委會針對上開頻道節目之製播各有立場、互生歧見，致紛爭不斷，詎行政院新聞局坐視上開爭端，非但未積極研修法令，亦未尋求妥適解決辦法，核有怠失，爰依監察法第24條提案糾正，移送行政院轉飭所屬行政院新聞局確實檢討改善見復5', 'metadata': {'kw': \"['行政院', '上開', '客家', '法令', '核有', '法委', '研修', '造成', '怠失', '政府']\", 'ks': \"['」詎客委會、原民會及僑委會未依該決議辦理，仍依政府採購法，以標案形式由公視基金會辦理，實非合理又公視基金會辦理「原、客、宏觀頻道之計畫與製播」，並無獨立之經費得以辦理，而係由政府部門辦理審查、驗收，始得請領款項之情況，違反無線公股處理條例黨政軍退出媒體之精神，造成公共電視新聞自主性、專業性之箝制，詎該公股處理條例對「經費」疏漏等問題，迄未立法補正，亦造成公共電視台(下稱公視)財務經營之困境目前公視代為製播「原、客、宏觀頻道」，亦遭客委會、原民會及僑委會等延宕付款，更造成公視財務經營困難等語云云二、依據「無線電視事業公股處理條例」第14條第3項所定「政府編列預算招標採購或設置之客家電視、原住民電視、台灣宏觀電視等頻道節目之製播，應於本條例公布施行後之次年度起，『交由』公視基金會辦理」目前公視基金會係依照政府採購法之規定，定期向客委會、原民會及僑委會提出營運計畫書、工作報告、驗收作業等相關作業惟公視基金會之經營係遵循公共電視法，強調公共價值並尊重媒體獨立自主，雙方如因立場不同，對於節目內容則容易產生落差、甚至互有扞格，如客委會、原民會及僑委會往往冀望自己出資之媒體能宣傳政令並且友善配合，公視基金會基於維護經營獨立自主之立場認以公眾利益為先，並批評、監督政府施政惟現行雙方係屬委辦關係，故而目前公視在製播上開頻道係以符合標案合約為首要目標，並且每季需接受驗收審核，通過後始能領取製播費用，將因此影響節目之方向與品質三、復查客委會96年度第2、3、4、5期，97年度第2、33、4期及99年度第2期均因公視基金會所送驗收資料不齊全，於通知補正、資料送達後始辦理驗收，致公視基金會函文客委會請款後一、二個月後，該會始撥付款項；又客委會與公視基金會有關98年度客視委辦契約文件歷經召開6次協調會議始達成共識，迨於98年5月26日簽定契約書，致98年度第1期公視基金會於同年6月16日方能函請客委會撥款，而客委會始於同年7月1日付款另查原民會因公視基金會97年度第2期在製播新聞未符合該會驗收要求，對於公視基金會於97年5月14日發函請款後，延至同年9月17日始撥付款項再查僑委會於96年第1期亦因公視基金會製播宏觀電視於同年1月10日節目訊號傳輸中斷8小時及同年1月29日未派員採訪該會活動，分別扣款新台幣(下同)61萬772元及5萬元之情事，且98、99年度第1期皆於公視函文請款後相隔2個月左右始撥付款項顯示客委會、原民會及僑委會確有因節目內容不符要求，致延宕付款之情事，惟在維持客視、原視及宏觀電視節目持續播映下，公視基金會需預先墊款經營製播，加上資金難以調度，造成公視基金會財務經營之困難四、據上，頻道委託製播遠較個別節目委託製造所涉契約關係更廣泛，而契約當事人間互動更密切，甚至可能直接涉及製播之節目內容，進而影響公視基金會之整體經營運作查客委會、原民會及僑委會將客視、原視及宏觀電視等頻道節目之製播，依政府採購法委由公視基金會辦理，雖非無據，惟造成公視基金會與客委會、原民會及僑委會針對上開電視頻道節目之製播各有立場、互生歧見，致紛爭不斷詎行政院新聞局雖為「無線電視事業公股處理條例」之主管機關，卻一再以，客委會、原民會及僑委會等機關自96年14月1日起依公股處理條例規定，將其編列預算招標採購之客視、原視、宏觀電視等頻道節目之製播交由公視辦理，即已符合前開法令之規定及意旨，至於各頻道節目製播交由公視辦理之方式，則屬各頻道主管機關權責，該局均予尊重等語云云，而坐視上開爭端，非但未能儘速與各相關主管機關及公視基金會協商，尋求妥適解決辦法，亦未積極修法，以徹底解決此問題，顯有怠失綜上，行政院客家委員會、行政院原住民族委員會及僑務委員會將客家電視、原住民電視及臺灣宏觀電視等頻道節目之製播，依政府採購法委由財團法人公共電視文化事業基金會辦理，雖非無據，惟造成公視基金會與客委會、原民會及僑委會針對上開頻道節目之製播各有立場、互生歧見，致紛爭不斷，詎行政院新聞局坐視上開爭端，非但未積極研修法令，亦未尋求妥適解決辦法，核有怠失，爰依監察法第24條提案糾正，移送行政院轉飭所屬行政院新聞局確實檢討改善見復5']\"}}),\n",
       "  0.4295517)]"
      ]
     },
     "execution_count": 9,
     "metadata": {},
     "output_type": "execute_result"
    }
   ],
   "source": [
    "query = \"行政院原住民委員會的相關資訊\"\n",
    "\n",
    "embedding_vector = embeddings.embed_query(query)\n",
    "docs = vectorstore.similarity_search_with_score_by_vector(embedding_vector, k=1)\n",
    "docs"
   ]
  },
  {
   "cell_type": "code",
   "execution_count": 10,
   "metadata": {},
   "outputs": [],
   "source": [
    "from langchain_google_genai import (\n",
    "    ChatGoogleGenerativeAI,\n",
    "    HarmBlockThreshold,\n",
    "    HarmCategory,\n",
    ")\n",
    "\n",
    "llm = ChatGoogleGenerativeAI(\n",
    "    model=\"gemini-pro\",\n",
    "    convert_system_message_to_human=True,\n",
    "    safety_settings={\n",
    "        HarmCategory.HARM_CATEGORY_HATE_SPEECH: HarmBlockThreshold.BLOCK_NONE,\n",
    "        HarmCategory.HARM_CATEGORY_HARASSMENT: HarmBlockThreshold.BLOCK_NONE,\n",
    "        HarmCategory.HARM_CATEGORY_DANGEROUS_CONTENT: HarmBlockThreshold.BLOCK_NONE,\n",
    "    },\n",
    ")"
   ]
  },
  {
   "cell_type": "code",
   "execution_count": 11,
   "metadata": {},
   "outputs": [
    {
     "name": "stderr",
     "output_type": "stream",
     "text": [
      "e:\\miniconda3\\envs\\project_envelop\\lib\\site-packages\\langchain_google_genai\\chat_models.py:344: UserWarning: Convert_system_message_to_human will be deprecated!\n",
      "  warnings.warn(\"Convert_system_message_to_human will be deprecated!\")\n"
     ]
    },
    {
     "ename": "AttributeError",
     "evalue": "module 'prompts.gemini_prompts' has no attribute 'triple_PROMPT'",
     "output_type": "error",
     "traceback": [
      "\u001b[1;31m---------------------------------------------------------------------------\u001b[0m",
      "\u001b[1;31mAttributeError\u001b[0m                            Traceback (most recent call last)",
      "Cell \u001b[1;32mIn[11], line 21\u001b[0m\n\u001b[0;32m     18\u001b[0m \u001b[38;5;28;01mif\u001b[39;00m re\u001b[38;5;241m.\u001b[39msearch(pattern, summary_response\u001b[38;5;241m.\u001b[39mcontent):\n\u001b[0;32m     19\u001b[0m     re\u001b[38;5;241m.\u001b[39msub(pattern, \u001b[38;5;124m'\u001b[39m\u001b[38;5;124m'\u001b[39m, summary_response\u001b[38;5;241m.\u001b[39mcontent)\n\u001b[1;32m---> 21\u001b[0m triple_prompt \u001b[38;5;241m=\u001b[39m PromptTemplate\u001b[38;5;241m.\u001b[39mfrom_template(\u001b[43mgemini_prompts\u001b[49m\u001b[38;5;241;43m.\u001b[39;49m\u001b[43mtriple_PROMPT\u001b[49m)\n\u001b[0;32m     22\u001b[0m chain \u001b[38;5;241m=\u001b[39m triple_prompt \u001b[38;5;241m|\u001b[39m llm\n\u001b[0;32m     23\u001b[0m triple_data \u001b[38;5;241m=\u001b[39m {\n\u001b[0;32m     24\u001b[0m     \u001b[38;5;124m\"\u001b[39m\u001b[38;5;124mreference\u001b[39m\u001b[38;5;124m\"\u001b[39m: page[\u001b[38;5;241m0\u001b[39m]\u001b[38;5;241m.\u001b[39mpage_content\n\u001b[0;32m     25\u001b[0m }\n",
      "\u001b[1;31mAttributeError\u001b[0m: module 'prompts.gemini_prompts' has no attribute 'triple_PROMPT'"
     ]
    }
   ],
   "source": [
    "response_data = {}\n",
    "for i, page in enumerate(docs):\n",
    "    # match_content_list.append(page.page_content)\n",
    "    # reference[i] = {\n",
    "    #     \"reason\": page.page_content,\n",
    "    #     \"metadata\": page.metadata\n",
    "    # }\n",
    "\n",
    "    summary_prompt = PromptTemplate.from_template(gemini_prompts.SUMMARY_PROMPT)\n",
    "    chain = summary_prompt | llm\n",
    "    summary_data = {\n",
    "        \"reference\": page[0].page_content\n",
    "    }\n",
    "\n",
    "    summary_response = chain.invoke(summary_data)\n",
    "    \n",
    "    pattern = r'\\*\\*摘要：\\*\\*'\n",
    "    if re.search(pattern, summary_response.content):\n",
    "        re.sub(pattern, '', summary_response.content)\n",
    "        \n",
    "    triple_prompt = PromptTemplate.from_template(gemini_prompts.triple_PROMPT)\n",
    "    chain = triple_prompt | llm\n",
    "    triple_data = {\n",
    "        \"reference\": page[0].page_content\n",
    "    }\n",
    "\n",
    "    triple_response = chain.invoke(triple_data)\n",
    "\n",
    "    triple_response_result = re.sub(r'[```json\\n]', '', triple_response.content).replace(\"實體\", \"entity\").replace(\"關係\", \"relationship\").split(\"、\")[0]\n",
    "\n",
    "    to_json_prompt = PromptTemplate.from_template(gemini_prompts.TO_JSON_PROMPT)\n",
    "    chain = to_json_prompt | llm\n",
    "    data = {\n",
    "        \"reference\": triple_response_result\n",
    "    }\n",
    "\n",
    "    to_json_response = chain.invoke(data)\n",
    "    \n",
    "    triple_json_result = re.sub(r'[\\n]','',to_json_response.content)\n",
    "    triple_json_result = json.loads(f'[{triple_json_result}]')\n",
    "\n",
    "    response_data[i] = {\n",
    "        \"summary\": summary_response.content,\n",
    "        \"source\": page[0].metadata['document'],\n",
    "        \"score\": f\"{page[1]:.2f}\",\n",
    "        \"target\": page[0].metadata['target'],\n",
    "        \"triple\": triple_json_result\n",
    "    }\n",
    "    \n",
    "# print(\"\\n資料來源:\", response_data[0]['metadata']['document'])"
   ]
  },
  {
   "cell_type": "code",
   "execution_count": 21,
   "metadata": {},
   "outputs": [
    {
     "data": {
      "text/plain": [
       "{0: {'summary': '監察院糾正行政院新聞局，原因如下：\\n\\n1. 客家、原住民和宏觀電視頻道的節目製作由公視基金會承辦，但公視基金會與客委會、原民會和僑委會對節目製播立場不同，導致糾紛不斷。\\n\\n2. 行政院新聞局未積極修法或尋求解決方案，任由爭端持續。',\n",
       "  'source': '52587.pdf',\n",
       "  'score': '0.43',\n",
       "  'target': '行政院新聞局',\n",
       "  'tuple': [{'entity1': '行政院客家委員會',\n",
       "    'relationship': '委託',\n",
       "    'entity2': '財團法人公共電視文化事業基金會'},\n",
       "   {'entity1': '行政院原住民族委員會',\n",
       "    'relationship': '委託',\n",
       "    'entity2': '財團法人公共電視文化事業基金會'},\n",
       "   {'entity1': '僑務委員會', 'relationship': '委託', 'entity2': '財團法人公共電視文化事業基金會'}]}}"
      ]
     },
     "execution_count": 21,
     "metadata": {},
     "output_type": "execute_result"
    }
   ],
   "source": [
    "response_data"
   ]
  },
  {
   "cell_type": "code",
   "execution_count": null,
   "metadata": {},
   "outputs": [],
   "source": [
    "kginfo = [\n",
    "    AttributeInfo(\n",
    "        name=\"triple_result\",\n",
    "        description=\"triple of the document in json format. It describe the relation between entities\",\n",
    "        type=\"string\"\n",
    "    )\n",
    "]"
   ]
  }
 ],
 "metadata": {
  "kernelspec": {
   "display_name": "project_envelop",
   "language": "python",
   "name": "python3"
  },
  "language_info": {
   "codemirror_mode": {
    "name": "ipython",
    "version": 3
   },
   "file_extension": ".py",
   "mimetype": "text/x-python",
   "name": "python",
   "nbconvert_exporter": "python",
   "pygments_lexer": "ipython3",
   "version": "3.10.14"
  }
 },
 "nbformat": 4,
 "nbformat_minor": 2
}
