{
 "cells": [
  {
   "cell_type": "code",
   "execution_count": 38,
   "metadata": {},
   "outputs": [],
   "source": [
    "import os\n",
    "import pandas as pd\n",
    "from src.utils import read_json\n",
    "import google.generativeai as genai\n",
    "import google.ai.generativelanguage as glm\n",
    "\n",
    "from langchain_huggingface import HuggingFaceEmbeddings\n",
    "from langchain.document_loaders import DataFrameLoader\n",
    "from langchain.text_splitter import RecursiveCharacterTextSplitter\n",
    "from langchain.vectorstores import Chroma, FAISS\n",
    "from langchain.chains import RetrievalQA\n",
    "from langchain.chains import ConversationalRetrievalChain\n",
    "from langchain.prompts import PromptTemplate\n",
    "\n",
    "import warnings\n",
    "warnings.filterwarnings(\"ignore\", category=DeprecationWarning)\n"
   ]
  },
  {
   "cell_type": "code",
   "execution_count": 23,
   "metadata": {},
   "outputs": [
    {
     "data": {
      "text/plain": [
       "(76, 5)"
      ]
     },
     "execution_count": 23,
     "metadata": {},
     "output_type": "execute_result"
    }
   ],
   "source": [
    "organized_result = pd.read_csv('temp_result/organized_result_1.csv')\n",
    "organized_result.shape"
   ]
  },
  {
   "cell_type": "code",
   "execution_count": 9,
   "metadata": {},
   "outputs": [],
   "source": [
    "configs = read_json('.env/configs.json')\n",
    "api_key =configs['g_key']\n",
    "os.environ[\"GOOGLE_API_KEY\"] = api_key\n",
    "genai.configure(api_key=api_key)"
   ]
  },
  {
   "cell_type": "code",
   "execution_count": 10,
   "metadata": {},
   "outputs": [
    {
     "name": "stdout",
     "output_type": "stream",
     "text": [
      "\n",
      "Model(name='models/gemini-pro',\n",
      "      base_model_id='',\n",
      "      version='001',\n",
      "      display_name='Gemini 1.0 Pro',\n",
      "      description='The best model for scaling across a wide range of tasks',\n",
      "      input_token_limit=30720,\n",
      "      output_token_limit=2048,\n",
      "      supported_generation_methods=['generateContent', 'countTokens'],\n",
      "      temperature=0.9,\n",
      "      top_p=1.0,\n",
      "      top_k=None) \n",
      "\n",
      "Model(name='models/gemini-pro-vision',\n",
      "      base_model_id='',\n",
      "      version='001',\n",
      "      display_name='Gemini 1.0 Pro Vision',\n",
      "      description='The best image understanding model to handle a broad range of applications',\n",
      "      input_token_limit=12288,\n",
      "      output_token_limit=4096,\n",
      "      supported_generation_methods=['generateContent', 'countTokens'],\n",
      "      temperature=0.4,\n",
      "      top_p=1.0,\n",
      "      top_k=32) \n",
      "\n"
     ]
    }
   ],
   "source": [
    "generation_config = {\n",
    "  \"temperature\": 0.9,\n",
    "  \"top_p\": 1,\n",
    "  \"top_k\": 1,\n",
    "  \"max_output_tokens\": 2048,\n",
    "}\n",
    "\n",
    "safety_settings = [\n",
    "  {\n",
    "    \"category\": \"HARM_CATEGORY_HARASSMENT\",\n",
    "    \"threshold\": \"BLOCK_MEDIUM_AND_ABOVE\"\n",
    "  },\n",
    "  {\n",
    "    \"category\": \"HARM_CATEGORY_HATE_SPEECH\",\n",
    "    \"threshold\": \"BLOCK_MEDIUM_AND_ABOVE\"\n",
    "  },\n",
    "  {\n",
    "    \"category\": \"HARM_CATEGORY_SEXUALLY_EXPLICIT\",\n",
    "    \"threshold\": \"BLOCK_MEDIUM_AND_ABOVE\"\n",
    "  },\n",
    "  {\n",
    "    \"category\": \"HARM_CATEGORY_DANGEROUS_CONTENT\",\n",
    "    \"threshold\": \"BLOCK_MEDIUM_AND_ABOVE\"\n",
    "  }\n",
    "]\n",
    "\n",
    "print()\n",
    "print(genai.get_model('models/gemini-pro'),'\\n')\n",
    "print(genai.get_model('models/gemini-pro-vision'),'\\n')"
   ]
  },
  {
   "cell_type": "code",
   "execution_count": 17,
   "metadata": {},
   "outputs": [],
   "source": [
    "text_splitter = RecursiveCharacterTextSplitter(\n",
    "    chunk_size = 1000,\n",
    "    chunk_overlap = 500,\n",
    "    length_function= len\n",
    ")"
   ]
  },
  {
   "cell_type": "code",
   "execution_count": 24,
   "metadata": {},
   "outputs": [
    {
     "name": "stdout",
     "output_type": "stream",
     "text": [
      "已為所有文件進行 chunk  76 筆\n"
     ]
    }
   ],
   "source": [
    "reason_loader = DataFrameLoader(organized_result, page_content_column='reason')\n",
    "reason_data = reason_loader.load()\n",
    "\n",
    "target_loader = DataFrameLoader(organized_result, page_content_column='target')\n",
    "target_data = target_loader.load()\n",
    "\n",
    "reason_documents = text_splitter.transform_documents(reason_data)\n",
    "print(\"已為所有文件進行 chunk \",len(reason_documents),\"筆\")"
   ]
  },
  {
   "cell_type": "code",
   "execution_count": 26,
   "metadata": {},
   "outputs": [
    {
     "name": "stderr",
     "output_type": "stream",
     "text": [
      "e:\\miniconda3\\envs\\project_envelop\\lib\\site-packages\\huggingface_hub\\file_download.py:1132: FutureWarning: `resume_download` is deprecated and will be removed in version 1.0.0. Downloads always resume when possible. If you want to force a new download, use `force_download=True`.\n",
      "  warnings.warn(\n"
     ]
    }
   ],
   "source": [
    "model_name = \"sentence-transformers/distiluse-base-multilingual-cased-v1\"\n",
    "embeddings = HuggingFaceEmbeddings(model_name=model_name)"
   ]
  },
  {
   "cell_type": "code",
   "execution_count": 30,
   "metadata": {},
   "outputs": [],
   "source": [
    "vector_db_path = \"./vector_db/\"\n",
    "chroma_collection_name = \"langchain\"\n",
    "if not os.path.exists(vector_db_path):\n",
    "    os.makedirs(vector_db_path)\n",
    "    print(f\"Created folder: {vector_db_path}\")\n",
    "    \n",
    "vector_store = FAISS.from_documents(reason_documents, embeddings)\n",
    "vector_store.save_local(folder_path=vector_db_path)\n",
    "\n",
    "# load FAISS\n",
    "vectorstore = FAISS.load_local(folder_path=vector_db_path, allow_dangerous_deserialization=True, embeddings=embeddings)"
   ]
  },
  {
   "cell_type": "code",
   "execution_count": 34,
   "metadata": {},
   "outputs": [
    {
     "name": "stdout",
     "output_type": "stream",
     "text": [
      "行政院客家委員會、行政院原住民族委員會及僑務委員會將客家電視、原住民電視及臺灣宏觀電視等頻道節目之製播，依政府採購法委由財團法人公共電視文化事業基金會辦理，雖非無據，惟造成公視基金會與客委會、原民會及僑委會針對上開頻道節目之製播各有立場、互生歧見，致紛爭不斷，詎行政院新聞局坐視上開爭端，非但未積極研修法令，亦未尋求妥適解決辦法，核有怠失，爰依法提案糾正\n",
      "行政院新聞局\n",
      "52587.pdf\n"
     ]
    }
   ],
   "source": [
    "# query = \"查詢: 行政院原住民委員會的採購案\"\n",
    "# embedding_vector = embeddings.embed_query(query)\n",
    "# docs = vectorstore.similarity_search_by_vector(embedding_vector, k=1)\n",
    "\n",
    "# match_content_list = []\n",
    "# for page in docs:\n",
    "#     match_content_list.append(page.page_content)\n",
    "#     print(page.page_content)\n",
    "#     print(page.metadata[\"target\"])\n",
    "#     print(page.metadata['document'])"
   ]
  },
  {
   "cell_type": "code",
   "execution_count": 35,
   "metadata": {},
   "outputs": [],
   "source": [
    "from langchain_google_genai import (\n",
    "    ChatGoogleGenerativeAI,\n",
    "    HarmBlockThreshold,\n",
    "    HarmCategory,\n",
    ")\n",
    "\n",
    "llm = ChatGoogleGenerativeAI(\n",
    "    model=\"gemini-pro\",\n",
    "    convert_system_message_to_human=True,\n",
    "    safety_settings={\n",
    "        HarmCategory.HARM_CATEGORY_HATE_SPEECH: HarmBlockThreshold.BLOCK_NONE,\n",
    "        HarmCategory.HARM_CATEGORY_HARASSMENT: HarmBlockThreshold.BLOCK_NONE,\n",
    "        HarmCategory.HARM_CATEGORY_DANGEROUS_CONTENT: HarmBlockThreshold.BLOCK_NONE,\n",
    "    },\n",
    ")"
   ]
  },
  {
   "cell_type": "code",
   "execution_count": 74,
   "metadata": {},
   "outputs": [
    {
     "name": "stderr",
     "output_type": "stream",
     "text": [
      "e:\\miniconda3\\envs\\project_envelop\\lib\\site-packages\\langchain_google_genai\\chat_models.py:344: UserWarning: Convert_system_message_to_human will be deprecated!\n",
      "  warnings.warn(\"Convert_system_message_to_human will be deprecated!\")\n"
     ]
    },
    {
     "name": "stdout",
     "output_type": "stream",
     "text": [
      "行政院原住民委員會將原住民電視頻道的節目製作委託給公共電視文化事業基金會辦理，但與基金會在節目製作上意見分歧，導致糾紛不斷。行政院新聞局未積極研議法令或尋求解決方案，因此監察院糾正行政院新聞局。\n",
      "資料來源: 52587.pdf\n"
     ]
    }
   ],
   "source": [
    "def query_similarity_content(query, top_k=1):\n",
    "    embedding_vector = embeddings.embed_query(query)\n",
    "    docs = vectorstore.similarity_search_by_vector(embedding_vector, k=top_k)\n",
    "    reference = {}\n",
    "    for i, page in enumerate(docs):\n",
    "        # match_content_list.append(page.page_content)\n",
    "        reference[i] = {\n",
    "            \"reference_content\": page.page_content,\n",
    "            \"metadata\": page.metadata\n",
    "        }\n",
    "\n",
    "\n",
    "    template = \"\"\"\n",
    "    ### INSTRUCTION: 你是一位資深的監察院資料查詢專家。你的目標是解釋以下 REF 資料，用簡潔準確的方式説明其他人瞭解查詢到的相關內容。\",\n",
    "    ### REF: {reference}\n",
    "    ### USER: {query}\n",
    "    ### ASSISTANT: \"\"\"\n",
    "    prompt = PromptTemplate.from_template(template)\n",
    "    chain = prompt | llm\n",
    "    data = {\n",
    "          \"reference\": \" \".join(reference[0]['reference_content']),\n",
    "          \"query\": query,\n",
    "      }\n",
    "    return chain, data, reference\n",
    "\n",
    "query = \"行政院原住民委員會的相關資訊\"\n",
    "\n",
    "chain, data, reference = query_similarity_content(query)\n",
    "for s in chain.stream(data):\n",
    "    print(s.content, end=\"\", flush=True)\n",
    "    \n",
    "print(\"\\n資料來源:\", reference[0]['metadata']['document'])"
   ]
  }
 ],
 "metadata": {
  "kernelspec": {
   "display_name": "project_envelop",
   "language": "python",
   "name": "python3"
  },
  "language_info": {
   "codemirror_mode": {
    "name": "ipython",
    "version": 3
   },
   "file_extension": ".py",
   "mimetype": "text/x-python",
   "name": "python",
   "nbconvert_exporter": "python",
   "pygments_lexer": "ipython3",
   "version": "3.10.14"
  }
 },
 "nbformat": 4,
 "nbformat_minor": 2
}
