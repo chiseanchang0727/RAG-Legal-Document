{
 "cells": [
  {
   "cell_type": "code",
   "execution_count": 6,
   "metadata": {},
   "outputs": [
    {
     "name": "stderr",
     "output_type": "stream",
     "text": [
      "d:\\anaconda\\envs\\project_envelope\\lib\\site-packages\\tqdm\\auto.py:21: TqdmWarning: IProgress not found. Please update jupyter and ipywidgets. See https://ipywidgets.readthedocs.io/en/stable/user_install.html\n",
      "  from .autonotebook import tqdm as notebook_tqdm\n"
     ]
    }
   ],
   "source": [
    "import os\n",
    "import re\n",
    "import json\n",
    "import pandas as pd\n",
    "# from src.utils import read_config\n",
    "from prompts import gemini_prompts\n",
    "import google.generativeai as genai\n",
    "import google.ai.generativelanguage as glm\n",
    "\n",
    "from langchain_huggingface import HuggingFaceEmbeddings\n",
    "from langchain.document_loaders import DataFrameLoader\n",
    "from langchain.text_splitter import RecursiveCharacterTextSplitter\n",
    "from langchain_community.vectorstores.faiss import FAISS, DistanceStrategy\n",
    "from langchain.chains import RetrievalQA\n",
    "from langchain.chains import ConversationalRetrievalChain\n",
    "from langchain.prompts import PromptTemplate\n",
    "\n",
    "from langchain.chains.query_constructor.base import AttributeInfo\n",
    "from langchain.retrievers.self_query.base import SelfQueryRetriever\n",
    "from langchain_google_genai import (\n",
    "    ChatGoogleGenerativeAI,\n",
    "    HarmBlockThreshold,\n",
    "    HarmCategory,\n",
    ")\n",
    "\n",
    "import warnings\n",
    "warnings.filterwarnings(\"ignore\", category=DeprecationWarning)"
   ]
  },
  {
   "cell_type": "code",
   "execution_count": 23,
   "metadata": {},
   "outputs": [
    {
     "data": {
      "text/plain": [
       "(76, 5)"
      ]
     },
     "execution_count": 23,
     "metadata": {},
     "output_type": "execute_result"
    }
   ],
   "source": [
    "organized_result = pd.read_csv('temp_result/organized_result_2.csv')\n",
    "organized_result.shape"
   ]
  },
  {
   "cell_type": "code",
   "execution_count": 27,
   "metadata": {},
   "outputs": [
    {
     "data": {
      "text/html": [
       "<div>\n",
       "<style scoped>\n",
       "    .dataframe tbody tr th:only-of-type {\n",
       "        vertical-align: middle;\n",
       "    }\n",
       "\n",
       "    .dataframe tbody tr th {\n",
       "        vertical-align: top;\n",
       "    }\n",
       "\n",
       "    .dataframe thead th {\n",
       "        text-align: right;\n",
       "    }\n",
       "</style>\n",
       "<table border=\"1\" class=\"dataframe\">\n",
       "  <thead>\n",
       "    <tr style=\"text-align: right;\">\n",
       "      <th></th>\n",
       "      <th>document</th>\n",
       "      <th>target</th>\n",
       "      <th>reason</th>\n",
       "      <th>fact</th>\n",
       "      <th>metadata</th>\n",
       "    </tr>\n",
       "  </thead>\n",
       "  <tbody>\n",
       "    <tr>\n",
       "      <th>0</th>\n",
       "      <td>34829.pdf</td>\n",
       "      <td>行政院原住民族委員會及花蓮縣政府</td>\n",
       "      <td>花蓮區漁會辦理「三機一體彩色漁探衛星導航電子海圖儀及船用ＤＳＢ無線電對講機採購案」，未能確實...</td>\n",
       "      <td>據立法委員函轉民眾陳訴行政院原住民族委員會(下稱原民會)補助花蓮區漁會給二予漁民架設衛星導航...</td>\n",
       "      <td>{'kw': \"['政府', '行政院', '案件', '原住民', '計畫', '漁探機'...</td>\n",
       "    </tr>\n",
       "    <tr>\n",
       "      <th>1</th>\n",
       "      <td>34838.pdf</td>\n",
       "      <td>行政院衛生署</td>\n",
       "      <td>為行政院衛生署辦理九十至九十三年度補、捐助計畫，經該署檢討至少計一二五項計畫應以委辦而竟以補...</td>\n",
       "      <td>本案係立法院鄭委員三元向本院陳訴略以「行政院衛生署將應以委辦執行之經費，改由補助費方式辦理，...</td>\n",
       "      <td>{'kw': \"['計畫', '捐助', '年度', '行政院', '案件', '意旨', ...</td>\n",
       "    </tr>\n",
       "    <tr>\n",
       "      <th>2</th>\n",
       "      <td>36946.pdf</td>\n",
       "      <td>台北縣萬里鄉公所、台北市政府、基隆市政府、台北縣政府</td>\n",
       "      <td>台北市政府、基隆市政府及台北縣政府未善盡土地使用管制、環境污染稽查及申報資料勾稽、查核之責，...</td>\n",
       "      <td>本案緣陳訴人檢附採證照片陳訴台北市政府核准設立之新生代環境清潔公司（下二稱新生代公司）、統徠...</td>\n",
       "      <td>{'kw': \"['政府', '公司', '清除', '垃圾', '顯有', '核准', '...</td>\n",
       "    </tr>\n",
       "    <tr>\n",
       "      <th>3</th>\n",
       "      <td>36997.pdf</td>\n",
       "      <td>行政院國軍退除役官兵輔導委員會台北榮民總醫院</td>\n",
       "      <td>行政院國軍退除役官兵輔導委員會台北榮民總醫院辦理「醫學科技大樓法定停車場工程」興建發包作業，...</td>\n",
       "      <td>本案前經審計部函報行政院國軍退除役官兵輔導委員會（以下簡稱退輔會）台北榮民總醫院（以下簡稱台...</td>\n",
       "      <td>{'kw': \"['工程', '提升', '於九', '法定', '完成', '台北', '...</td>\n",
       "    </tr>\n",
       "    <tr>\n",
       "      <th>4</th>\n",
       "      <td>37008.pdf</td>\n",
       "      <td>行政院國軍退除役官兵輔導委員會</td>\n",
       "      <td>為行政院國軍退除役官兵輔導委員會為改善所屬十一所榮民醫院及十八所安養機構之污水處理廠及衛生下...</td>\n",
       "      <td>行政院國軍退除役官兵輔導委員會﹙以下簡稱退輔會﹚為改善所屬十一所榮民醫院及十八所安養機構之廢...</td>\n",
       "      <td>{'kw': \"['工程', '政府', '下水道', '方式', '核有', '污水', ...</td>\n",
       "    </tr>\n",
       "  </tbody>\n",
       "</table>\n",
       "</div>"
      ],
      "text/plain": [
       "    document                      target  \\\n",
       "0  34829.pdf            行政院原住民族委員會及花蓮縣政府   \n",
       "1  34838.pdf                      行政院衛生署   \n",
       "2  36946.pdf  台北縣萬里鄉公所、台北市政府、基隆市政府、台北縣政府   \n",
       "3  36997.pdf      行政院國軍退除役官兵輔導委員會台北榮民總醫院   \n",
       "4  37008.pdf             行政院國軍退除役官兵輔導委員會   \n",
       "\n",
       "                                              reason  \\\n",
       "0  花蓮區漁會辦理「三機一體彩色漁探衛星導航電子海圖儀及船用ＤＳＢ無線電對講機採購案」，未能確實...   \n",
       "1  為行政院衛生署辦理九十至九十三年度補、捐助計畫，經該署檢討至少計一二五項計畫應以委辦而竟以補...   \n",
       "2  台北市政府、基隆市政府及台北縣政府未善盡土地使用管制、環境污染稽查及申報資料勾稽、查核之責，...   \n",
       "3  行政院國軍退除役官兵輔導委員會台北榮民總醫院辦理「醫學科技大樓法定停車場工程」興建發包作業，...   \n",
       "4  為行政院國軍退除役官兵輔導委員會為改善所屬十一所榮民醫院及十八所安養機構之污水處理廠及衛生下...   \n",
       "\n",
       "                                                fact  \\\n",
       "0  據立法委員函轉民眾陳訴行政院原住民族委員會(下稱原民會)補助花蓮區漁會給二予漁民架設衛星導航...   \n",
       "1  本案係立法院鄭委員三元向本院陳訴略以「行政院衛生署將應以委辦執行之經費，改由補助費方式辦理，...   \n",
       "2  本案緣陳訴人檢附採證照片陳訴台北市政府核准設立之新生代環境清潔公司（下二稱新生代公司）、統徠...   \n",
       "3  本案前經審計部函報行政院國軍退除役官兵輔導委員會（以下簡稱退輔會）台北榮民總醫院（以下簡稱台...   \n",
       "4  行政院國軍退除役官兵輔導委員會﹙以下簡稱退輔會﹚為改善所屬十一所榮民醫院及十八所安養機構之廢...   \n",
       "\n",
       "                                            metadata  \n",
       "0  {'kw': \"['政府', '行政院', '案件', '原住民', '計畫', '漁探機'...  \n",
       "1  {'kw': \"['計畫', '捐助', '年度', '行政院', '案件', '意旨', ...  \n",
       "2  {'kw': \"['政府', '公司', '清除', '垃圾', '顯有', '核准', '...  \n",
       "3  {'kw': \"['工程', '提升', '於九', '法定', '完成', '台北', '...  \n",
       "4  {'kw': \"['工程', '政府', '下水道', '方式', '核有', '污水', ...  "
      ]
     },
     "execution_count": 27,
     "metadata": {},
     "output_type": "execute_result"
    }
   ],
   "source": [
    "test_data = organized_result.iloc[:5]\n",
    "test_data"
   ]
  },
  {
   "cell_type": "code",
   "execution_count": 38,
   "metadata": {},
   "outputs": [
    {
     "name": "stdout",
     "output_type": "stream",
     "text": [
      "花蓮區漁會辦理「三機一體彩色漁探衛星導航電子海圖儀及船用ＤＳＢ無線電對講機採購案」，未能確實依政府採購法之規定辦理，採購作業錯誤叢生，補助機關行政院原住民族委員會及花蓮縣政府原住民行政局顯然疏於監督；又花蓮區漁會辦理該採購案，未依規定辦理驗收作業，核銷時亦未檢附初驗紀錄及驗收紀錄，惟花蓮縣政府卻仍予付款，顯未覈實辦理核銷及善盡審核監督之責；該府對於補助案件未訂定明確作業規範，以供受補助單位辦理採購案件時應行遵循事項、採購案件之監辦、經費核銷、及追蹤考核之依據；行政院原住民族委員會對於「原住民新部落運動計畫｜部落社區發展計畫｜東海岸原住民漁業輔導計畫」補助款納入花蓮縣政府預算執行，惟未要求該府訂立補助款作業規範，亦未確實監督其執行情形，而查證工作流於形式；行政院原住民族委員會遲延查復立法委員及本院函詢有關花蓮區漁會辦理衛星定位儀(三合一漁探機)ＧＰＳ採購案，行政效率不彰等情，均有重大違失，爰依監察法第二十四條規定提案糾正\n",
      "為行政院衛生署辦理九十至九十三年度補、捐助計畫，經該署檢討至少計一二五項計畫應以委辦而竟以補、捐助方式辦理；又其中該署補、捐助受該署監督之財團法人國家衛生研究院至少計二十三項計畫亦有應以委辦而竟以補、捐助方式辦理，核與政府採購法以及預算相關法令規定有違，且該署九十二年之前對補、捐助對象、條件、金額標準、經費用途、審查標準、作業程序、督導考核等未訂定明確、公開及客觀之規範；又該署九十至九十三年度委辦、補、捐助單位，核有連續二年度補助相同單位計有八十案（計畫）、一六三單位；連續三年度補助相同單位計有三十八案(計畫)，一○八單位；連續四年度補助相同單位計有二十四案(計畫)，一三一單位之情事，該署未依行政院所屬各機關委託研究計畫管理辦法第十三條規定，列為該署計畫成效查核重點；另九十年至九十三年該署暨所屬藥物食品檢驗局、中央健康保險局人員等至少十三人次之國外旅費計一百餘萬元，竟於接受該署所補助經費項下列支，其中六人次於返國後復未曾向行政院研考會網站登錄出國報告等，顯係規避「公教人員申請出國案件審核要點」之規定，且與公務員服務法第五條及第二十一條第四款規定意旨亦有二未合等均涉有違失，爰依法提案糾正\n",
      "台北市政府、基隆市政府及台北縣政府未善盡土地使用管制、環境污染稽查及申報資料勾稽、查核之責，任令轄內違法垃圾轉運站、民營廢棄物清除機構及地方環境保護執行機關長期違規妄為；而台北縣萬里鄉公所現有清運負荷，顯未逾鄰近鄉、鎮、市公所，卻委託路西亞國際股份有限公司清運該轄區垃圾，洵欠缺必要性與急迫性；復明知轄內垃圾清運量每日未逾二十公噸，竟擅以三十公噸虛載於委外轉運計畫，並逕換算成公開招標之預算金額，與該公司簽署之合約，偽載該公司未經許可之清運機具，於招標規範中亦擅自要求得標廠商之清除機具於外觀上加註該所垃圾車之字樣，又無視廢棄物清理法規定，未報經台北縣政府環境保護局核准，即擅自辦理委託民營廢棄物清除機構清運該鄉廢棄物之公開招標事宜，嗣未重新辦理公開招標或報經台北縣政府核准，逕擅與該公司續簽署委外清運合約，顯有圖利不法之嫌；上開機關均顯有重大違失，爰依監察法第二十四條規定提案糾正\n",
      "行政院國軍退除役官兵輔導委員會台北榮民總醫院辦理「醫學科技大樓法定停車場工程」興建發包作業，本應於九十三年三月完成該大樓設計後始能發包，卻於九十年十二月為提升醫學科技大樓興建計畫預算執行率，採統包之方式對外招標；又誤解法令規定，不當限定本案工程廠商投標資格，不符政府對廠商競爭力提升之美意；復辦理停車場工程簽約作業，未依廠商服務建議書所列履約工期辦理，逕自延長工程履約期程；辦理本案工程監造評選作業，未依評選辦法及招標頇知所定，妥適將廠商投標金額按權重納入評選考量，均核有違失\n",
      "為行政院國軍退除役官兵輔導委員會為改善所屬十一所榮民醫院及十八所安養機構之污水處理廠及衛生下水道工程，未經蒐集商情資訊，即片面指定採購專利設備，決策過程草率，又其所屬單位辦理該等工程時，曲解採購法規，採不當方式發包、擴增發包範圍，且發包對象端憑專利授權廠商決定，使市場競爭機制蕩然無存，明顯違反政府採購法相關規定，該會均未盡督導之職，核有嚴重疏失，爰依法提案糾正\n"
     ]
    }
   ],
   "source": [
    "input_data = 'reason'\n",
    "for index, row in test_data.iterrows():\n",
    "    print(row[input_data])"
   ]
  },
  {
   "cell_type": "code",
   "execution_count": 20,
   "metadata": {},
   "outputs": [],
   "source": [
    "llm = ChatGoogleGenerativeAI(\n",
    "    model=\"gemini-pro\",\n",
    "    convert_system_message_to_human=True,\n",
    "    safety_settings={\n",
    "        HarmCategory.HARM_CATEGORY_HATE_SPEECH: HarmBlockThreshold.BLOCK_NONE,\n",
    "        HarmCategory.HARM_CATEGORY_HARASSMENT: HarmBlockThreshold.BLOCK_NONE,\n",
    "        HarmCategory.HARM_CATEGORY_DANGEROUS_CONTENT: HarmBlockThreshold.BLOCK_NONE,\n",
    "    },\n",
    ")"
   ]
  },
  {
   "cell_type": "code",
   "execution_count": 39,
   "metadata": {},
   "outputs": [
    {
     "name": "stderr",
     "output_type": "stream",
     "text": [
      "e:\\miniconda3\\envs\\project_envelop\\lib\\site-packages\\langchain_google_genai\\chat_models.py:344: UserWarning: Convert_system_message_to_human will be deprecated!\n",
      "  warnings.warn(\"Convert_system_message_to_human will be deprecated!\")\n",
      "e:\\miniconda3\\envs\\project_envelop\\lib\\site-packages\\langchain_google_genai\\chat_models.py:344: UserWarning: Convert_system_message_to_human will be deprecated!\n",
      "  warnings.warn(\"Convert_system_message_to_human will be deprecated!\")\n"
     ]
    },
    {
     "ename": "ValueError",
     "evalue": "Length of values (3) does not match length of index (5)",
     "output_type": "error",
     "traceback": [
      "\u001b[1;31m---------------------------------------------------------------------------\u001b[0m",
      "\u001b[1;31mValueError\u001b[0m                                Traceback (most recent call last)",
      "Cell \u001b[1;32mIn[39], line 24\u001b[0m\n\u001b[0;32m     21\u001b[0m triple_json_result \u001b[38;5;241m=\u001b[39m re\u001b[38;5;241m.\u001b[39msub(\u001b[38;5;124mr\u001b[39m\u001b[38;5;124m'\u001b[39m\u001b[38;5;124m[\u001b[39m\u001b[38;5;124m\\\u001b[39m\u001b[38;5;124mn]\u001b[39m\u001b[38;5;124m'\u001b[39m,\u001b[38;5;124m'\u001b[39m\u001b[38;5;124m'\u001b[39m,to_json_response\u001b[38;5;241m.\u001b[39mcontent)\n\u001b[0;32m     22\u001b[0m triple_json_result \u001b[38;5;241m=\u001b[39m json\u001b[38;5;241m.\u001b[39mloads(\u001b[38;5;124mf\u001b[39m\u001b[38;5;124m'\u001b[39m\u001b[38;5;124m[\u001b[39m\u001b[38;5;132;01m{\u001b[39;00mtriple_json_result\u001b[38;5;132;01m}\u001b[39;00m\u001b[38;5;124m]\u001b[39m\u001b[38;5;124m'\u001b[39m)\n\u001b[1;32m---> 24\u001b[0m \u001b[43mtest_data\u001b[49m\u001b[43m[\u001b[49m\u001b[38;5;124;43m'\u001b[39;49m\u001b[38;5;124;43mkg\u001b[39;49m\u001b[38;5;124;43m'\u001b[39;49m\u001b[43m]\u001b[49m \u001b[38;5;241m=\u001b[39m triple_json_result\n",
      "File \u001b[1;32me:\\miniconda3\\envs\\project_envelop\\lib\\site-packages\\pandas\\core\\frame.py:4311\u001b[0m, in \u001b[0;36mDataFrame.__setitem__\u001b[1;34m(self, key, value)\u001b[0m\n\u001b[0;32m   4308\u001b[0m     \u001b[38;5;28mself\u001b[39m\u001b[38;5;241m.\u001b[39m_setitem_array([key], value)\n\u001b[0;32m   4309\u001b[0m \u001b[38;5;28;01melse\u001b[39;00m:\n\u001b[0;32m   4310\u001b[0m     \u001b[38;5;66;03m# set column\u001b[39;00m\n\u001b[1;32m-> 4311\u001b[0m     \u001b[38;5;28;43mself\u001b[39;49m\u001b[38;5;241;43m.\u001b[39;49m\u001b[43m_set_item\u001b[49m\u001b[43m(\u001b[49m\u001b[43mkey\u001b[49m\u001b[43m,\u001b[49m\u001b[43m \u001b[49m\u001b[43mvalue\u001b[49m\u001b[43m)\u001b[49m\n",
      "File \u001b[1;32me:\\miniconda3\\envs\\project_envelop\\lib\\site-packages\\pandas\\core\\frame.py:4524\u001b[0m, in \u001b[0;36mDataFrame._set_item\u001b[1;34m(self, key, value)\u001b[0m\n\u001b[0;32m   4514\u001b[0m \u001b[38;5;28;01mdef\u001b[39;00m \u001b[38;5;21m_set_item\u001b[39m(\u001b[38;5;28mself\u001b[39m, key, value) \u001b[38;5;241m-\u001b[39m\u001b[38;5;241m>\u001b[39m \u001b[38;5;28;01mNone\u001b[39;00m:\n\u001b[0;32m   4515\u001b[0m \u001b[38;5;250m    \u001b[39m\u001b[38;5;124;03m\"\"\"\u001b[39;00m\n\u001b[0;32m   4516\u001b[0m \u001b[38;5;124;03m    Add series to DataFrame in specified column.\u001b[39;00m\n\u001b[0;32m   4517\u001b[0m \n\u001b[1;32m   (...)\u001b[0m\n\u001b[0;32m   4522\u001b[0m \u001b[38;5;124;03m    ensure homogeneity.\u001b[39;00m\n\u001b[0;32m   4523\u001b[0m \u001b[38;5;124;03m    \"\"\"\u001b[39;00m\n\u001b[1;32m-> 4524\u001b[0m     value, refs \u001b[38;5;241m=\u001b[39m \u001b[38;5;28;43mself\u001b[39;49m\u001b[38;5;241;43m.\u001b[39;49m\u001b[43m_sanitize_column\u001b[49m\u001b[43m(\u001b[49m\u001b[43mvalue\u001b[49m\u001b[43m)\u001b[49m\n\u001b[0;32m   4526\u001b[0m     \u001b[38;5;28;01mif\u001b[39;00m (\n\u001b[0;32m   4527\u001b[0m         key \u001b[38;5;129;01min\u001b[39;00m \u001b[38;5;28mself\u001b[39m\u001b[38;5;241m.\u001b[39mcolumns\n\u001b[0;32m   4528\u001b[0m         \u001b[38;5;129;01mand\u001b[39;00m value\u001b[38;5;241m.\u001b[39mndim \u001b[38;5;241m==\u001b[39m \u001b[38;5;241m1\u001b[39m\n\u001b[0;32m   4529\u001b[0m         \u001b[38;5;129;01mand\u001b[39;00m \u001b[38;5;129;01mnot\u001b[39;00m \u001b[38;5;28misinstance\u001b[39m(value\u001b[38;5;241m.\u001b[39mdtype, ExtensionDtype)\n\u001b[0;32m   4530\u001b[0m     ):\n\u001b[0;32m   4531\u001b[0m         \u001b[38;5;66;03m# broadcast across multiple columns if necessary\u001b[39;00m\n\u001b[0;32m   4532\u001b[0m         \u001b[38;5;28;01mif\u001b[39;00m \u001b[38;5;129;01mnot\u001b[39;00m \u001b[38;5;28mself\u001b[39m\u001b[38;5;241m.\u001b[39mcolumns\u001b[38;5;241m.\u001b[39mis_unique \u001b[38;5;129;01mor\u001b[39;00m \u001b[38;5;28misinstance\u001b[39m(\u001b[38;5;28mself\u001b[39m\u001b[38;5;241m.\u001b[39mcolumns, MultiIndex):\n",
      "File \u001b[1;32me:\\miniconda3\\envs\\project_envelop\\lib\\site-packages\\pandas\\core\\frame.py:5266\u001b[0m, in \u001b[0;36mDataFrame._sanitize_column\u001b[1;34m(self, value)\u001b[0m\n\u001b[0;32m   5263\u001b[0m     \u001b[38;5;28;01mreturn\u001b[39;00m _reindex_for_setitem(value, \u001b[38;5;28mself\u001b[39m\u001b[38;5;241m.\u001b[39mindex)\n\u001b[0;32m   5265\u001b[0m \u001b[38;5;28;01mif\u001b[39;00m is_list_like(value):\n\u001b[1;32m-> 5266\u001b[0m     \u001b[43mcom\u001b[49m\u001b[38;5;241;43m.\u001b[39;49m\u001b[43mrequire_length_match\u001b[49m\u001b[43m(\u001b[49m\u001b[43mvalue\u001b[49m\u001b[43m,\u001b[49m\u001b[43m \u001b[49m\u001b[38;5;28;43mself\u001b[39;49m\u001b[38;5;241;43m.\u001b[39;49m\u001b[43mindex\u001b[49m\u001b[43m)\u001b[49m\n\u001b[0;32m   5267\u001b[0m arr \u001b[38;5;241m=\u001b[39m sanitize_array(value, \u001b[38;5;28mself\u001b[39m\u001b[38;5;241m.\u001b[39mindex, copy\u001b[38;5;241m=\u001b[39m\u001b[38;5;28;01mTrue\u001b[39;00m, allow_2d\u001b[38;5;241m=\u001b[39m\u001b[38;5;28;01mTrue\u001b[39;00m)\n\u001b[0;32m   5268\u001b[0m \u001b[38;5;28;01mif\u001b[39;00m (\n\u001b[0;32m   5269\u001b[0m     \u001b[38;5;28misinstance\u001b[39m(value, Index)\n\u001b[0;32m   5270\u001b[0m     \u001b[38;5;129;01mand\u001b[39;00m value\u001b[38;5;241m.\u001b[39mdtype \u001b[38;5;241m==\u001b[39m \u001b[38;5;124m\"\u001b[39m\u001b[38;5;124mobject\u001b[39m\u001b[38;5;124m\"\u001b[39m\n\u001b[1;32m   (...)\u001b[0m\n\u001b[0;32m   5273\u001b[0m     \u001b[38;5;66;03m# TODO: Remove kludge in sanitize_array for string mode when enforcing\u001b[39;00m\n\u001b[0;32m   5274\u001b[0m     \u001b[38;5;66;03m# this deprecation\u001b[39;00m\n",
      "File \u001b[1;32me:\\miniconda3\\envs\\project_envelop\\lib\\site-packages\\pandas\\core\\common.py:573\u001b[0m, in \u001b[0;36mrequire_length_match\u001b[1;34m(data, index)\u001b[0m\n\u001b[0;32m    569\u001b[0m \u001b[38;5;250m\u001b[39m\u001b[38;5;124;03m\"\"\"\u001b[39;00m\n\u001b[0;32m    570\u001b[0m \u001b[38;5;124;03mCheck the length of data matches the length of the index.\u001b[39;00m\n\u001b[0;32m    571\u001b[0m \u001b[38;5;124;03m\"\"\"\u001b[39;00m\n\u001b[0;32m    572\u001b[0m \u001b[38;5;28;01mif\u001b[39;00m \u001b[38;5;28mlen\u001b[39m(data) \u001b[38;5;241m!=\u001b[39m \u001b[38;5;28mlen\u001b[39m(index):\n\u001b[1;32m--> 573\u001b[0m     \u001b[38;5;28;01mraise\u001b[39;00m \u001b[38;5;167;01mValueError\u001b[39;00m(\n\u001b[0;32m    574\u001b[0m         \u001b[38;5;124m\"\u001b[39m\u001b[38;5;124mLength of values \u001b[39m\u001b[38;5;124m\"\u001b[39m\n\u001b[0;32m    575\u001b[0m         \u001b[38;5;124mf\u001b[39m\u001b[38;5;124m\"\u001b[39m\u001b[38;5;124m(\u001b[39m\u001b[38;5;132;01m{\u001b[39;00m\u001b[38;5;28mlen\u001b[39m(data)\u001b[38;5;132;01m}\u001b[39;00m\u001b[38;5;124m) \u001b[39m\u001b[38;5;124m\"\u001b[39m\n\u001b[0;32m    576\u001b[0m         \u001b[38;5;124m\"\u001b[39m\u001b[38;5;124mdoes not match length of index \u001b[39m\u001b[38;5;124m\"\u001b[39m\n\u001b[0;32m    577\u001b[0m         \u001b[38;5;124mf\u001b[39m\u001b[38;5;124m\"\u001b[39m\u001b[38;5;124m(\u001b[39m\u001b[38;5;132;01m{\u001b[39;00m\u001b[38;5;28mlen\u001b[39m(index)\u001b[38;5;132;01m}\u001b[39;00m\u001b[38;5;124m)\u001b[39m\u001b[38;5;124m\"\u001b[39m\n\u001b[0;32m    578\u001b[0m     )\n",
      "\u001b[1;31mValueError\u001b[0m: Length of values (3) does not match length of index (5)"
     ]
    }
   ],
   "source": [
    "for index, row in test_data.iterrows():\n",
    "    \n",
    "    triple_prompt = PromptTemplate.from_template(gemini_prompts.TRIPLE_PROMPT)\n",
    "    chain = triple_prompt | llm\n",
    "    triple_data = {\n",
    "        \"reference\": row['reason']\n",
    "    }\n",
    "\n",
    "    triple_response = chain.invoke(triple_data)\n",
    "\n",
    "    triple_response_result = re.sub(r'[```json\\n]', '', triple_response.content).replace(\"實體\", \"entity\").replace(\"關係\", \"relationship\").split(\"、\")[0]\n",
    "\n",
    "    to_json_prompt = PromptTemplate.from_template(gemini_prompts.TO_JSON_PROMPT)\n",
    "    chain = to_json_prompt | llm\n",
    "    data = {\n",
    "        \"reference\": triple_response_result\n",
    "    }\n",
    "\n",
    "    to_json_response = chain.invoke(data)\n",
    "    \n",
    "    triple_json_result = re.sub(r'[\\n]','',to_json_response.content)\n",
    "    triple_json_result = json.loads(f'[{triple_json_result}]')\n",
    "    \n",
    "    test_data['kg'] = triple_json_result\n",
    "    \n",
    "    "
   ]
  },
  {
   "cell_type": "code",
   "execution_count": 46,
   "metadata": {},
   "outputs": [
    {
     "name": "stderr",
     "output_type": "stream",
     "text": [
      "C:\\Users\\Sean\\AppData\\Local\\Temp\\ipykernel_20164\\3317704654.py:1: SettingWithCopyWarning: \n",
      "A value is trying to be set on a copy of a slice from a DataFrame.\n",
      "Try using .loc[row_indexer,col_indexer] = value instead\n",
      "\n",
      "See the caveats in the documentation: https://pandas.pydata.org/pandas-docs/stable/user_guide/indexing.html#returning-a-view-versus-a-copy\n",
      "  test_data['kg'] = str(triple_json_result)\n"
     ]
    }
   ],
   "source": [
    "test_data['kg'] = str(triple_json_result)"
   ]
  },
  {
   "cell_type": "code",
   "execution_count": 47,
   "metadata": {},
   "outputs": [
    {
     "data": {
      "text/html": [
       "<div>\n",
       "<style scoped>\n",
       "    .dataframe tbody tr th:only-of-type {\n",
       "        vertical-align: middle;\n",
       "    }\n",
       "\n",
       "    .dataframe tbody tr th {\n",
       "        vertical-align: top;\n",
       "    }\n",
       "\n",
       "    .dataframe thead th {\n",
       "        text-align: right;\n",
       "    }\n",
       "</style>\n",
       "<table border=\"1\" class=\"dataframe\">\n",
       "  <thead>\n",
       "    <tr style=\"text-align: right;\">\n",
       "      <th></th>\n",
       "      <th>document</th>\n",
       "      <th>target</th>\n",
       "      <th>reason</th>\n",
       "      <th>fact</th>\n",
       "      <th>metadata</th>\n",
       "      <th>kg</th>\n",
       "    </tr>\n",
       "  </thead>\n",
       "  <tbody>\n",
       "    <tr>\n",
       "      <th>0</th>\n",
       "      <td>34829.pdf</td>\n",
       "      <td>行政院原住民族委員會及花蓮縣政府</td>\n",
       "      <td>花蓮區漁會辦理「三機一體彩色漁探衛星導航電子海圖儀及船用ＤＳＢ無線電對講機採購案」，未能確實...</td>\n",
       "      <td>據立法委員函轉民眾陳訴行政院原住民族委員會(下稱原民會)補助花蓮區漁會給二予漁民架設衛星導航...</td>\n",
       "      <td>{'kw': \"['政府', '行政院', '案件', '原住民', '計畫', '漁探機'...</td>\n",
       "      <td>[{'entity1': '花蓮區漁會', 'relationship': '辦理', 'e...</td>\n",
       "    </tr>\n",
       "    <tr>\n",
       "      <th>1</th>\n",
       "      <td>34838.pdf</td>\n",
       "      <td>行政院衛生署</td>\n",
       "      <td>為行政院衛生署辦理九十至九十三年度補、捐助計畫，經該署檢討至少計一二五項計畫應以委辦而竟以補...</td>\n",
       "      <td>本案係立法院鄭委員三元向本院陳訴略以「行政院衛生署將應以委辦執行之經費，改由補助費方式辦理，...</td>\n",
       "      <td>{'kw': \"['計畫', '捐助', '年度', '行政院', '案件', '意旨', ...</td>\n",
       "      <td>[{'entity1': '花蓮區漁會', 'relationship': '辦理', 'e...</td>\n",
       "    </tr>\n",
       "    <tr>\n",
       "      <th>2</th>\n",
       "      <td>36946.pdf</td>\n",
       "      <td>台北縣萬里鄉公所、台北市政府、基隆市政府、台北縣政府</td>\n",
       "      <td>台北市政府、基隆市政府及台北縣政府未善盡土地使用管制、環境污染稽查及申報資料勾稽、查核之責，...</td>\n",
       "      <td>本案緣陳訴人檢附採證照片陳訴台北市政府核准設立之新生代環境清潔公司（下二稱新生代公司）、統徠...</td>\n",
       "      <td>{'kw': \"['政府', '公司', '清除', '垃圾', '顯有', '核准', '...</td>\n",
       "      <td>[{'entity1': '花蓮區漁會', 'relationship': '辦理', 'e...</td>\n",
       "    </tr>\n",
       "    <tr>\n",
       "      <th>3</th>\n",
       "      <td>36997.pdf</td>\n",
       "      <td>行政院國軍退除役官兵輔導委員會台北榮民總醫院</td>\n",
       "      <td>行政院國軍退除役官兵輔導委員會台北榮民總醫院辦理「醫學科技大樓法定停車場工程」興建發包作業，...</td>\n",
       "      <td>本案前經審計部函報行政院國軍退除役官兵輔導委員會（以下簡稱退輔會）台北榮民總醫院（以下簡稱台...</td>\n",
       "      <td>{'kw': \"['工程', '提升', '於九', '法定', '完成', '台北', '...</td>\n",
       "      <td>[{'entity1': '花蓮區漁會', 'relationship': '辦理', 'e...</td>\n",
       "    </tr>\n",
       "    <tr>\n",
       "      <th>4</th>\n",
       "      <td>37008.pdf</td>\n",
       "      <td>行政院國軍退除役官兵輔導委員會</td>\n",
       "      <td>為行政院國軍退除役官兵輔導委員會為改善所屬十一所榮民醫院及十八所安養機構之污水處理廠及衛生下...</td>\n",
       "      <td>行政院國軍退除役官兵輔導委員會﹙以下簡稱退輔會﹚為改善所屬十一所榮民醫院及十八所安養機構之廢...</td>\n",
       "      <td>{'kw': \"['工程', '政府', '下水道', '方式', '核有', '污水', ...</td>\n",
       "      <td>[{'entity1': '花蓮區漁會', 'relationship': '辦理', 'e...</td>\n",
       "    </tr>\n",
       "  </tbody>\n",
       "</table>\n",
       "</div>"
      ],
      "text/plain": [
       "    document                      target  \\\n",
       "0  34829.pdf            行政院原住民族委員會及花蓮縣政府   \n",
       "1  34838.pdf                      行政院衛生署   \n",
       "2  36946.pdf  台北縣萬里鄉公所、台北市政府、基隆市政府、台北縣政府   \n",
       "3  36997.pdf      行政院國軍退除役官兵輔導委員會台北榮民總醫院   \n",
       "4  37008.pdf             行政院國軍退除役官兵輔導委員會   \n",
       "\n",
       "                                              reason  \\\n",
       "0  花蓮區漁會辦理「三機一體彩色漁探衛星導航電子海圖儀及船用ＤＳＢ無線電對講機採購案」，未能確實...   \n",
       "1  為行政院衛生署辦理九十至九十三年度補、捐助計畫，經該署檢討至少計一二五項計畫應以委辦而竟以補...   \n",
       "2  台北市政府、基隆市政府及台北縣政府未善盡土地使用管制、環境污染稽查及申報資料勾稽、查核之責，...   \n",
       "3  行政院國軍退除役官兵輔導委員會台北榮民總醫院辦理「醫學科技大樓法定停車場工程」興建發包作業，...   \n",
       "4  為行政院國軍退除役官兵輔導委員會為改善所屬十一所榮民醫院及十八所安養機構之污水處理廠及衛生下...   \n",
       "\n",
       "                                                fact  \\\n",
       "0  據立法委員函轉民眾陳訴行政院原住民族委員會(下稱原民會)補助花蓮區漁會給二予漁民架設衛星導航...   \n",
       "1  本案係立法院鄭委員三元向本院陳訴略以「行政院衛生署將應以委辦執行之經費，改由補助費方式辦理，...   \n",
       "2  本案緣陳訴人檢附採證照片陳訴台北市政府核准設立之新生代環境清潔公司（下二稱新生代公司）、統徠...   \n",
       "3  本案前經審計部函報行政院國軍退除役官兵輔導委員會（以下簡稱退輔會）台北榮民總醫院（以下簡稱台...   \n",
       "4  行政院國軍退除役官兵輔導委員會﹙以下簡稱退輔會﹚為改善所屬十一所榮民醫院及十八所安養機構之廢...   \n",
       "\n",
       "                                            metadata  \\\n",
       "0  {'kw': \"['政府', '行政院', '案件', '原住民', '計畫', '漁探機'...   \n",
       "1  {'kw': \"['計畫', '捐助', '年度', '行政院', '案件', '意旨', ...   \n",
       "2  {'kw': \"['政府', '公司', '清除', '垃圾', '顯有', '核准', '...   \n",
       "3  {'kw': \"['工程', '提升', '於九', '法定', '完成', '台北', '...   \n",
       "4  {'kw': \"['工程', '政府', '下水道', '方式', '核有', '污水', ...   \n",
       "\n",
       "                                                  kg  \n",
       "0  [{'entity1': '花蓮區漁會', 'relationship': '辦理', 'e...  \n",
       "1  [{'entity1': '花蓮區漁會', 'relationship': '辦理', 'e...  \n",
       "2  [{'entity1': '花蓮區漁會', 'relationship': '辦理', 'e...  \n",
       "3  [{'entity1': '花蓮區漁會', 'relationship': '辦理', 'e...  \n",
       "4  [{'entity1': '花蓮區漁會', 'relationship': '辦理', 'e...  "
      ]
     },
     "execution_count": 47,
     "metadata": {},
     "output_type": "execute_result"
    }
   ],
   "source": [
    "test_data"
   ]
  },
  {
   "cell_type": "code",
   "execution_count": 3,
   "metadata": {},
   "outputs": [],
   "source": [
    "configs = read_config('.env/configs.json')\n",
    "api_key =configs['g_key']\n",
    "os.environ[\"GOOGLE_API_KEY\"] = api_key\n",
    "genai.configure(api_key=api_key)"
   ]
  },
  {
   "cell_type": "code",
   "execution_count": 4,
   "metadata": {},
   "outputs": [],
   "source": [
    "text_splitter = RecursiveCharacterTextSplitter(\n",
    "    chunk_size = 1000,\n",
    "    chunk_overlap = 500,\n",
    "    length_function= len\n",
    ")"
   ]
  }
 ],
 "metadata": {
  "kernelspec": {
   "display_name": "project_envelop",
   "language": "python",
   "name": "python3"
  },
  "language_info": {
   "codemirror_mode": {
    "name": "ipython",
    "version": 3
   },
   "file_extension": ".py",
   "mimetype": "text/x-python",
   "name": "python",
   "nbconvert_exporter": "python",
   "pygments_lexer": "ipython3",
   "version": "3.10.14"
  }
 },
 "nbformat": 4,
 "nbformat_minor": 2
}
